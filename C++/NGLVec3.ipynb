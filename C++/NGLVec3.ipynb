{
 "cells": [
  {
   "cell_type": "code",
   "execution_count": 1,
   "metadata": {},
   "outputs": [],
   "source": [
    "// You will need to modify these paths to suit\n",
    "#pragma cling add_library_path(\"/Users/jmacey/NGL/lib\")\n",
    "#pragma cling load(\"/Users/jmacey/NGL/lib/libNGL.dylib\")\n",
    "#pragma cling add_include_path(\"/Users/jmacey/NGL/include\")"
   ]
  },
  {
   "cell_type": "markdown",
   "metadata": {},
   "source": [
    "# ngl::Vec3\n",
    "\n",
    "The ```ngl::Vec3``` class is a simple vector of floats class"
   ]
  },
  {
   "cell_type": "code",
   "execution_count": 2,
   "metadata": {},
   "outputs": [],
   "source": [
    "#include <ngl/Vec3.h>\n",
    "#include <ngl/NGLStream.h> // for printing\n",
    "#include <iostream>"
   ]
  },
  {
   "cell_type": "markdown",
   "metadata": {},
   "source": [
    "To construct an ```ngl::Vec3``` we can do the following"
   ]
  },
  {
   "cell_type": "code",
   "execution_count": 4,
   "metadata": {},
   "outputs": [
    {
     "name": "stdout",
     "output_type": "stream",
     "text": [
      "default [0,0,0]\n",
      "user [1,2,3]\n",
      "one [0.5,0.5,0.5]\n"
     ]
    }
   ],
   "source": [
    "{\n",
    "    ngl::Vec3 defaultCtor;\n",
    "    ngl::Vec3 user(1.0f,2.0f,3.0f);\n",
    "    ngl::Vec3 one(0.5f);\n",
    "    std::cout<<\"default \"<<defaultCtor<<'\\n';\n",
    "    std::cout<<\"user \"<<user<<'\\n';\n",
    "    std::cout<<\"one \"<<one<<'\\n';\n",
    "}"
   ]
  },
  {
   "cell_type": "markdown",
   "metadata": {},
   "source": [
    "All of the attributes in a Vec3 are public and can be accessed in the following ways"
   ]
  },
  {
   "cell_type": "code",
   "execution_count": 8,
   "metadata": {},
   "outputs": [
    {
     "name": "stdout",
     "output_type": "stream",
     "text": [
      "1 2 3\n",
      "1 2 3\n",
      "1 2 3\n",
      "Modified v [102,2,-7]\n"
     ]
    }
   ],
   "source": [
    "{\n",
    "    auto v=ngl::Vec3(1.0f,2.0f,3.0f); // Note call to copy ctor\n",
    "    // as x,y,z\n",
    "    std::cout<<v.m_x<<' '<<v.m_y<<' '<<v.m_z<<'\\n';\n",
    "    // as r,g,b (for colours)\n",
    "    std::cout<<v.m_r<<' '<<v.m_g<<' '<<v.m_b<<'\\n';\n",
    "    // or as an array\n",
    "    std::cout<<v.m_openGL[0]<<' '<<v.m_openGL[1]<<' '<<v.m_openGL[2]<<'\\n';\n",
    "   // We can modify elements as well\n",
    "    v.m_x=99.0f;\n",
    "    v.m_r+=3.0f;\n",
    "    v.m_openGL[2]-=10.0f;\n",
    "    std::cout<<\"Modified v \"<<v<<'\\n';\n",
    "}"
   ]
  },
  {
   "cell_type": "markdown",
   "metadata": {},
   "source": [
    "## Mathematical operations\n",
    "\n",
    "```ngl::Vec3``` has a number of math operations built in using Operator overloading"
   ]
  },
  {
   "cell_type": "code",
   "execution_count": 11,
   "metadata": {},
   "outputs": [
    {
     "name": "stdout",
     "output_type": "stream",
     "text": [
      "a+b = [0.3,0.5,0.7]\n",
      "a-b = [-0.1,-0.1,-0.1]\n",
      "a*b = [0.02,0.06,0.12]\n",
      "a/b = [0.5,0.666667,0.75]\n"
     ]
    }
   ],
   "source": [
    "{\n",
    "    ngl::Vec3 a(0.1f,0.2f,0.3f);\n",
    "    ngl::Vec3 b(0.2f,0.3f,0.4f);\n",
    "    std::cout<<\"a+b = \"<<a+b<<'\\n';\n",
    "    std::cout<<\"a-b = \"<<a-b<<'\\n';\n",
    "    std::cout<<\"a*b = \"<<a*b<<'\\n';\n",
    "    std::cout<<\"a/b = \"<<a/b<<'\\n';\n",
    "\n",
    "}"
   ]
  },
  {
   "cell_type": "code",
   "execution_count": null,
   "metadata": {},
   "outputs": [],
   "source": []
  }
 ],
 "metadata": {
  "kernelspec": {
   "display_name": "C++17",
   "language": "C++17",
   "name": "xeus-cling-cpp17"
  },
  "language_info": {
   "codemirror_mode": "text/x-c++src",
   "file_extension": ".cpp",
   "mimetype": "text/x-c++src",
   "name": "c++",
   "version": "-std=c++17"
  }
 },
 "nbformat": 4,
 "nbformat_minor": 2
}
