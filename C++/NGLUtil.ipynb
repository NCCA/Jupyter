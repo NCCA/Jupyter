{
 "cells": [
  {
   "cell_type": "markdown",
   "metadata": {},
   "source": [
    "# ngl::Util\n",
    "\n",
    "This header file includes a number of free functions for doing useful 3D graphics operations. The following demos explain what the functions do and how to use them."
   ]
  },
  {
   "cell_type": "code",
   "execution_count": 1,
   "metadata": {},
   "outputs": [],
   "source": [
    "// You will need to modify these paths to suit\n",
    "#pragma cling add_library_path(\"/Users/jmacey/NGL/lib\")\n",
    "#pragma cling load(\"/Users/jmacey/NGL/lib/libNGL.dylib\")\n",
    "#pragma cling add_include_path(\"/Users/jmacey/NGL/include\")\n"
   ]
  },
  {
   "cell_type": "code",
   "execution_count": 2,
   "metadata": {},
   "outputs": [],
   "source": [
    "#include <ngl/Util.h>\n",
    "#include <ngl/NGLStream.h> // for printing\n",
    "#include <iostream>\n"
   ]
  },
  {
   "cell_type": "code",
   "execution_count": 3,
   "metadata": {},
   "outputs": [
    {
     "name": "stderr",
     "output_type": "stream",
     "text": [
      "\u001b[1minput_line_9:2:16: \u001b[0m\u001b[0;1;31merror: \u001b[0m\u001b[1mcalling 'lookAt' with incomplete return type 'ngl::Mat4'\u001b[0m\n",
      "  auto lookNGL=ngl::lookAt({2.0f,2.0f,2.0f},{0.0f,0.0f,0.0f},{0.0f,1.0f,0.0f});\n",
      "\u001b[0;1;32m               ^~~~~~~~~~~~~~~~~~~~~~~~~~~~~~~~~~~~~~~~~~~~~~~~~~~~~~~~~~~~~~~\n",
      "\u001b[0m\u001b[1m/Users/jmacey/NGL/include/ngl/Util.h:121:20: \u001b[0m\u001b[0;1;30mnote: \u001b[0m'lookAt' declared here\u001b[0m\n",
      "NGL_DLLEXPORT Mat4 lookAt(const Vec3  & _eye,const Vec3  & _center,cons...\n",
      "\u001b[0;1;32m                   ^\n",
      "\u001b[0m\u001b[1m/Users/jmacey/NGL/include/ngl/Vec4.h:50:7: \u001b[0m\u001b[0;1;30mnote: \u001b[0mforward declaration of 'ngl::Mat4'\u001b[0m\n",
      "class Mat4;\n",
      "\u001b[0;1;32m      ^\n",
      "\u001b[0m"
     ]
    },
    {
     "ename": "Interpreter Error",
     "evalue": "",
     "output_type": "error",
     "traceback": [
      "Interpreter Error: "
     ]
    }
   ],
   "source": [
    " auto lookNGL=ngl::lookAt({2.0f,2.0f,2.0f},{0.0f,0.0f,0.0f},{0.0f,1.0f,0.0f});\n",
    "std::cout<<lookNGL<<'\\n';"
   ]
  },
  {
   "cell_type": "code",
   "execution_count": null,
   "metadata": {},
   "outputs": [],
   "source": []
  }
 ],
 "metadata": {
  "kernelspec": {
   "display_name": "C++17",
   "language": "C++17",
   "name": "xeus-cling-cpp17"
  },
  "language_info": {
   "codemirror_mode": "text/x-c++src",
   "file_extension": ".cpp",
   "mimetype": "text/x-c++src",
   "name": "c++",
   "version": "-std=c++17"
  }
 },
 "nbformat": 4,
 "nbformat_minor": 2
}
