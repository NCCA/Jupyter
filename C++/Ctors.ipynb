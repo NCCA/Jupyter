{
 "cells": [
  {
   "cell_type": "markdown",
   "metadata": {},
   "source": [
    "# C++ Constructors\n",
    "\n",
    "The following examples show different way of invoking constructors in modern c++\n",
    "\n",
    "First we define a simple class."
   ]
  },
  {
   "cell_type": "code",
   "execution_count": 2,
   "metadata": {},
   "outputs": [],
   "source": [
    "#include <iostream>\n",
    "#include <memory>\n",
    "#include <vector>\n",
    "\n",
    "class MyClass\n",
    "{\n",
    "    public :\n",
    "      MyClass(){std::cout<<\"Default Ctor\\n\";} \n",
    "      MyClass(const MyClass &_a): m_a{_a.m_a}{std::cout<<\"Copy Ctor\\n\";}\n",
    "      MyClass( MyClass &&_a): m_a{_a.m_a}{std::cout<<\"Move Ctor\\n\";}\n",
    "      MyClass & operator=(const MyClass &){std::cout<<\"assignment operator\\n\"; return *this;}\n",
    "      MyClass & operator=(MyClass &&){std::cout<<\"Move assignment operator\\n\"; return *this;}\n",
    "      MyClass(int _a) : m_a{_a}{std::cout<<\"User Defined ctor int \"<<_a<<'\\n';}\n",
    "      MyClass(char _a) : m_a{_a}{std::cout<<\"User Defined ctor char \"<<_a<<'\\n';}\n",
    "      ~MyClass(){std::cout<<\"Dtor \"<<m_a<<'\\n';}\n",
    "    private :\n",
    "        int m_a=0;\n",
    "};\n"
   ]
  },
  {
   "cell_type": "markdown",
   "metadata": {},
   "source": [
    "To invoke the default constructor we just use the following (also we are going to use {} to denote scope and see the automatic calling of the destructor."
   ]
  },
  {
   "cell_type": "code",
   "execution_count": null,
   "metadata": {},
   "outputs": [],
   "source": [
    "{\n",
    "    MyClass m;\n",
    "}"
   ]
  },
  {
   "cell_type": "markdown",
   "metadata": {},
   "source": [
    "In this case we have several user defined constructors where the type is determined by the arguments (note that 99 is the char 'c')"
   ]
  },
  {
   "cell_type": "code",
   "execution_count": null,
   "metadata": {},
   "outputs": [],
   "source": [
    "{\n",
    "    MyClass withInt(1);\n",
    "    MyClass withChar('c');\n",
    "}"
   ]
  },
  {
   "cell_type": "markdown",
   "metadata": {},
   "source": [
    "Note that if we use non-defined types we can get errors due to lack of implicit conversion options"
   ]
  },
  {
   "cell_type": "code",
   "execution_count": null,
   "metadata": {},
   "outputs": [],
   "source": [
    "{\n",
    "    MyClass useDouble(1.0);\n",
    "    MyClass useFloat(1.0f);\n",
    "}"
   ]
  },
  {
   "cell_type": "markdown",
   "metadata": {},
   "source": [
    "We can use smart pointers to hold our classes note the call to the destructors (and the order) once we go out of scope"
   ]
  },
  {
   "cell_type": "code",
   "execution_count": null,
   "metadata": {},
   "outputs": [],
   "source": [
    "{\n",
    "    std::unique_ptr<MyClass> a=std::make_unique<MyClass>();\n",
    "    std::unique_ptr<MyClass> b=std::make_unique<MyClass>(1024);\n",
    "}"
   ]
  },
  {
   "cell_type": "code",
   "execution_count": null,
   "metadata": {},
   "outputs": [],
   "source": [
    "{\n",
    "    auto x=new MyClass(200);\n",
    "    std::unique_ptr<MyClass> fromPtr(std::move(x));\n",
    "}"
   ]
  },
  {
   "cell_type": "code",
   "execution_count": null,
   "metadata": {},
   "outputs": [],
   "source": [
    "{\n",
    "    auto x=MyClass(300);\n",
    "    auto b=x;\n",
    "}"
   ]
  },
  {
   "cell_type": "code",
   "execution_count": null,
   "metadata": {},
   "outputs": [],
   "source": [
    "{\n",
    "    std::vector<MyClass> a;\n",
    "    a.push_back(MyClass(100));\n",
    "}"
   ]
  },
  {
   "cell_type": "code",
   "execution_count": null,
   "metadata": {},
   "outputs": [],
   "source": [
    "{\n",
    "    std::vector<MyClass> a;\n",
    "    auto c=MyClass(900);\n",
    "    a.emplace_back(c);\n",
    "}"
   ]
  },
  {
   "cell_type": "code",
   "execution_count": null,
   "metadata": {},
   "outputs": [],
   "source": []
  }
 ],
 "metadata": {
  "kernelspec": {
   "display_name": "C++17",
   "language": "C++17",
   "name": "xeus-cling-cpp17"
  },
  "language_info": {
   "codemirror_mode": "text/x-c++src",
   "file_extension": ".cpp",
   "mimetype": "text/x-c++src",
   "name": "c++",
   "version": "-std=c++17"
  }
 },
 "nbformat": 4,
 "nbformat_minor": 2
}
