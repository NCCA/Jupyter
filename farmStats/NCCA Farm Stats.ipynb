{
 "cells": [
  {
   "cell_type": "markdown",
   "metadata": {},
   "source": [
    "# NCCA Renderfarm stats\n",
    "\n",
    "This data has been taken from the Qube logs and processed with a simple python script to csv we load the data into pandas for analysis"
   ]
  },
  {
   "cell_type": "code",
   "execution_count": 1,
   "metadata": {},
   "outputs": [
    {
     "data": {
      "text/html": [
       "<div>\n",
       "<style scoped>\n",
       "    .dataframe tbody tr th:only-of-type {\n",
       "        vertical-align: middle;\n",
       "    }\n",
       "\n",
       "    .dataframe tbody tr th {\n",
       "        vertical-align: top;\n",
       "    }\n",
       "\n",
       "    .dataframe thead th {\n",
       "        text-align: right;\n",
       "    }\n",
       "</style>\n",
       "<table border=\"1\" class=\"dataframe\">\n",
       "  <thead>\n",
       "    <tr style=\"text-align: right;\">\n",
       "      <th></th>\n",
       "      <th>duration</th>\n",
       "      <th>threads</th>\n",
       "      <th>memory</th>\n",
       "      <th>swap</th>\n",
       "    </tr>\n",
       "  </thead>\n",
       "  <tbody>\n",
       "    <tr>\n",
       "      <th>count</th>\n",
       "      <td>2.246200e+04</td>\n",
       "      <td>22462.000000</td>\n",
       "      <td>2.246200e+04</td>\n",
       "      <td>2.246200e+04</td>\n",
       "    </tr>\n",
       "    <tr>\n",
       "      <th>mean</th>\n",
       "      <td>1.175615e+04</td>\n",
       "      <td>5.655819</td>\n",
       "      <td>3.512936e+06</td>\n",
       "      <td>8.446007e+06</td>\n",
       "    </tr>\n",
       "    <tr>\n",
       "      <th>std</th>\n",
       "      <td>6.200974e+04</td>\n",
       "      <td>2.274417</td>\n",
       "      <td>4.304952e+06</td>\n",
       "      <td>1.688735e+07</td>\n",
       "    </tr>\n",
       "    <tr>\n",
       "      <th>min</th>\n",
       "      <td>1.000000e+00</td>\n",
       "      <td>0.000000</td>\n",
       "      <td>0.000000e+00</td>\n",
       "      <td>0.000000e+00</td>\n",
       "    </tr>\n",
       "    <tr>\n",
       "      <th>25%</th>\n",
       "      <td>2.470000e+02</td>\n",
       "      <td>5.000000</td>\n",
       "      <td>7.752680e+05</td>\n",
       "      <td>4.542075e+06</td>\n",
       "    </tr>\n",
       "    <tr>\n",
       "      <th>50%</th>\n",
       "      <td>1.939000e+03</td>\n",
       "      <td>5.000000</td>\n",
       "      <td>2.505386e+06</td>\n",
       "      <td>6.072354e+06</td>\n",
       "    </tr>\n",
       "    <tr>\n",
       "      <th>75%</th>\n",
       "      <td>9.013000e+03</td>\n",
       "      <td>7.000000</td>\n",
       "      <td>4.263101e+06</td>\n",
       "      <td>9.277891e+06</td>\n",
       "    </tr>\n",
       "    <tr>\n",
       "      <th>max</th>\n",
       "      <td>1.895886e+06</td>\n",
       "      <td>15.000000</td>\n",
       "      <td>5.482115e+07</td>\n",
       "      <td>1.605482e+09</td>\n",
       "    </tr>\n",
       "  </tbody>\n",
       "</table>\n",
       "</div>"
      ],
      "text/plain": [
       "           duration       threads        memory          swap\n",
       "count  2.246200e+04  22462.000000  2.246200e+04  2.246200e+04\n",
       "mean   1.175615e+04      5.655819  3.512936e+06  8.446007e+06\n",
       "std    6.200974e+04      2.274417  4.304952e+06  1.688735e+07\n",
       "min    1.000000e+00      0.000000  0.000000e+00  0.000000e+00\n",
       "25%    2.470000e+02      5.000000  7.752680e+05  4.542075e+06\n",
       "50%    1.939000e+03      5.000000  2.505386e+06  6.072354e+06\n",
       "75%    9.013000e+03      7.000000  4.263101e+06  9.277891e+06\n",
       "max    1.895886e+06     15.000000  5.482115e+07  1.605482e+09"
      ]
     },
     "execution_count": 1,
     "metadata": {},
     "output_type": "execute_result"
    }
   ],
   "source": [
    "import pandas as pd\n",
    "import matplotlib.pyplot as plt\n",
    "\n",
    "%matplotlib inline\n",
    "\n",
    "df = pd.read_csv('outfile.csv')\n",
    "# date duration durationString threads memory swap renderer\n",
    "df.describe()"
   ]
  },
  {
   "cell_type": "markdown",
   "metadata": {},
   "source": [
    "# Renderer usage by type"
   ]
  },
  {
   "cell_type": "code",
   "execution_count": 2,
   "metadata": {},
   "outputs": [
    {
     "name": "stdout",
     "output_type": "stream",
     "text": [
      "    Renderer  # Renders\n",
      "0    Houdini      14949\n",
      "2     Arnold       4576\n",
      "3       Vray       2543\n",
      "1    Unknown        389\n",
      "4  Renderman          5\n"
     ]
    }
   ],
   "source": [
    "table = [[\"Houdini\",df.renderer.str.count('houdini').sum()],\n",
    "         [\"Unknown\",df.renderer.str.count('unknown').sum()],\n",
    "         [\"Arnold\",df.renderer.str.count('maya arnold').sum()],\n",
    "         [\"Vray\",df.renderer.str.count('maya vray').sum()],\n",
    "        ['Renderman',df.renderer.str.count('Renderman').sum()]]\n",
    "renderers=pd.DataFrame(table, columns=[\"Renderer\", \"# Renders\"])\n",
    "renderers=renderers.sort_values(by=['# Renders'],ascending=False)\n",
    "print(renderers)\n"
   ]
  },
  {
   "cell_type": "markdown",
   "metadata": {},
   "source": [
    "# Typical Render times\n",
    "\n",
    "The following shows the typical render times per renderer, first we will define a function to process the data"
   ]
  },
  {
   "cell_type": "code",
   "execution_count": 3,
   "metadata": {},
   "outputs": [],
   "source": [
    "import time\n",
    "# from https://stackoverflow.com/questions/4048651/python-function-to-convert-seconds-into-minutes-hours-and-days\n",
    "def secondsToText(secs):\n",
    "    days = secs//86400\n",
    "    hours = (secs - days*86400)//3600\n",
    "    minutes = (secs - days*86400 - hours*3600)//60\n",
    "    seconds = secs - days*86400 - hours*3600 - minutes*60\n",
    "    result = (\"{0} day{1}, \".format(days, \"s\" if days!=1 else \"\") if days else \"\") + \\\n",
    "    (\"{0} hour{1}, \".format(hours, \"s\" if hours!=1 else \"\") if hours else \"\") + \\\n",
    "    (\"{0} minute{1}, \".format(minutes, \"s\" if minutes!=1 else \"\") if minutes else \"\") + \\\n",
    "    (\"{0} second{1}, \".format(seconds, \"s\" if seconds!=1 else \"\") if seconds else \"\")\n",
    "    return result\n",
    "\n",
    "def ProcessRenderStats(renderer) :\n",
    "    renderDF =  df[df['renderer'].str.contains(renderer)]\n",
    "    total=renderDF['duration'].sum()\n",
    "    print('Total time {0}'.format(secondsToText(total)))\n",
    "    print('Min duration (raw) {0} in time units {1}'.format(renderDF['duration'].min(),renderDF['durationString'][renderDF['duration'].idxmin]))\n",
    "    print('Max duration (raw) {0} in time units {1}'.format(renderDF['duration'].max(),renderDF['durationString'][renderDF['duration'].idxmax]))\n",
    "    print('Min memory {0}'.format(renderDF['memory'].min()))\n",
    "    print('Max memory {0}'.format(renderDF['memory'].max()))\n",
    "    print('Max swap {0}'.format(renderDF['swap'].max()))\n",
    "    \n",
    "    "
   ]
  },
  {
   "cell_type": "markdown",
   "metadata": {},
   "source": [
    "## Houdini\n"
   ]
  },
  {
   "cell_type": "code",
   "execution_count": 4,
   "metadata": {},
   "outputs": [
    {
     "name": "stdout",
     "output_type": "stream",
     "text": [
      "Total time 1672 days, 14 hours, 23 minutes, 13 seconds, \n",
      "Min duration (raw) 3 in time units 3 s\n",
      "Max duration (raw) 393451 in time units 109.2 h\n",
      "Min memory 0\n",
      "Max memory 54821148\n",
      "Max swap 59085308\n"
     ]
    }
   ],
   "source": [
    "ProcessRenderStats('houdini')"
   ]
  },
  {
   "cell_type": "markdown",
   "metadata": {},
   "source": [
    "# Maya Arnold"
   ]
  },
  {
   "cell_type": "code",
   "execution_count": 5,
   "metadata": {},
   "outputs": [
    {
     "name": "stdout",
     "output_type": "stream",
     "text": [
      "Total time 1000 days, 22 hours, 14 minutes, 52 seconds, \n",
      "Min duration (raw) 7 in time units 7 s\n",
      "Max duration (raw) 1895886 in time units 526.6 h\n",
      "Min memory 0\n",
      "Max memory 15310540\n",
      "Max swap 37384156\n"
     ]
    }
   ],
   "source": [
    "ProcessRenderStats('maya arnold')"
   ]
  },
  {
   "cell_type": "markdown",
   "metadata": {},
   "source": [
    "# Maya Vray"
   ]
  },
  {
   "cell_type": "code",
   "execution_count": 6,
   "metadata": {},
   "outputs": [
    {
     "name": "stdout",
     "output_type": "stream",
     "text": [
      "Total time 355 days, 15 hours, 56 minutes, 48 seconds, \n",
      "Min duration (raw) 5 in time units 5 s\n",
      "Max duration (raw) 106306 in time units 29.5 h\n",
      "Min memory 0\n",
      "Max memory 39406488\n",
      "Max swap 1605481992\n"
     ]
    }
   ],
   "source": [
    "ProcessRenderStats('maya vray')"
   ]
  },
  {
   "cell_type": "markdown",
   "metadata": {},
   "source": [
    "# Renderman"
   ]
  },
  {
   "cell_type": "code",
   "execution_count": 7,
   "metadata": {},
   "outputs": [
    {
     "name": "stdout",
     "output_type": "stream",
     "text": [
      "Total time 2 hours, 43 minutes, 38 seconds, \n",
      "Min duration (raw) 508 in time units 8.4 m\n",
      "Max duration (raw) 4964 in time units 82.7 m\n",
      "Min memory 1394080\n",
      "Max memory 3179088\n",
      "Max swap 10316780\n"
     ]
    }
   ],
   "source": [
    "ProcessRenderStats('Renderman')"
   ]
  },
  {
   "cell_type": "markdown",
   "metadata": {},
   "source": [
    "# Unknown Renderer \n",
    "\n",
    "These files are where the log files were not written, so I can't identify what was being used, this is usually due to it being killed or a crash."
   ]
  },
  {
   "cell_type": "code",
   "execution_count": 8,
   "metadata": {},
   "outputs": [
    {
     "name": "stdout",
     "output_type": "stream",
     "text": [
      "Total time 27 days, 31 minutes, 51 seconds, \n",
      "Min duration (raw) 1 in time units 1 s\n",
      "Max duration (raw) 58174 in time units 16.1 h\n",
      "Min memory 0\n",
      "Max memory 1826740\n",
      "Max swap 9072896\n"
     ]
    }
   ],
   "source": [
    "ProcessRenderStats('unknown')"
   ]
  },
  {
   "cell_type": "markdown",
   "metadata": {},
   "source": [
    "# Load by Month\n",
    "\n",
    "This data is from Jan 2019 onwards\n",
    "\n",
    "## Total Rendertime"
   ]
  },
  {
   "cell_type": "code",
   "execution_count": 9,
   "metadata": {},
   "outputs": [
    {
     "data": {
      "image/png": "[encoded data removed]",
      "text/plain": [
       "<Figure size 576x576 with 1 Axes>"
      ]
     },
     "metadata": {
      "needs_background": "light"
     },
     "output_type": "display_data"
    },
    {
     "name": "stdout",
     "output_type": "stream",
     "text": [
      "     houdini  maya arnold  maya vray  Renderman  unknown Month\n",
      "0          0       124417     175039        912       85   Jan\n",
      "1   23665661            0      15769          0      526   Feb\n",
      "2   58306616       911084   14622899       8906     3163   Mar\n",
      "3       1611     52314575    5044419          0      203   Apr\n",
      "4   62538705     33130016   10871282          0  2330734   May\n",
      "5          0            0          0          0        0   Jun\n",
      "6          0            0          0          0        0   Aug\n",
      "7          0            0          0          0        0   Sep\n",
      "8          0            0          0          0        0   Oct\n",
      "9          0            0          0          0        0   Nov\n",
      "10         0            0          0          0        0   Dec\n"
     ]
    }
   ],
   "source": [
    "import seaborn as sns\n",
    "\n",
    "months=['Jan','Feb','Mar','Apr','May','Jun','Aug','Sep','Oct', 'Nov' ,'Dec']\n",
    "rend=['houdini','maya arnold','maya vray','Renderman','unknown']\n",
    "year={}\n",
    "\n",
    "for m in months :\n",
    "    year[m]=df[df['date'].str.contains(m)]\n",
    "data={    \n",
    "      r :  list(map(lambda m : \n",
    "                    year[m][year[m]['renderer'].str.contains(r)]['duration'].sum() , \n",
    "                    months )) \n",
    "      for r in rend  \n",
    "}\n",
    "data['Month']= months\n",
    "\n",
    "df = pd.DataFrame(data=data)\n",
    "\n",
    "fig, ax = plt.subplots(figsize=(8, 8))\n",
    "tidy = df.melt(id_vars='Month').rename(columns=str.title)\n",
    "sns.barplot(x='Month', y='Value', hue='Variable', data=tidy, ax=ax)\n",
    "ax.set_ylabel(\"Duration of Renders (Hours)\", labelpad=20, weight='bold', size=12)\n",
    "ax.set_xlabel(\"Month\", labelpad=20, weight='bold', size=12)\n",
    "plt.ticklabel_format(style='sci', axis='y')\n",
    "\n",
    "\n",
    "sns.despine(fig)\n",
    "plt.show()\n",
    "\n",
    "print(df)\n",
    "\n"
   ]
  },
  {
   "cell_type": "code",
   "execution_count": null,
   "metadata": {},
   "outputs": [],
   "source": []
  }
 ],
 "metadata": {
  "kernelspec": {
   "display_name": "Python 3",
   "language": "python",
   "name": "python3"
  },
  "language_info": {
   "codemirror_mode": {
    "name": "ipython",
    "version": 3
   },
   "file_extension": ".py",
   "mimetype": "text/x-python",
   "name": "python",
   "nbconvert_exporter": "python",
   "pygments_lexer": "ipython3",
   "version": "3.7.1"
  }
 },
 "nbformat": 4,
 "nbformat_minor": 2
}
