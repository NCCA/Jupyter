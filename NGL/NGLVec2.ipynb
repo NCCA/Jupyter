{
 "cells": [
  {
   "cell_type": "markdown",
   "metadata": {},
   "source": [
    "## ngl::Vec2\n",
    "\n",
    "The ```ngl::Vec2``` class is a simple vector of floats class we can use it for basic linear algebra and is usually used to represent 2D positions and uv co-ordinates."
   ]
  },
  {
   "cell_type": "code",
   "execution_count": 1,
   "metadata": {},
   "outputs": [],
   "source": [
    "// You may need to modify these paths to suit\n",
    "#pragma cling add_library_path(\"$HOME/NGL/lib\")\n",
    "#ifdef __APPLE__\n",
    "    #pragma cling load(\"$HOME/NGL/lib/libNGL.dylib\")\n",
    "#else\n",
    "    #pragma cling load(\"$HOME/NGL/lib/libNGL.so\")\n",
    "#endif\n",
    "#pragma cling add_include_path(\"$HOME/NGL/include\")\n",
    "#pragma cling add_include_path(\"$HOME/NGL/gl3w\")"
   ]
  },
  {
   "cell_type": "code",
   "execution_count": 2,
   "metadata": {},
   "outputs": [],
   "source": [
    "#include <ngl/Vec2.h>\n",
    "#include <ngl/Vec3.h>\n",
    "#include <ngl/Vec4.h>\n",
    "#include <ngl/NGLStream.h> // for printing\n",
    "#include <iostream>\n",
    "#include <vector>\n"
   ]
  },
  {
   "cell_type": "markdown",
   "metadata": {},
   "source": [
    "To construct an ```ngl::Vec2``` we can do the following"
   ]
  },
  {
   "cell_type": "code",
   "execution_count": 3,
   "metadata": {},
   "outputs": [
    {
     "name": "stdout",
     "output_type": "stream",
     "text": [
      "default [0,0]\n",
      "user [1,2]\n"
     ]
    }
   ],
   "source": [
    "{\n",
    "    ngl::Vec2 defaultCtor;\n",
    "    ngl::Vec2 user(1.0f,2.0f);\n",
    "    std::cout<<\"default \"<<defaultCtor<<'\\n';\n",
    "    std::cout<<\"user \"<<user<<'\\n';\n",
    "}"
   ]
  },
  {
   "cell_type": "markdown",
   "metadata": {},
   "source": [
    "All of the attributes in a Vec2 are public and can be accessed in the following ways"
   ]
  },
  {
   "cell_type": "code",
   "execution_count": 4,
   "metadata": {},
   "outputs": [
    {
     "name": "stdout",
     "output_type": "stream",
     "text": [
      "1 2\n",
      "1 2\n",
      "Modified v [99,5]\n"
     ]
    }
   ],
   "source": [
    "{\n",
    "    auto v=ngl::Vec2(1.0f,2.0f); // Note call to copy ctor\n",
    "    // as x,y\n",
    "    std::cout<<v.m_x<<' '<<v.m_y<<'\\n';\n",
    "    // or as an array\n",
    "    std::cout<<v.m_openGL[0]<<' '<<v.m_openGL[1]<<'\\n';\n",
    "   // We can modify elements as well\n",
    "    v.m_x=99.0f;\n",
    "    v.m_y+=3.0f;\n",
    "    std::cout<<\"Modified v \"<<v<<'\\n';\n",
    "}"
   ]
  },
  {
   "cell_type": "markdown",
   "metadata": {},
   "source": [
    "There are also a variety of set methods to set all the elements"
   ]
  },
  {
   "cell_type": "code",
   "execution_count": 5,
   "metadata": {},
   "outputs": [
    {
     "name": "stdout",
     "output_type": "stream",
     "text": [
      "[0,0]\n",
      "[1,1]\n",
      "[2,2]\n",
      "[3,3]\n",
      "[4,4]\n"
     ]
    }
   ],
   "source": [
    "{\n",
    "    std::vector<ngl::Vec2> uv(5);\n",
    "    for(size_t i=0; i<uv.size(); ++i)\n",
    "    {\n",
    "        uv[i].set(i,i);\n",
    "    }\n",
    "     for(auto a : uv)\n",
    "     {\n",
    "         std::cout<<a<<'\\n';\n",
    "     }\n",
    "}"
   ]
  },
  {
   "cell_type": "markdown",
   "metadata": {},
   "source": [
    "We can also convert a ```ngl::Vec4``` to a ```ngl::Vec2``` this is useful when we want to store data for OpenGL"
   ]
  },
  {
   "cell_type": "markdown",
   "metadata": {},
   "source": [
    "## Mathematical operations\n",
    "\n",
    "```ngl::Vec3``` has a number of math operations built in using Operator overloading"
   ]
  },
  {
   "cell_type": "code",
   "execution_count": 6,
   "metadata": {},
   "outputs": [
    {
     "name": "stdout",
     "output_type": "stream",
     "text": [
      "a+b = [0.3,0.5]\n",
      "a-b = [-0.1,-0.1]\n",
      "a*b = [0.02,0.06]\n",
      "a/b = [0.5,0.666667]\n",
      "a*0.5f = [0.05,0.1]\n",
      "a/0.5f = [0.2,0.4]\n"
     ]
    }
   ],
   "source": [
    "{\n",
    "    ngl::Vec2 a(0.1f,0.2f);\n",
    "    ngl::Vec2 b(0.2f,0.3f);\n",
    "    std::cout<<\"a+b = \"<<a+b<<'\\n';\n",
    "    std::cout<<\"a-b = \"<<a-b<<'\\n';\n",
    "    std::cout<<\"a*b = \"<<a*b<<'\\n';\n",
    "    std::cout<<\"a/b = \"<<a/b<<'\\n';\n",
    "    std::cout<<\"a*0.5f = \"<< a*ngl::Real(0.5f)<<'\\n';\n",
    "    std::cout<<\"a/0.5f = \"<< a/ngl::Real(0.5f)<<'\\n';\n",
    "}"
   ]
  },
  {
   "cell_type": "markdown",
   "metadata": {},
   "source": [
    "We also have modifying operators which will change the vector"
   ]
  },
  {
   "cell_type": "code",
   "execution_count": 7,
   "metadata": {},
   "outputs": [
    {
     "name": "stdout",
     "output_type": "stream",
     "text": [
      "a = [0.3,0.5]\n",
      "b = [-0.1,-0.2]\n",
      "a = [0.06,0.1]\n",
      "a = [0.15,0.25]\n"
     ]
    }
   ],
   "source": [
    "{\n",
    "    ngl::Vec2 a(0.1f,0.2f);\n",
    "    ngl::Vec2 b(0.2f,0.3f);\n",
    "    a+=b;\n",
    "    std::cout<<\"a = \"<<a<<'\\n';\n",
    "    b-=a;\n",
    "    std::cout<<\"b = \"<<b<<'\\n';\n",
    "    a*=0.2f;\n",
    "    std::cout<<\"a = \"<<a<<'\\n';\n",
    "    a/=0.4f;;\n",
    "    std::cout<<\"a = \"<<a<<'\\n';\n",
    "\n",
    "}"
   ]
  },
  {
   "cell_type": "markdown",
   "metadata": {},
   "source": [
    "## Vector math operations\n",
    "\n",
    "The ```ngl::Vec3``` class has a number of standard linear algebra functions built in.\n",
    "\n",
    "$$ a  = b \\cdot c $$"
   ]
  },
  {
   "cell_type": "code",
   "execution_count": 8,
   "metadata": {},
   "outputs": [
    {
     "name": "stdout",
     "output_type": "stream",
     "text": [
      "b . c = 0.12\n"
     ]
    }
   ],
   "source": [
    "{\n",
    "    ngl::Vec2 b(0.5f,0.2f);\n",
    "    ngl::Vec2 c(0.2f,0.1f);\n",
    "    ngl::Real a=b.dot(c);\n",
    "    std::cout<<\"b . c = \"<<a<<'\\n';\n",
    "}"
   ]
  },
  {
   "cell_type": "markdown",
   "metadata": {},
   "source": [
    "We can normalize a vector using the formula\n",
    "  $$x=x/\\sqrt{x^2+y^2} $$\n",
    "  $$y=y/\\sqrt{x^2+y^2} $$\n"
   ]
  },
  {
   "cell_type": "code",
   "execution_count": 9,
   "metadata": {},
   "outputs": [
    {
     "name": "stdout",
     "output_type": "stream",
     "text": [
      "Test is [22.3,0.5]\n",
      "After normalization [0.999749,0.0224159]\n"
     ]
    }
   ],
   "source": [
    "{\n",
    "    ngl::Vec2 test(22.3f,0.5f);\n",
    "    std::cout<<\"Test is \"<<test<<'\\n';\n",
    "    test.normalize();\n",
    "    std::cout<<\"After normalization \"<<test<<'\\n';\n",
    "\n",
    "}"
   ]
  },
  {
   "cell_type": "markdown",
   "metadata": {},
   "source": [
    "We can calculate the length of a vector using the length method. For example given two points how far apart are they?"
   ]
  },
  {
   "cell_type": "code",
   "execution_count": 10,
   "metadata": {},
   "outputs": [
    {
     "name": "stdout",
     "output_type": "stream",
     "text": [
      "Distance is 4.17612\n"
     ]
    }
   ],
   "source": [
    "{\n",
    "    auto p1=ngl::Vec2(-2.0f,0.2f);\n",
    "    auto p2=ngl::Vec2(2.0f,-1.0f);\n",
    "    ngl::Real distance= (p2-p1).length();\n",
    "    std::cout<<\"Distance is \"<< distance<<'\\n';\n",
    "}"
   ]
  },
  {
   "cell_type": "markdown",
   "metadata": {},
   "source": [
    "Sometimes we use the [squared distance](https://en.wikipedia.org/wiki/Euclidean_distance#Squared_Euclidean_distance) when comparing distances in collisions."
   ]
  },
  {
   "cell_type": "code",
   "execution_count": 11,
   "metadata": {},
   "outputs": [
    {
     "name": "stdout",
     "output_type": "stream",
     "text": [
      "Crash 0.4925\n"
     ]
    }
   ],
   "source": [
    "{\n",
    "    auto p1=ngl::Vec2(-0.2f,0.2f);\n",
    "    auto p2=ngl::Vec2(0.5f,0.25f);\n",
    "    ngl::Real distance= (p2-p1).lengthSquared();\n",
    "    if(distance < 0.5f)\n",
    "    {\n",
    "        std::cout<<\"Crash \"<<distance<<'\\n';\n",
    "    }\n",
    "}"
   ]
  },
  {
   "cell_type": "code",
   "execution_count": null,
   "metadata": {},
   "outputs": [],
   "source": []
  }
 ],
 "metadata": {
  "kernelspec": {
   "display_name": "C++17",
   "language": "C++17",
   "name": "xeus-cling-cpp17"
  },
  "language_info": {
   "codemirror_mode": "text/x-c++src",
   "file_extension": ".cpp",
   "mimetype": "text/x-c++src",
   "name": "c++",
   "version": "-std=c++17"
  }
 },
 "nbformat": 4,
 "nbformat_minor": 2
}
