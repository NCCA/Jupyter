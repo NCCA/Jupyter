{
 "cells": [
  {
   "cell_type": "markdown",
   "metadata": {},
   "source": [
    "## ngl::Vec2\n",
    "\n",
    "The ```ngl::Vec2``` class is a simple vector of floats class we can use it for basic linear algebra and is usually used to represent 2D positions and uv co-ordinates."
   ]
  },
  {
   "cell_type": "code",
   "execution_count": 1,
   "metadata": {},
   "outputs": [],
   "source": [
    "// You will need to modify these paths to suit\n",
    "#pragma cling add_library_path(\"/Users/jmacey/NGL/lib\")\n",
    "#pragma cling load(\"/Users/jmacey/NGL/lib/libNGL.dylib\")\n",
    "#pragma cling add_include_path(\"/Users/jmacey/NGL/include\")\n"
   ]
  },
  {
   "cell_type": "code",
   "execution_count": 22,
   "metadata": {},
   "outputs": [],
   "source": [
    "#include <ngl/Vec2.h>\n",
    "#include <ngl/Vec3.h>\n",
    "\n",
    "#include <ngl/NGLStream.h> // for printing\n",
    "#include <iostream>\n",
    "#include <vector>\n"
   ]
  },
  {
   "cell_type": "markdown",
   "metadata": {},
   "source": [
    "To construct an ```ngl::Vec2``` we can do the following"
   ]
  },
  {
   "cell_type": "code",
   "execution_count": 23,
   "metadata": {},
   "outputs": [
    {
     "name": "stdout",
     "output_type": "stream",
     "text": [
      "default [0,0]\n",
      "user [1,2]\n"
     ]
    }
   ],
   "source": [
    "{\n",
    "    ngl::Vec2 defaultCtor;\n",
    "    ngl::Vec2 user(1.0f,2.0f);\n",
    "    std::cout<<\"default \"<<defaultCtor<<'\\n';\n",
    "    std::cout<<\"user \"<<user<<'\\n';\n",
    "}"
   ]
  },
  {
   "cell_type": "markdown",
   "metadata": {},
   "source": [
    "All of the attributes in a Vec2 are public and can be accessed in the following ways"
   ]
  },
  {
   "cell_type": "code",
   "execution_count": 24,
   "metadata": {},
   "outputs": [
    {
     "name": "stdout",
     "output_type": "stream",
     "text": [
      "1 2\n",
      "1 2\n",
      "Modified v [99,5]\n"
     ]
    }
   ],
   "source": [
    "{\n",
    "    auto v=ngl::Vec2(1.0f,2.0f); // Note call to copy ctor\n",
    "    // as x,y\n",
    "    std::cout<<v.m_x<<' '<<v.m_y<<'\\n';\n",
    "    // or as an array\n",
    "    std::cout<<v.m_openGL[0]<<' '<<v.m_openGL[1]<<'\\n';\n",
    "   // We can modify elements as well\n",
    "    v.m_x=99.0f;\n",
    "    v.m_y+=3.0f;\n",
    "    std::cout<<\"Modified v \"<<v<<'\\n';\n",
    "}"
   ]
  },
  {
   "cell_type": "markdown",
   "metadata": {},
   "source": [
    "There are also a variety of set methods to set all the elements"
   ]
  },
  {
   "cell_type": "code",
   "execution_count": 27,
   "metadata": {},
   "outputs": [
    {
     "name": "stderr",
     "output_type": "stream",
     "text": [
      "In file included from input_line_5:1:\n",
      "In file included from /anaconda3/include/xeus/xinterpreter.hpp:12:\n",
      "In file included from /anaconda3/include/c++/v1/functional:486:\n",
      "\u001b[1m/anaconda3/include/c++/v1/memory:999:65: \u001b[0m\u001b[0;1;31merror: \u001b[0m\u001b[1mno member named 'value' in\n",
      "      'std::__1::__has_pointer_type<std::__1::allocator<ngl::Vec2> >'\u001b[0m\n",
      "template <class _Tp, class _Dp, bool = __has_pointer_type<_Dp>::value>\n",
      "\u001b[0;1;32m                                       ~~~~~~~~~~~~~~~~~~~~~~~~~^\n",
      "\u001b[0m\u001b[1m/anaconda3/include/c++/v1/memory:1016:42: \u001b[0m\u001b[0;1;30mnote: \u001b[0min instantiation of default argument for '__pointer_type<ngl::Vec2,\n",
      "      std::__1::allocator<ngl::Vec2> >' required here\u001b[0m\n",
      "  ...__pointer_type<_Tp, typename remove_reference<_Dp>::type>::type type;\n",
      "\u001b[0;1;32m     ^~~~~~~~~~~~~~~~~~~~~~~~~~~~~~~~~~~~~~~~~~~~~~~~~~~~~~~~~\n",
      "\u001b[0m\u001b[1m/anaconda3/include/c++/v1/memory:1496:22: \u001b[0m\u001b[0;1;30mnote: \u001b[0min instantiation of template class 'std::__1::__pointer_type<ngl::Vec2,\n",
      "      std::__1::allocator<ngl::Vec2> >' requested here\u001b[0m\n",
      "    typedef typename __pointer_type<value_type, allocator_type>::type pointer;\n",
      "\u001b[0;1;32m                     ^\n",
      "\u001b[0m\u001b[1m/anaconda3/include/c++/v1/vector:330:22: \u001b[0m\u001b[0;1;30mnote: \u001b[0min instantiation of template class\n",
      "      'std::__1::allocator_traits<std::__1::allocator<ngl::Vec2> >' requested\n",
      "      here\u001b[0m\n",
      "    typedef typename __alloc_traits::size_type       size_type;\n",
      "\u001b[0;1;32m                     ^\n",
      "\u001b[0m\u001b[1m/anaconda3/include/c++/v1/vector:451:15: \u001b[0m\u001b[0;1;30mnote: \u001b[0min instantiation of template class 'std::__1::__vector_base<ngl::Vec2,\n",
      "      std::__1::allocator<ngl::Vec2> >' requested here\u001b[0m\n",
      "    : private __vector_base<_Tp, _Allocator>\n",
      "\u001b[0;1;32m              ^\n",
      "\u001b[0m\u001b[1minput_line_33:3:28: \u001b[0m\u001b[0;1;30mnote: \u001b[0min instantiation of template class 'std::__1::vector<ngl::Vec2,\n",
      "      std::__1::allocator<ngl::Vec2> >' requested here\u001b[0m\n",
      "    std::vector<ngl::Vec2> uv(5);\n",
      "\u001b[0;1;32m                           ^\n",
      "\u001b[0mIn file included from input_line_5:1:\n",
      "In file included from /anaconda3/include/xeus/xinterpreter.hpp:12:\n",
      "In file included from /anaconda3/include/c++/v1/functional:486:\n",
      "\u001b[1m/anaconda3/include/c++/v1/memory:932:22: \u001b[0m\u001b[0;1;31merror: \u001b[0m\u001b[1mimplicit instantiation of undefined template\n",
      "      'std::__1::__pointer_traits_element_type<int, false>'\u001b[0m\n",
      "    typedef typename __pointer_traits_element_type<pointer>::type    ele...\n",
      "\u001b[0;1;32m                     ^\n",
      "\u001b[0m\u001b[1m/anaconda3/include/c++/v1/memory:1067:22: \u001b[0m\u001b[0;1;30mnote: \u001b[0min instantiation of template class 'std::__1::pointer_traits<int>' requested\n",
      "      here\u001b[0m\n",
      "    typedef typename pointer_traits<_Ptr>::template rebind<void> type;\n",
      "\u001b[0;1;32m                     ^\n",
      "\u001b[0m\u001b[1m/anaconda3/include/c++/v1/memory:1498:22: \u001b[0m\u001b[0;1;30mnote: \u001b[0min instantiation of template class 'std::__1::__void_pointer<int,\n",
      "      std::__1::allocator<ngl::Vec2>, false>' requested here\u001b[0m\n",
      "    typedef typename __void_pointer<pointer, allocator_type>::type void_pointer;\n",
      "\u001b[0;1;32m                     ^\n",
      "\u001b[0m\u001b[1m/anaconda3/include/c++/v1/vector:330:22: \u001b[0m\u001b[0;1;30mnote: \u001b[0min instantiation of template class\n",
      "      'std::__1::allocator_traits<std::__1::allocator<ngl::Vec2> >' requested\n",
      "      here\u001b[0m\n",
      "    typedef typename __alloc_traits::size_type       size_type;\n",
      "\u001b[0;1;32m                     ^\n",
      "\u001b[0m\u001b[1m/anaconda3/include/c++/v1/vector:451:15: \u001b[0m\u001b[0;1;30mnote: \u001b[0min instantiation of template class 'std::__1::__vector_base<ngl::Vec2,\n",
      "      std::__1::allocator<ngl::Vec2> >' requested here\u001b[0m\n",
      "    : private __vector_base<_Tp, _Allocator>\n",
      "\u001b[0;1;32m              ^\n",
      "\u001b[0m\u001b[1minput_line_33:3:28: \u001b[0m\u001b[0;1;30mnote: \u001b[0min instantiation of template class 'std::__1::vector<ngl::Vec2,\n",
      "      std::__1::allocator<ngl::Vec2> >' requested here\u001b[0m\n",
      "    std::vector<ngl::Vec2> uv(5);\n",
      "\u001b[0;1;32m                           ^\n",
      "\u001b[0m\u001b[1m/anaconda3/include/c++/v1/memory:718:8: \u001b[0m\u001b[0;1;30mnote: \u001b[0mtemplate is declared here\u001b[0m\n",
      "struct __pointer_traits_element_type;\n",
      "\u001b[0;1;32m       ^\n",
      "\u001b[0m\u001b[1m/anaconda3/include/c++/v1/memory:946:75: \u001b[0m\u001b[0;1;31merror: \u001b[0m\u001b[1mno member named 'value' in 'std::__1::is_void<int>'\u001b[0m\n",
      "    static pointer pointer_to(typename conditional<is_void<element_type>::value,\n",
      "\u001b[0;1;32m                                                   ~~~~~~~~~~~~~~~~~~~~~~~^\n",
      "\u001b[0m\u001b[1m/anaconda3/include/c++/v1/memory:1067:53: \u001b[0m\u001b[0;1;31merror: \u001b[0m\u001b[1m'rebind' following the 'template' keyword does not refer to a template\u001b[0m\n",
      "    typedef typename pointer_traits<_Ptr>::template rebind<void> type;\n",
      "\u001b[0;1;32m                                                    ^~~~~~\n",
      "\u001b[0m\u001b[1m/anaconda3/include/c++/v1/memory:1498:22: \u001b[0m\u001b[0;1;30mnote: \u001b[0min instantiation of template class 'std::__1::__void_pointer<int,\n",
      "      std::__1::allocator<ngl::Vec2>, false>' requested here\u001b[0m\n",
      "    typedef typename __void_pointer<pointer, allocator_type>::type void_pointer;\n",
      "\u001b[0;1;32m                     ^\n",
      "\u001b[0m\u001b[1m/anaconda3/include/c++/v1/vector:330:22: \u001b[0m\u001b[0;1;30mnote: \u001b[0min instantiation of template class\n",
      "      'std::__1::allocator_traits<std::__1::allocator<ngl::Vec2> >' requested\n",
      "      here\u001b[0m\n",
      "    typedef typename __alloc_traits::size_type       size_type;\n",
      "\u001b[0;1;32m                     ^\n",
      "\u001b[0m\u001b[1m/anaconda3/include/c++/v1/vector:451:15: \u001b[0m\u001b[0;1;30mnote: \u001b[0min instantiation of template class 'std::__1::__vector_base<ngl::Vec2,\n",
      "      std::__1::allocator<ngl::Vec2> >' requested here\u001b[0m\n",
      "    : private __vector_base<_Tp, _Allocator>\n",
      "\u001b[0;1;32m              ^\n",
      "\u001b[0m\u001b[1minput_line_33:3:28: \u001b[0m\u001b[0;1;30mnote: \u001b[0min instantiation of template class 'std::__1::vector<ngl::Vec2,\n",
      "      std::__1::allocator<ngl::Vec2> >' requested here\u001b[0m\n",
      "    std::vector<ngl::Vec2> uv(5);\n",
      "\u001b[0;1;32m                           ^\n",
      "\u001b[0mIn file included from input_line_5:1:\n",
      "In file included from /anaconda3/include/xeus/xinterpreter.hpp:12:\n",
      "In file included from /anaconda3/include/c++/v1/functional:486:\n",
      "\u001b[1m/anaconda3/include/c++/v1/memory:832:22: \u001b[0m\u001b[0;1;31merror: \u001b[0m\u001b[1mtype 'int' cannot be used prior to '::' because it has no members\u001b[0m\n",
      "    typedef typename _Tp::template rebind<_Up> type;\n",
      "\u001b[0;1;32m                     ^\n",
      "\u001b[0m\u001b[1m/anaconda3/include/c++/v1/memory:936:26: \u001b[0m\u001b[0;1;30mnote: \u001b[0min instantiation of template class 'std::__1::__pointer_traits_rebind<int, const\n",
      "      void, false>' requested here\u001b[0m\n",
      "    template <class _Up> using rebind = typename __pointer_traits_rebind...\n",
      "\u001b[0;1;32m                         ^\n",
      "\u001b[0m\u001b[1m/anaconda3/include/c++/v1/memory:1094:53: \u001b[0m\u001b[0;1;30mnote: \u001b[0min instantiation of template type alias 'rebind' requested here\u001b[0m\n",
      "    typedef typename pointer_traits<_Ptr>::template rebind<const void> type;\n",
      "\u001b[0;1;32m                                                    ^\n",
      "\u001b[0m\u001b[1m/anaconda3/include/c++/v1/memory:1499:22: \u001b[0m\u001b[0;1;30mnote: \u001b[0min instantiation of template class 'std::__1::__const_void_pointer<int,\n",
      "      std::__1::allocator<ngl::Vec2>, false>' requested here\u001b[0m\n",
      "    typedef typename __const_void_pointer<pointer, allocator_type>::typ...\n",
      "\u001b[0;1;32m                     ^\n",
      "\u001b[0m\u001b[1m/anaconda3/include/c++/v1/vector:330:22: \u001b[0m\u001b[0;1;30mnote: \u001b[0min instantiation of template class\n",
      "      'std::__1::allocator_traits<std::__1::allocator<ngl::Vec2> >' requested\n",
      "      here\u001b[0m\n",
      "    typedef typename __alloc_traits::size_type       size_type;\n",
      "\u001b[0;1;32m                     ^\n",
      "\u001b[0m\u001b[1m/anaconda3/include/c++/v1/vector:451:15: \u001b[0m\u001b[0;1;30mnote: \u001b[0min instantiation of template class 'std::__1::__vector_base<ngl::Vec2,\n",
      "      std::__1::allocator<ngl::Vec2> >' requested here\u001b[0m\n",
      "    : private __vector_base<_Tp, _Allocator>\n",
      "\u001b[0;1;32m              ^\n",
      "\u001b[0m\u001b[1minput_line_33:3:28: \u001b[0m\u001b[0;1;30mnote: \u001b[0min instantiation of template class 'std::__1::vector<ngl::Vec2,\n",
      "      std::__1::allocator<ngl::Vec2> >' requested here\u001b[0m\n",
      "    std::vector<ngl::Vec2> uv(5);\n",
      "\u001b[0;1;32m                           ^\n",
      "\u001b[0mIn file included from input_line_5:1:\n",
      "In file included from /anaconda3/include/xeus/xinterpreter.hpp:12:\n",
      "In file included from /anaconda3/include/c++/v1/functional:486:\n",
      "\u001b[1m/anaconda3/include/c++/v1/memory:2057:86: \u001b[0m\u001b[0;1;31merror: \u001b[0m\u001b[1mno member named 'value' in 'std::__1::is_same<int,\n",
      "      std::__1::allocator<ngl::Vec2> >'\u001b[0m\n"
     ]
    },
    {
     "name": "stderr",
     "output_type": "stream",
     "text": [
      "  ...typename remove_cv<_T2>::type>::value,\n",
      "\u001b[0;1;32m     ~~~~~~~~~~~~~~~~~~~~~~~~~~~~~~~~^\n",
      "\u001b[0m\u001b[1m/anaconda3/include/c++/v1/memory:2080:44: \u001b[0m\u001b[0;1;30mnote: \u001b[0min instantiation of default argument for '__libcpp_compressed_pair_switch<int,\n",
      "      std::__1::allocator<ngl::Vec2> >' required here\u001b[0m\n",
      "  ..._T1, class _T2, unsigned = __libcpp_compressed_pair_switch<_T1, _T2>::va...\n",
      "\u001b[0;1;32m                                ^~~~~~~~~~~~~~~~~~~~~~~~~~~~~~~~~~~~~~~~~\n",
      "\u001b[0m\u001b[1m/anaconda3/include/c++/v1/memory:2302:15: \u001b[0m\u001b[0;1;30mnote: \u001b[0min instantiation of default argument for '__libcpp_compressed_pair_imp<int,\n",
      "      std::__1::allocator<ngl::Vec2> >' required here\u001b[0m\n",
      "    : private __libcpp_compressed_pair_imp<_T1, _T2>\n",
      "\u001b[0;1;32m              ^~~~~~~~~~~~~~~~~~~~~~~~~~~~~~~~~~~~~~\n",
      "\u001b[0m\u001b[1m/anaconda3/include/c++/v1/vector:339:48: \u001b[0m\u001b[0;1;30mnote: \u001b[0min instantiation of template class 'std::__1::__compressed_pair<int,\n",
      "      std::__1::allocator<ngl::Vec2> >' requested here\u001b[0m\n",
      "    __compressed_pair<pointer, allocator_type> __end_cap_;\n",
      "\u001b[0;1;32m                                               ^\n",
      "\u001b[0m\u001b[1m/anaconda3/include/c++/v1/vector:451:15: \u001b[0m\u001b[0;1;30mnote: \u001b[0min instantiation of template class 'std::__1::__vector_base<ngl::Vec2,\n",
      "      std::__1::allocator<ngl::Vec2> >' requested here\u001b[0m\n",
      "    : private __vector_base<_Tp, _Allocator>\n",
      "\u001b[0;1;32m              ^\n",
      "\u001b[0m\u001b[1minput_line_33:3:28: \u001b[0m\u001b[0;1;30mnote: \u001b[0min instantiation of template class 'std::__1::vector<ngl::Vec2,\n",
      "      std::__1::allocator<ngl::Vec2> >' requested here\u001b[0m\n",
      "    std::vector<ngl::Vec2> uv(5);\n",
      "\u001b[0;1;32m                           ^\n",
      "\u001b[0mIn file included from input_line_5:1:\n",
      "In file included from /anaconda3/include/xeus/xinterpreter.hpp:12:\n",
      "In file included from /anaconda3/include/c++/v1/functional:486:\n",
      "\u001b[1m/anaconda3/include/c++/v1/memory:2057:86: \u001b[0m\u001b[0;1;31merror: \u001b[0m\u001b[1mno member named 'value' in 'std::__1::is_same<int,\n",
      "      std::__1::allocator<ngl::Vec2> >'\u001b[0m\n",
      "  ...typename remove_cv<_T2>::type>::value,\n",
      "\u001b[0;1;32m     ~~~~~~~~~~~~~~~~~~~~~~~~~~~~~~~~^\n",
      "\u001b[0m\u001b[1m/anaconda3/include/c++/v1/memory:2080:44: \u001b[0m\u001b[0;1;30mnote: \u001b[0min instantiation of default argument for '__libcpp_compressed_pair_switch<int,\n",
      "      std::__1::allocator<ngl::Vec2> >' required here\u001b[0m\n",
      "  ..._T1, class _T2, unsigned = __libcpp_compressed_pair_switch<_T1, _T2>::va...\n",
      "\u001b[0;1;32m                                ^~~~~~~~~~~~~~~~~~~~~~~~~~~~~~~~~~~~~~~~~\n",
      "\u001b[0m\u001b[1m/anaconda3/include/c++/v1/memory:2304:13: \u001b[0m\u001b[0;1;30mnote: \u001b[0min instantiation of default argument for '__libcpp_compressed_pair_imp<int,\n",
      "      std::__1::allocator<ngl::Vec2> >' required here\u001b[0m\n",
      "    typedef __libcpp_compressed_pair_imp<_T1, _T2> base;\n",
      "\u001b[0;1;32m            ^~~~~~~~~~~~~~~~~~~~~~~~~~~~~~~~~~~~~~\n",
      "\u001b[0m\u001b[1m/anaconda3/include/c++/v1/vector:339:48: \u001b[0m\u001b[0;1;30mnote: \u001b[0min instantiation of template class 'std::__1::__compressed_pair<int,\n",
      "      std::__1::allocator<ngl::Vec2> >' requested here\u001b[0m\n",
      "    __compressed_pair<pointer, allocator_type> __end_cap_;\n",
      "\u001b[0;1;32m                                               ^\n",
      "\u001b[0m\u001b[1m/anaconda3/include/c++/v1/vector:451:15: \u001b[0m\u001b[0;1;30mnote: \u001b[0min instantiation of template class 'std::__1::__vector_base<ngl::Vec2,\n",
      "      std::__1::allocator<ngl::Vec2> >' requested here\u001b[0m\n",
      "    : private __vector_base<_Tp, _Allocator>\n",
      "\u001b[0;1;32m              ^\n",
      "\u001b[0m\u001b[1minput_line_33:3:28: \u001b[0m\u001b[0;1;30mnote: \u001b[0min instantiation of template class 'std::__1::vector<ngl::Vec2,\n",
      "      std::__1::allocator<ngl::Vec2> >' requested here\u001b[0m\n",
      "    std::vector<ngl::Vec2> uv(5);\n",
      "\u001b[0;1;32m                           ^\n",
      "\u001b[0mIn file included from input_line_5:1:\n",
      "In file included from /anaconda3/include/xeus/xinterpreter.hpp:12:\n",
      "In file included from /anaconda3/include/c++/v1/functional:486:\n",
      "\u001b[1m/anaconda3/include/c++/v1/memory:2318:40: \u001b[0m\u001b[0;1;31merror: \u001b[0m\u001b[1mmultiple overloads of '__compressed_pair' instantiate to the same signature\n",
      "      'void (std::__1::__compressed_pair<int, std::__1::allocator<ngl::Vec2>\n",
      "      >::_T2_param)' (aka 'void (int)')\u001b[0m\n",
      "    _LIBCPP_INLINE_VISIBILITY explicit __compressed_pair(_T2_param __t2)\n",
      "\u001b[0;1;32m                                       ^\n",
      "\u001b[0m\u001b[1m/anaconda3/include/c++/v1/vector:339:48: \u001b[0m\u001b[0;1;30mnote: \u001b[0min instantiation of template class 'std::__1::__compressed_pair<int,\n",
      "      std::__1::allocator<ngl::Vec2> >' requested here\u001b[0m\n",
      "    __compressed_pair<pointer, allocator_type> __end_cap_;\n",
      "\u001b[0;1;32m                                               ^\n",
      "\u001b[0m\u001b[1m/anaconda3/include/c++/v1/vector:451:15: \u001b[0m\u001b[0;1;30mnote: \u001b[0min instantiation of template class 'std::__1::__vector_base<ngl::Vec2,\n",
      "      std::__1::allocator<ngl::Vec2> >' requested here\u001b[0m\n",
      "    : private __vector_base<_Tp, _Allocator>\n",
      "\u001b[0;1;32m              ^\n",
      "\u001b[0m\u001b[1minput_line_33:3:28: \u001b[0m\u001b[0;1;30mnote: \u001b[0min instantiation of template class 'std::__1::vector<ngl::Vec2,\n",
      "      std::__1::allocator<ngl::Vec2> >' requested here\u001b[0m\n",
      "    std::vector<ngl::Vec2> uv(5);\n",
      "\u001b[0;1;32m                           ^\n",
      "\u001b[0m\u001b[1m/anaconda3/include/c++/v1/memory:2316:40: \u001b[0m\u001b[0;1;30mnote: \u001b[0mprevious declaration is here\u001b[0m\n",
      "    _LIBCPP_INLINE_VISIBILITY explicit __compressed_pair(_T1_param __t1)\n",
      "\u001b[0;1;32m                                       ^\n",
      "\u001b[0mIn file included from input_line_5:1:\n",
      "In file included from /anaconda3/include/xeus/xinterpreter.hpp:14:\n",
      "\u001b[1m/anaconda3/include/c++/v1/vector:460:30: \u001b[0m\u001b[0;1;31merror: \u001b[0m\u001b[1m'__alloc_traits' is a protected member of 'std::__1::__vector_base<ngl::Vec2,\n",
      "      std::__1::allocator<ngl::Vec2> >'\u001b[0m\n",
      "    typedef typename __base::__alloc_traits          __alloc_traits;\n",
      "\u001b[0;1;32m                             ^\n",
      "\u001b[0m\u001b[1minput_line_33:3:28: \u001b[0m\u001b[0;1;30mnote: \u001b[0min instantiation of template class 'std::__1::vector<ngl::Vec2,\n",
      "      std::__1::allocator<ngl::Vec2> >' requested here\u001b[0m\n",
      "    std::vector<ngl::Vec2> uv(5);\n",
      "\u001b[0;1;32m                           ^\n",
      "\u001b[0m\u001b[1m/anaconda3/include/c++/v1/vector:327:54: \u001b[0m\u001b[0;1;30mnote: \u001b[0mdeclared protected here\u001b[0m\n",
      "    typedef allocator_traits<allocator_type>         __alloc_traits;\n",
      "\u001b[0;1;32m                                                     ^\n",
      "\u001b[0m\u001b[1m/anaconda3/include/c++/v1/vector:461:30: \u001b[0m\u001b[0;1;31merror: \u001b[0m\u001b[1m'reference' is a protected member of 'std::__1::__vector_base<ngl::Vec2,\n",
      "      std::__1::allocator<ngl::Vec2> >'\u001b[0m\n",
      "    typedef typename __base::reference               reference;\n",
      "\u001b[0;1;32m                             ^\n",
      "\u001b[0m\u001b[1m/anaconda3/include/c++/v1/vector:328:54: \u001b[0m\u001b[0;1;30mnote: \u001b[0mdeclared protected here\u001b[0m\n",
      "    typedef value_type&                              reference;\n",
      "\u001b[0;1;32m                                                     ^\n",
      "\u001b[0m\u001b[1m/anaconda3/include/c++/v1/vector:462:30: \u001b[0m\u001b[0;1;31merror: \u001b[0m\u001b[1m'const_reference' is a protected member of 'std::__1::__vector_base<ngl::Vec2,\n",
      "      std::__1::allocator<ngl::Vec2> >'\u001b[0m\n",
      "    typedef typename __base::const_reference         const_reference;\n",
      "\u001b[0;1;32m                             ^\n",
      "\u001b[0m\u001b[1m/anaconda3/include/c++/v1/vector:329:54: \u001b[0m\u001b[0;1;30mnote: \u001b[0mdeclared protected here\u001b[0m\n",
      "    typedef const value_type&                        const_reference;\n",
      "\u001b[0;1;32m                                                     ^\n",
      "\u001b[0m\u001b[1m/anaconda3/include/c++/v1/vector:463:30: \u001b[0m\u001b[0;1;31merror: \u001b[0m\u001b[1m'size_type' is a protected member of 'std::__1::__vector_base<ngl::Vec2,\n",
      "      std::__1::allocator<ngl::Vec2> >'\u001b[0m\n",
      "    typedef typename __base::size_type               size_type;\n",
      "\u001b[0;1;32m                             ^\n",
      "\u001b[0m\u001b[1m/anaconda3/include/c++/v1/vector:330:54: \u001b[0m\u001b[0;1;30mnote: \u001b[0mdeclared protected here\u001b[0m\n",
      "    typedef typename __alloc_traits::size_type       size_type;\n",
      "\u001b[0;1;32m                                                     ^\n",
      "\u001b[0m\u001b[1m/anaconda3/include/c++/v1/vector:464:30: \u001b[0m\u001b[0;1;31merror: \u001b[0m\u001b[1m'difference_type' is a protected member of 'std::__1::__vector_base<ngl::Vec2,\n",
      "      std::__1::allocator<ngl::Vec2> >'\u001b[0m\n",
      "    typedef typename __base::difference_type         difference_type;\n",
      "\u001b[0;1;32m                             ^\n",
      "\u001b[0m\u001b[1m/anaconda3/include/c++/v1/vector:331:54: \u001b[0m\u001b[0;1;30mnote: \u001b[0mdeclared protected here\u001b[0m\n",
      "    typedef typename __alloc_traits::difference_type difference_type;\n"
     ]
    },
    {
     "name": "stderr",
     "output_type": "stream",
     "text": [
      "\u001b[0;1;32m                                                     ^\n",
      "\u001b[0m\u001b[1m/anaconda3/include/c++/v1/vector:465:30: \u001b[0m\u001b[0;1;31merror: \u001b[0m\u001b[1m'pointer' is a protected member of 'std::__1::__vector_base<ngl::Vec2,\n",
      "      std::__1::allocator<ngl::Vec2> >'\u001b[0m\n",
      "    typedef typename __base::pointer                 pointer;\n",
      "\u001b[0;1;32m                             ^\n",
      "\u001b[0m\u001b[1m/anaconda3/include/c++/v1/vector:332:54: \u001b[0m\u001b[0;1;30mnote: \u001b[0mdeclared protected here\u001b[0m\n",
      "    typedef typename __alloc_traits::pointer         pointer;\n",
      "\u001b[0;1;32m                                                     ^\n",
      "\u001b[0m\u001b[1m/anaconda3/include/c++/v1/vector:466:30: \u001b[0m\u001b[0;1;31merror: \u001b[0m\u001b[1m'const_pointer' is a protected member of 'std::__1::__vector_base<ngl::Vec2,\n",
      "      std::__1::allocator<ngl::Vec2> >'\u001b[0m\n",
      "    typedef typename __base::const_pointer           const_pointer;\n",
      "\u001b[0;1;32m                             ^\n",
      "\u001b[0m\u001b[1m/anaconda3/include/c++/v1/vector:333:54: \u001b[0m\u001b[0;1;30mnote: \u001b[0mdeclared protected here\u001b[0m\n",
      "    typedef typename __alloc_traits::const_pointer   const_pointer;\n",
      "\u001b[0;1;32m                                                     ^\n",
      "\u001b[0m\u001b[1m/anaconda3/include/c++/v1/vector:472:78: \u001b[0m\u001b[0;1;31merror: \u001b[0m\u001b[1mno member named 'value' in 'std::__1::is_same<ngl::Vec2, ngl::Vec2>'\u001b[0m\n",
      "  ...is_same<typename allocator_type::value_type, value_type>::value),\n",
      "\u001b[0;1;32m     ~~~~~~~~~~~~~~~~~~~~~~~~~~~~~~~~~~~~~~~~~~~~~~~~~~~~~~~~~~^\n",
      "\u001b[0m"
     ]
    },
    {
     "ename": "Interpreter Error",
     "evalue": "",
     "output_type": "error",
     "traceback": [
      "Interpreter Error: "
     ]
    }
   ],
   "source": [
    "{\n",
    "    std::vector<ngl::Vec2> uv(5);\n",
    "//    for(size_t i=0; i<uvs.size(); ++i)\n",
    "    {\n",
    "  //      uv[i].set(i,i);\n",
    "    }\n",
    "//     for(auto a : uv)\n",
    "//     {\n",
    "//         std::cout<<a<<'\\n';\n",
    "//     }\n",
    "}"
   ]
  },
  {
   "cell_type": "markdown",
   "metadata": {},
   "source": [
    "We can also convert a ```ngl::Vec4``` to a ```ngl::Vec3``` this is useful when we want to store data for OpenGL"
   ]
  },
  {
   "cell_type": "code",
   "execution_count": null,
   "metadata": {},
   "outputs": [],
   "source": [
    "{\n",
    "    auto v3=ngl::Vec3(1.0f,2.0f,3.0f,4.0f);\n",
    "    ngl::Vec2 v2;\n",
    "    v2=v3;\n",
    "    ngl::Vec2 v32;\n",
    "    v32.set(v3);\n",
    "    std::cout<<\"V3 \"<<v3<<\" v2 \"<<v2<<\" v22 \"<<v22<<'\\n';\n",
    "}"
   ]
  },
  {
   "cell_type": "markdown",
   "metadata": {},
   "source": [
    "## Mathematical operations\n",
    "\n",
    "```ngl::Vec3``` has a number of math operations built in using Operator overloading"
   ]
  },
  {
   "cell_type": "code",
   "execution_count": null,
   "metadata": {},
   "outputs": [],
   "source": [
    "{\n",
    "    ngl::Vec3 a(0.1f,0.2f,0.3f);\n",
    "    ngl::Vec3 b(0.2f,0.3f,0.4f);\n",
    "    std::cout<<\"a+b = \"<<a+b<<'\\n';\n",
    "    std::cout<<\"a-b = \"<<a-b<<'\\n';\n",
    "    std::cout<<\"a*b = \"<<a*b<<'\\n';\n",
    "    std::cout<<\"a/b = \"<<a/b<<'\\n';\n",
    "    std::cout<<\"a*0.5f = \"<< a*0.5f<<'\\n';\n",
    "    std::cout<<\"a/0.5f = \"<< a/0.5f<<'\\n';\n",
    "    \n",
    "\n",
    "}"
   ]
  },
  {
   "cell_type": "markdown",
   "metadata": {},
   "source": [
    "We also have modifying operators which will change the vector"
   ]
  },
  {
   "cell_type": "code",
   "execution_count": null,
   "metadata": {},
   "outputs": [],
   "source": [
    "{\n",
    "    ngl::Vec3 a(0.1f,0.2f,0.3f);\n",
    "    ngl::Vec3 b(0.2f,0.3f,0.4f);\n",
    "    a+=b;\n",
    "    std::cout<<\"a = \"<<a<<'\\n';\n",
    "    b-=a;\n",
    "    std::cout<<\"b = \"<<b<<'\\n';\n",
    "    a*=0.2f;\n",
    "    std::cout<<\"a = \"<<a<<'\\n';\n",
    "    a/=0.4f;;\n",
    "    std::cout<<\"a = \"<<a<<'\\n';\n",
    "\n",
    "}"
   ]
  },
  {
   "cell_type": "markdown",
   "metadata": {},
   "source": [
    "## Vector math operations\n",
    "\n",
    "The ```ngl::Vec3``` class has a number of standard linear algebra functions built in.\n",
    "\n",
    "$$ a  = b \\cdot c $$"
   ]
  },
  {
   "cell_type": "code",
   "execution_count": null,
   "metadata": {},
   "outputs": [],
   "source": [
    "{\n",
    "    ngl::Vec3 b(0.5f,0.2f,0.8f);\n",
    "    ngl::Vec3 c(0.2f,0.1f,2.8f);\n",
    "    ngl::Real a=b.dot(c);\n",
    "    std::cout<<\"b . c = \"<<a<<'\\n';\n",
    "    std::cout<<\"inner product \"<<b.inner(c)<<'\\n';\n",
    "}"
   ]
  },
  {
   "cell_type": "markdown",
   "metadata": {},
   "source": [
    "We can normalize a vector using the formula\n",
    "  $$x=x/\\sqrt{x^2+y^2+z^2} $$\n",
    "  $$y=y/\\sqrt{x^2+y^2+z^2} $$\n",
    "  $$z=z/\\sqrt{x^2+y^2+z^2} $$\n"
   ]
  },
  {
   "cell_type": "code",
   "execution_count": null,
   "metadata": {},
   "outputs": [],
   "source": [
    "{\n",
    "    ngl::Vec3 test(22.3f,0.5f,10.0f);\n",
    "    std::cout<<\"Test is \"<<test<<'\\n';\n",
    "    test.normalize();\n",
    "    std::cout<<\"After normalization \"<<test<<'\\n';\n",
    "\n",
    "}"
   ]
  },
  {
   "cell_type": "markdown",
   "metadata": {},
   "source": [
    "The cross product of two vectors can be calculated in two way with ngl."
   ]
  },
  {
   "cell_type": "code",
   "execution_count": null,
   "metadata": {},
   "outputs": [],
   "source": [
    "{\n",
    "  ngl::Vec3 a=ngl::Vec3::up();\n",
    "  ngl::Vec3 b=ngl::Vec3::left();\n",
    "  ngl::Vec3 c;\n",
    "  c.cross(a,b);\n",
    "  std::cout<<\"a x b =\"<<c<<'\\n';\n",
    "}"
   ]
  },
  {
   "cell_type": "code",
   "execution_count": null,
   "metadata": {},
   "outputs": [],
   "source": [
    "{\n",
    "  ngl::Vec3 a=ngl::Vec3::up();\n",
    "  ngl::Vec3 b=ngl::Vec3::left();\n",
    "  ngl::Vec3 c=a.cross(b);\n",
    "  std::cout<<\"a x b =\"<<c<<'\\n';\n",
    "}"
   ]
  },
  {
   "cell_type": "markdown",
   "metadata": {},
   "source": [
    "We can calculate the length of a vector using the length method. For example given two points how far apart are they?"
   ]
  },
  {
   "cell_type": "code",
   "execution_count": null,
   "metadata": {},
   "outputs": [],
   "source": [
    "{\n",
    "    auto p1=ngl::Vec3(-2.0f,0.2f,0.0f);\n",
    "    auto p2=ngl::Vec3(2.0f,-1.0f,0.0f);\n",
    "    ngl::Real distance= (p2-p1).length();\n",
    "    std::cout<<\"Distance is \"<< distance<<'\\n';\n",
    "}"
   ]
  },
  {
   "cell_type": "markdown",
   "metadata": {},
   "source": [
    "Sometimes we use the [squared distance](https://en.wikipedia.org/wiki/Euclidean_distance#Squared_Euclidean_distance) when comparing distances in collisions."
   ]
  },
  {
   "cell_type": "code",
   "execution_count": null,
   "metadata": {},
   "outputs": [],
   "source": [
    "{\n",
    "    auto p1=ngl::Vec3(-0.2f,0.2f,0.0f);\n",
    "    auto p2=ngl::Vec3(0.5f,0.25f,0.0f);\n",
    "    ngl::Real distance= (p2-p1).lengthSquared();\n",
    "    if(distance < 0.5f)\n",
    "    {\n",
    "        std::cout<<\"Crash \"<<distance<<'\\n';\n",
    "    }\n",
    "}"
   ]
  },
  {
   "cell_type": "code",
   "execution_count": null,
   "metadata": {},
   "outputs": [],
   "source": []
  }
 ],
 "metadata": {
  "kernelspec": {
   "display_name": "C++17",
   "language": "C++17",
   "name": "xeus-cling-cpp17"
  },
  "language_info": {
   "codemirror_mode": "text/x-c++src",
   "file_extension": ".cpp",
   "mimetype": "text/x-c++src",
   "name": "c++",
   "version": "-std=c++17"
  }
 },
 "nbformat": 4,
 "nbformat_minor": 2
}
