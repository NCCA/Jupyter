{
 "cells": [
  {
   "cell_type": "markdown",
   "metadata": {},
   "source": [
    "# ngl::Random\n",
    "\n",
    "The ```ngl::Random``` class is a [singleton](https://en.wikipedia.org/wiki/Singleton_pattern) class that wraps up the new [C++ 11 random number generators](https://en.cppreference.com/w/cpp/header/random) \n",
    "\n",
    "For a good overview of these see this [video](https://youtu.be/6DPkyvkMkk8)\n",
    "\n"
   ]
  },
  {
   "cell_type": "code",
   "execution_count": 1,
   "metadata": {},
   "outputs": [],
   "source": [
    "// You may need to modify these paths to suit\n",
    "#pragma cling add_library_path(\"$HOME/NGL/lib\")\n",
    "#ifdef __APPLE__\n",
    "    #pragma cling load(\"$HOME/NGL/lib/libNGL.dylib\")\n",
    "#else\n",
    "    #pragma cling load(\"$HOME/NGL/lib/libNGL.so\")\n",
    "#endif\n",
    "#pragma cling add_include_path(\"$HOME/NGL/include\")\n",
    "#pragma cling add_include_path(\"$HOME/NGL/gl3w\")"
   ]
  },
  {
   "cell_type": "code",
   "execution_count": 2,
   "metadata": {},
   "outputs": [],
   "source": [
    "\n",
    "#include <ngl/Random.h>\n",
    "#include <ngl/NGLStream.h> // for printing\n",
    "#include <iostream>\n"
   ]
  },
  {
   "cell_type": "markdown",
   "metadata": {},
   "source": [
    "## instance()\n",
    "\n",
    "As creating number generators is slow, we use a singleton class to construct this once. It uses the ```std::mt19937 m_generator;``` as the default number generator;"
   ]
  },
  {
   "cell_type": "code",
   "execution_count": 12,
   "metadata": {},
   "outputs": [
    {
     "name": "stdout",
     "output_type": "stream",
     "text": [
      "0.755244 0.736535 -0.122277 0.361478 0.377358 -0.782564 0.105787 0.982052 0.199258 -0.907078 \n"
     ]
    }
   ],
   "source": [
    "{\n",
    "    auto rng=ngl::Random::instance();\n",
    "    for(int i=0; i<10; ++i)\n",
    "        std::cout<<rng->randomNumber()<<' ';\n",
    "    std::cout<<'\\n';\n",
    "}"
   ]
  },
  {
   "cell_type": "markdown",
   "metadata": {},
   "source": [
    "This method also takes in a scalar value so we can extend the default $\\pm 1 $"
   ]
  },
  {
   "cell_type": "code",
   "execution_count": 4,
   "metadata": {},
   "outputs": [
    {
     "name": "stdout",
     "output_type": "stream",
     "text": [
      "-8.04919 0.944412 -4.43004 -6.23236 0.93763 9.85763 9.15014 9.92923 9.29777 9.3539 \n"
     ]
    }
   ],
   "source": [
    "{\n",
    "    auto rng=ngl::Random::instance();\n",
    "    for(int i=0; i<10; ++i)\n",
    "        std::cout<<rng->randomNumber(10.0f)<<' ';\n",
    "    std::cout<<'\\n';\n",
    "}"
   ]
  },
  {
   "cell_type": "markdown",
   "metadata": {},
   "source": [
    "We can set the seed of the rng to give us the same sequence each time."
   ]
  },
  {
   "cell_type": "code",
   "execution_count": 5,
   "metadata": {},
   "outputs": [
    {
     "name": "stdout",
     "output_type": "stream",
     "text": [
      "-6.16961 -0.0467265 2.44218 6.35677 -1.24545 2.24224 5.70717 5.4272 5.59952 7.2134 \n"
     ]
    }
   ],
   "source": [
    "{\n",
    "    auto rng=ngl::Random::instance();\n",
    "    rng->setSeed(1234);\n",
    "    for(int i=0; i<10; ++i)\n",
    "        std::cout<<rng->randomNumber(10.0f)<<' ';\n",
    "    std::cout<<'\\n';\n",
    "}"
   ]
  },
  {
   "cell_type": "markdown",
   "metadata": {},
   "source": [
    "We can also get positive random numbers "
   ]
  },
  {
   "cell_type": "code",
   "execution_count": 14,
   "metadata": {},
   "outputs": [
    {
     "name": "stdout",
     "output_type": "stream",
     "text": [
      "1.91519 4.97664 6.22109 8.17838 4.37728 6.12112 7.85359 7.7136 7.79976 8.6067 \n"
     ]
    }
   ],
   "source": [
    "{\n",
    "    auto rng=ngl::Random::instance();\n",
    "    rng->setSeed(1234);\n",
    "    for(int i=0; i<10; ++i)\n",
    "        std::cout<<rng->randomPositiveNumber(10.0f)<<' ';\n",
    "    std::cout<<'\\n';\n",
    "}"
   ]
  },
  {
   "cell_type": "markdown",
   "metadata": {},
   "source": [
    "calling setSeed() with no parameter will call ```  m_generator.seed(static_cast<unsigned int>(std::time(nullptr)));``` "
   ]
  },
  {
   "cell_type": "code",
   "execution_count": 15,
   "metadata": {},
   "outputs": [
    {
     "name": "stdout",
     "output_type": "stream",
     "text": [
      "7.80658 9.67866 5.28512 2.54864 7.70814 4.45476 4.65592 3.14854 9.11279 7.67819 \n"
     ]
    }
   ],
   "source": [
    "{\n",
    "    auto rng=ngl::Random::instance();\n",
    "    rng->setSeed();\n",
    "    for(int i=0; i<10; ++i)\n",
    "        std::cout<<rng->randomPositiveNumber(10.0f)<<' ';\n",
    "    std::cout<<'\\n';\n",
    "}"
   ]
  },
  {
   "cell_type": "markdown",
   "metadata": {},
   "source": [
    "There are build in methods to get various ngl types. These are based on type and usage. Simple types can be generated like this."
   ]
  },
  {
   "cell_type": "code",
   "execution_count": 8,
   "metadata": {},
   "outputs": [
    {
     "name": "stdout",
     "output_type": "stream",
     "text": [
      "Vec2 [0.100019,-0.24232]\n",
      "Vec3 [0.780901,-0.981154,0.443756]\n",
      "Vec4 [0.519033,-0.685656,0.184433,0]\n"
     ]
    }
   ],
   "source": [
    "{\n",
    "    auto rng=ngl::Random::instance();\n",
    "    std::cout<<\"Vec2 \"<<rng->getRandomVec2()<<'\\n';\n",
    "    std::cout<<\"Vec3 \"<<rng->getRandomVec3()<<'\\n';\n",
    "    std::cout<<\"Vec4 \"<<rng->getRandomVec4()<<'\\n';    \n",
    "}"
   ]
  },
  {
   "cell_type": "markdown",
   "metadata": {},
   "source": [
    "We also have normalized versions"
   ]
  },
  {
   "cell_type": "code",
   "execution_count": 9,
   "metadata": {},
   "outputs": [
    {
     "name": "stdout",
     "output_type": "stream",
     "text": [
      "Vec2 [0.999795,0.0202273]\n",
      "Vec3 [0.822155,-0.568895,0.0204814]\n",
      "Vec4 [-0.439908,-0.181334,0.879545,0]\n"
     ]
    }
   ],
   "source": [
    "{\n",
    "    auto rng=ngl::Random::instance();\n",
    "    std::cout<<\"Vec2 \"<<rng->getRandomNormalizedVec2()<<'\\n';\n",
    "    std::cout<<\"Vec3 \"<<rng->getRandomNormalizedVec3()<<'\\n';\n",
    "    std::cout<<\"Vec4 \"<<rng->getRandomNormalizedVec4()<<'\\n';    \n",
    "}"
   ]
  },
  {
   "cell_type": "markdown",
   "metadata": {},
   "source": [
    "We can get a random point as a Vec3 by using the getRandomPoint function which takes a rang for each of the axis values which will be $\\pm xRange $ $\\pm yRange $ $\\pm zRange $"
   ]
  },
  {
   "cell_type": "code",
   "execution_count": 10,
   "metadata": {},
   "outputs": [
    {
     "name": "stdout",
     "output_type": "stream",
     "text": [
      "point [-3.48536,-1.23564,-4.44914]\n",
      "point [1.65508,1.45525,3.63085]\n",
      "point [1.24219,-0.814937,4.31499]\n",
      "point [-4.22153,-1.69383,-2.66278]\n",
      "point [-0.768537,0.0275156,3.89246]\n",
      "point [-3.69396,-0.0517577,4.38469]\n",
      "point [-0.383479,0.599988,-3.32792]\n",
      "point [4.82352,1.22816,0.580677]\n",
      "point [-1.69054,0.484808,-4.27842]\n",
      "point [1.05952,1.02031,-2.78288]\n"
     ]
    }
   ],
   "source": [
    "{\n",
    "    auto rng=ngl::Random::instance();\n",
    "    for(int i=0; i<10; ++i)\n",
    "        std::cout<<\"point \"<<rng->getRandomPoint(5.0f,2.0f,5.0f)<<'\\n';\n",
    "}"
   ]
  },
  {
   "cell_type": "markdown",
   "metadata": {},
   "source": [
    "For colour values we need to keep them positive so we can use"
   ]
  },
  {
   "cell_type": "code",
   "execution_count": 11,
   "metadata": {},
   "outputs": [
    {
     "name": "stdout",
     "output_type": "stream",
     "text": [
      "Colour 4[0.0787459,0.0184055,0.853999,1]\n",
      "Colour 3[0.394927,0.617271,0.904943]\n"
     ]
    }
   ],
   "source": [
    "{\n",
    "    auto rng=ngl::Random::instance();\n",
    "    std::cout<<\"Colour 4\"<<rng->getRandomColour4()<<'\\n';\n",
    "    std::cout<<\"Colour 3\"<<rng->getRandomColour3()<<'\\n';\n",
    "}"
   ]
  },
  {
   "cell_type": "code",
   "execution_count": null,
   "metadata": {},
   "outputs": [],
   "source": []
  },
  {
   "cell_type": "code",
   "execution_count": null,
   "metadata": {},
   "outputs": [],
   "source": []
  }
 ],
 "metadata": {
  "kernelspec": {
   "display_name": "C++17",
   "language": "C++17",
   "name": "xeus-cling-cpp17"
  },
  "language_info": {
   "codemirror_mode": "text/x-c++src",
   "file_extension": ".cpp",
   "mimetype": "text/x-c++src",
   "name": "c++",
   "version": "-std=c++17"
  }
 },
 "nbformat": 4,
 "nbformat_minor": 2
}
