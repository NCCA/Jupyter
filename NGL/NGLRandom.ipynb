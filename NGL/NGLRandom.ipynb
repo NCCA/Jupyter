{
 "cells": [
  {
   "cell_type": "markdown",
   "metadata": {},
   "source": [
    "# ngl::Random\n",
    "\n",
    "The ```ngl::Random``` class is a [singleton](https://en.wikipedia.org/wiki/Singleton_pattern) class that wraps up the new [C++ 11 random number generators](https://en.cppreference.com/w/cpp/header/random) \n",
    "\n",
    "For a good overview of these see this [video](https://youtu.be/6DPkyvkMkk8)\n",
    "\n"
   ]
  },
  {
   "cell_type": "code",
   "execution_count": 1,
   "metadata": {},
   "outputs": [],
   "source": [
    "// You may need to modify these paths to suit\n",
    "#pragma cling add_library_path(\"$HOME/NGL/lib\")\n",
    "#ifdef __APPLE__\n",
    "    #pragma cling load(\"$HOME/NGL/lib/libNGL.dylib\")\n",
    "#else\n",
    "    #pragma cling load(\"$HOME/NGL/lib/libNGL.so\")\n",
    "#endif\n",
    "#pragma cling add_include_path(\"$HOME/NGL/include\")\n",
    "#pragma cling add_include_path(\"$HOME/NGL/gl3w\")"
   ]
  },
  {
   "cell_type": "code",
   "execution_count": 2,
   "metadata": {},
   "outputs": [],
   "source": [
    "\n",
    "#include <ngl/Random.h>\n",
    "#include <ngl/NGLStream.h> // for printing\n",
    "#include <iostream>\n"
   ]
  },
  {
   "cell_type": "markdown",
   "metadata": {},
   "source": [
    "## instance()\n",
    "\n",
    "As creating number generators is slow, we use a singleton class to construct this once. It uses the ```std::mt19937 m_generator;``` as the default number generator;"
   ]
  },
  {
   "cell_type": "code",
   "execution_count": 3,
   "metadata": {},
   "outputs": [
    {
     "name": "stdout",
     "output_type": "stream",
     "text": [
      "0.629447 -0.729046 0.811584 0.670017 -0.746026 0.937736 0.826752 -0.557932 0.264719 -0.383666 \n"
     ]
    }
   ],
   "source": [
    "{\n",
    "    auto rng=ngl::Random::instance();\n",
    "    for(int i=0; i<10; ++i)\n",
    "        std::cout<<rng->randomNumber()<<' ';\n",
    "    std::cout<<'\\n';\n",
    "}"
   ]
  },
  {
   "cell_type": "markdown",
   "metadata": {},
   "source": [
    "This method also takes in a scalar value so we can extend the default $\\pm 1 $"
   ]
  },
  {
   "cell_type": "code",
   "execution_count": 4,
   "metadata": {},
   "outputs": [
    {
     "name": "stdout",
     "output_type": "stream",
     "text": [
      "-8.04919 0.944412 -4.43004 -6.23236 0.93763 9.85763 9.15014 9.92923 9.29777 9.3539 \n"
     ]
    }
   ],
   "source": [
    "{\n",
    "    auto rng=ngl::Random::instance();\n",
    "    for(int i=0; i<10; ++i)\n",
    "        std::cout<<rng->randomNumber(10.0f)<<' ';\n",
    "    std::cout<<'\\n';\n",
    "}"
   ]
  },
  {
   "cell_type": "markdown",
   "metadata": {},
   "source": [
    "We can set the seed of the rng to give us the same sequence each time."
   ]
  },
  {
   "cell_type": "code",
   "execution_count": 5,
   "metadata": {},
   "outputs": [
    {
     "name": "stdout",
     "output_type": "stream",
     "text": [
      "-6.16961 -0.0467265 2.44218 6.35677 -1.24545 2.24224 5.70717 5.4272 5.59952 7.2134 \n"
     ]
    }
   ],
   "source": [
    "{\n",
    "    auto rng=ngl::Random::instance();\n",
    "    rng->setSeed(1234);\n",
    "    for(int i=0; i<10; ++i)\n",
    "        std::cout<<rng->randomNumber(10.0f)<<' ';\n",
    "    std::cout<<'\\n';\n",
    "}"
   ]
  },
  {
   "cell_type": "markdown",
   "metadata": {},
   "source": [
    "We can also get positive random numbers "
   ]
  },
  {
   "cell_type": "code",
   "execution_count": 6,
   "metadata": {},
   "outputs": [
    {
     "name": "stdout",
     "output_type": "stream",
     "text": [
      "1.91519 4.97664 6.22109 8.17838 4.37728 6.12112 7.85359 7.7136 7.79976 8.6067 \n"
     ]
    }
   ],
   "source": [
    "{\n",
    "    auto rng=ngl::Random::instance();\n",
    "    rng->setSeed(1234);\n",
    "    for(int i=0; i<10; ++i)\n",
    "        std::cout<<rng->randomPositiveNumber(10.0f)<<' ';\n",
    "    std::cout<<'\\n';\n",
    "}"
   ]
  },
  {
   "cell_type": "markdown",
   "metadata": {},
   "source": [
    "calling setSeed() with no parameter will call ```  m_generator.seed(static_cast<unsigned int>(std::time(nullptr)));``` "
   ]
  },
  {
   "cell_type": "code",
   "execution_count": 7,
   "metadata": {},
   "outputs": [
    {
     "name": "stdout",
     "output_type": "stream",
     "text": [
      "7.36816 5.55749 6.81494 8.90347 9.53135 0.062519 0.905834 3.80843 7.70281 5.80739 \n"
     ]
    }
   ],
   "source": [
    "{\n",
    "    auto rng=ngl::Random::instance();\n",
    "    rng->setSeed();\n",
    "    for(int i=0; i<10; ++i)\n",
    "        std::cout<<rng->randomPositiveNumber(10.0f)<<' ';\n",
    "    std::cout<<'\\n';\n",
    "}"
   ]
  },
  {
   "cell_type": "markdown",
   "metadata": {},
   "source": [
    "There are build in methods to get various ngl types. These are based on type and usage. Simple types can be generated like this."
   ]
  },
  {
   "cell_type": "code",
   "execution_count": 8,
   "metadata": {},
   "outputs": [
    {
     "name": "stdout",
     "output_type": "stream",
     "text": [
      "Vec2 [-0.3416,-0.638777]\n",
      "Vec3 [0.929256,0.232913,-0.169475]\n",
      "Vec4 [-0.984641,0.547093,0.569978,0]\n"
     ]
    }
   ],
   "source": [
    "{\n",
    "    auto rng=ngl::Random::instance();\n",
    "    std::cout<<\"Vec2 \"<<rng->getRandomVec2()<<'\\n';\n",
    "    std::cout<<\"Vec3 \"<<rng->getRandomVec3()<<'\\n';\n",
    "    std::cout<<\"Vec4 \"<<rng->getRandomVec4()<<'\\n';    \n",
    "}"
   ]
  },
  {
   "cell_type": "markdown",
   "metadata": {},
   "source": [
    "We also have normalized versions"
   ]
  },
  {
   "cell_type": "code",
   "execution_count": 9,
   "metadata": {},
   "outputs": [
    {
     "name": "stdout",
     "output_type": "stream",
     "text": [
      "Vec2 [-0.363661,-0.931531]\n",
      "Vec3 [-0.590768,0.523699,-0.613786]\n",
      "Vec4 [0.427343,0.902214,-0.0582005,0]\n"
     ]
    }
   ],
   "source": [
    "{\n",
    "    auto rng=ngl::Random::instance();\n",
    "    std::cout<<\"Vec2 \"<<rng->getRandomNormalizedVec2()<<'\\n';\n",
    "    std::cout<<\"Vec3 \"<<rng->getRandomNormalizedVec3()<<'\\n';\n",
    "    std::cout<<\"Vec4 \"<<rng->getRandomNormalizedVec4()<<'\\n';    \n",
    "}"
   ]
  },
  {
   "cell_type": "markdown",
   "metadata": {},
   "source": [
    "We can get a random point as a Vec3 by using the getRandomPoint function which takes a rang for each of the axis values which will be $\\pm xRange $ $\\pm yRange $ $\\pm zRange $"
   ]
  },
  {
   "cell_type": "code",
   "execution_count": 10,
   "metadata": {},
   "outputs": [
    {
     "name": "stdout",
     "output_type": "stream",
     "text": [
      "point [3.37662,1.347,4.4195]\n",
      "point [0.546987,0.247566,-0.00887692]\n",
      "point [0.100343,-0.481503,-4.14905]\n",
      "point [1.23539,-1.35184,1.34366]\n",
      "point [0.778152,1.90165,-1.18678]\n",
      "point [-1.6122,-1.68051,1.51921]\n",
      "point [-0.65341,-0.384303,2.19413]\n",
      "point [3.80905,-0.515991,-1.41798]\n",
      "point [2.95747,-0.737826,-4.18601]\n",
      "point [-0.402733,-0.850884,1.50587]\n"
     ]
    }
   ],
   "source": [
    "{\n",
    "    auto rng=ngl::Random::instance();\n",
    "    for(int i=0; i<10; ++i)\n",
    "        std::cout<<\"point \"<<rng->getRandomPoint(5.0f,2.0f,5.0f)<<'\\n';\n",
    "}"
   ]
  },
  {
   "cell_type": "markdown",
   "metadata": {},
   "source": [
    "For colour values we need to keep them positive so we can use"
   ]
  },
  {
   "cell_type": "code",
   "execution_count": 11,
   "metadata": {},
   "outputs": [
    {
     "name": "stdout",
     "output_type": "stream",
     "text": [
      "Colour 4[0.641923,0.0669377,0.109777,1]\n",
      "Colour 3[0.0176283,0.659537,0.789271]\n"
     ]
    }
   ],
   "source": [
    "{\n",
    "    auto rng=ngl::Random::instance();\n",
    "    std::cout<<\"Colour 4\"<<rng->getRandomColour4()<<'\\n';\n",
    "    std::cout<<\"Colour 3\"<<rng->getRandomColour3()<<'\\n';\n",
    "}"
   ]
  },
  {
   "cell_type": "code",
   "execution_count": null,
   "metadata": {},
   "outputs": [],
   "source": []
  },
  {
   "cell_type": "code",
   "execution_count": null,
   "metadata": {},
   "outputs": [],
   "source": []
  }
 ],
 "metadata": {
  "kernelspec": {
   "display_name": "C++17",
   "language": "C++17",
   "name": "xeus-cling-cpp17"
  },
  "language_info": {
   "codemirror_mode": "text/x-c++src",
   "file_extension": ".cpp",
   "mimetype": "text/x-c++src",
   "name": "c++",
   "version": "-std=c++17"
  }
 },
 "nbformat": 4,
 "nbformat_minor": 2
}
