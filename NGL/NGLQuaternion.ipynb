{
 "cells": [
  {
   "cell_type": "code",
   "execution_count": null,
   "metadata": {},
   "outputs": [],
   "source": []
  },
  {
   "cell_type": "markdown",
   "metadata": {},
   "source": [
    "# ngl::Quaternion\n",
    "\n",
    "The ```ngl::Quaternion``` class is a "
   ]
  },
  {
   "cell_type": "code",
   "execution_count": 1,
   "metadata": {},
   "outputs": [],
   "source": [
    "// You may need to modify these paths to suit\n",
    "#pragma cling add_library_path(\"$HOME/NGL/lib\")\n",
    "#ifdef __APPLE__\n",
    "    #pragma cling load(\"$HOME/NGL/lib/libNGL.dylib\")\n",
    "#else\n",
    "    #pragma cling load(\"$HOME/NGL/lib/libNGL.so\")\n",
    "#endif\n",
    "#pragma cling add_include_path(\"$HOME/NGL/include\")\n",
    "#pragma cling add_include_path(\"$HOME/NGL/gl3w\")"
   ]
  },
  {
   "cell_type": "code",
   "execution_count": 2,
   "metadata": {},
   "outputs": [],
   "source": [
    "#include <ngl/Mat4.h>\n",
    "#include <ngl/Quaternion.h>\n",
    "#include <ngl/NGLStream.h> // for printing\n",
    "#include <iostream>\n",
    "#include <vector>\n"
   ]
  },
  {
   "cell_type": "markdown",
   "metadata": {},
   "source": [
    "To construct an ```ngl::Quaternion``` we can do the following"
   ]
  },
  {
   "cell_type": "code",
   "execution_count": 3,
   "metadata": {},
   "outputs": [
    {
     "name": "stdout",
     "output_type": "stream",
     "text": [
      "0 [0i,0j,0k]\n"
     ]
    }
   ],
   "source": [
    "{\n",
    "    ngl::Quaternion Quaternion;\n",
    "    std::cout<<Quaternion<<'\\n';\n",
    "}"
   ]
  },
  {
   "cell_type": "markdown",
   "metadata": {},
   "source": [
    "constructor I use the format used in [John Vinces book](https://dl.acm.org/citation.cfm?id=2016678) where we have a scalar and a vector, some libraries do this the other way round and use the w component, make sure you check if using different libs.\n",
    "```c++\n",
    "/// @brief  the quaternion data for the scalar real part\n",
    "Real m_s;\n",
    "/// @brief  the quaternion data for x\n",
    "Real m_x;\n",
    "/// @brief  the quaternion data for y\n",
    "Real m_y;\n",
    "/// @brief  the quaternion data for z\n",
    "Real m_z;\n",
    "```"
   ]
  },
  {
   "cell_type": "markdown",
   "metadata": {},
   "source": [
    "We can construct from the components"
   ]
  },
  {
   "cell_type": "code",
   "execution_count": 4,
   "metadata": {},
   "outputs": [
    {
     "name": "stdout",
     "output_type": "stream",
     "text": [
      "2 [0i,1j,0k]\n"
     ]
    }
   ],
   "source": [
    "{\n",
    "    ngl::Quaternion Quaternion(2.0f,0.0f,1.0f,0.0f);\n",
    "    std::cout<<Quaternion<<'\\n';\n",
    "}"
   ]
  },
  {
   "cell_type": "markdown",
   "metadata": {},
   "source": [
    "Or from a Mat4"
   ]
  },
  {
   "cell_type": "code",
   "execution_count": 25,
   "metadata": {},
   "outputs": [
    {
     "name": "stdout",
     "output_type": "stream",
     "text": [
      "0.92388 [0.382683i,0j,0k]\n",
      "We can convert back to matrix form\n",
      "[1,0,0,0]\n",
      "[0,0.707107,-0.707107,0]\n",
      "[0,0.707107,0.707107,0]\n",
      "[0,0,0,1]\n",
      "\n"
     ]
    }
   ],
   "source": [
    "{\n",
    "    ngl::Mat4 tx;\n",
    "    tx.rotateX(45.0f);\n",
    "    ngl::Quaternion Quaternion(tx);\n",
    "    std::cout<<Quaternion<<'\\n';\n",
    "    auto mat=Quaternion.toMat4();\n",
    "    std::cout<<\"We can convert back to matrix form\\n\";\n",
    "    std::cout<<mat<<'\\n';\n",
    "}"
   ]
  },
  {
   "cell_type": "markdown",
   "metadata": {},
   "source": [
    "There are also set and get methods."
   ]
  },
  {
   "cell_type": "code",
   "execution_count": 6,
   "metadata": {},
   "outputs": [
    {
     "name": "stdout",
     "output_type": "stream",
     "text": [
      "0 [0i,0j,0k]\n",
      "0.2 [1i,0j,0k]\n",
      "0.2 [0i,0j,1k]\n"
     ]
    }
   ],
   "source": [
    "{\n",
    "    ngl::Quaternion quat;\n",
    "    std::cout<<quat<<'\\n';\n",
    "    quat.set(0.2f,1.0f,0.0f,0.0f);\n",
    "    std::cout<<quat<<'\\n';\n",
    "    quat.setVector(ngl::Vec3(0.0f,0.0f,1.0f));\n",
    "    std::cout<<quat<<'\\n';\n",
    "    \n",
    "}"
   ]
  },
  {
   "cell_type": "markdown",
   "metadata": {},
   "source": [
    "## Quaternion Mathematics\n",
    "\n",
    "There are a number of mathematical properties of a quaternion many are described [here](https://en.wikipedia.org/wiki/Quaternion)\n",
    "\n",
    "```ngl::Quaternion``` supports a number of operations\n",
    "\n",
    "## Multiplication by a scalar"
   ]
  },
  {
   "cell_type": "code",
   "execution_count": 7,
   "metadata": {},
   "outputs": [
    {
     "name": "stdout",
     "output_type": "stream",
     "text": [
      "1 [0.5i,0j,0k]\n",
      "-1 [-0.5i,-0j,-0k]\n"
     ]
    }
   ],
   "source": [
    "{\n",
    "    ngl::Quaternion quat{2.0f,1.0f,0.0f,0.0f};\n",
    "    std::cout<<quat*0.5f<<'\\n';\n",
    "    quat *= -0.5f;\n",
    "    std::cout<<quat<<'\\n';\n",
    "}"
   ]
  },
  {
   "cell_type": "markdown",
   "metadata": {},
   "source": [
    "   ## Addition and Subtraction"
   ]
  },
  {
   "cell_type": "code",
   "execution_count": 10,
   "metadata": {},
   "outputs": [
    {
     "name": "stdout",
     "output_type": "stream",
     "text": [
      "a-b = -1.2 [1i,-1j,1k]\n",
      "a+b =5.2 [1i,1j,1k]\n",
      "a+=b 5.2 [1i,1j,1k]\n"
     ]
    }
   ],
   "source": [
    "{\n",
    "    ngl::Quaternion a{2.0f,1.0f,0.0f,1.0f};\n",
    "    ngl::Quaternion b{3.2f,0.0f,1.0f,0.0f};\n",
    "    std::cout<<\"a-b = \"<<a-b<<'\\n';\n",
    "    std::cout<<\"a+b =\"<<a+b<<'\\n';\n",
    "    a+=b;\n",
    "    std::cout<<\"a+=b \"<<a<<'\\n';\n",
    "}"
   ]
  },
  {
   "cell_type": "markdown",
   "metadata": {},
   "source": [
    "## Multiplication"
   ]
  },
  {
   "cell_type": "code",
   "execution_count": 13,
   "metadata": {},
   "outputs": [
    {
     "name": "stdout",
     "output_type": "stream",
     "text": [
      "a*b = 6.4 [2.2i,2j,4.2k]\n",
      "b*a =6.4 [4.2i,2j,2.2k]\n",
      "a*=b 6.4 [2.2i,2j,4.2k]\n"
     ]
    }
   ],
   "source": [
    "{\n",
    "    ngl::Quaternion a{2.0f,1.0f,0.0f,1.0f};\n",
    "    ngl::Quaternion b{3.2f,0.0f,1.0f,0.0f};\n",
    "    std::cout<<\"a*b = \"<<a*b<<'\\n';\n",
    "    std::cout<<\"b*a =\"<<b*a<<'\\n';\n",
    "    a*=b;\n",
    "    std::cout<<\"a*=b \"<<a<<'\\n';\n",
    "}"
   ]
  },
  {
   "cell_type": "markdown",
   "metadata": {},
   "source": [
    "## Other Operations"
   ]
  },
  {
   "cell_type": "code",
   "execution_count": 23,
   "metadata": {},
   "outputs": [
    {
     "name": "stdout",
     "output_type": "stream",
     "text": [
      "Magnitude of a is 2.44949\n",
      "Conjugate of a is 2 [-1i,-0j,-1k]\n",
      "Inverse of a is 2 [-1i,-0j,-1k]\n",
      "Normalize \n",
      "0.816497 [0.408248i,0j,0.408248k]\n"
     ]
    }
   ],
   "source": [
    "{\n",
    "    ngl::Quaternion a{2.0f,1.0f,0.0f,1.0f};\n",
    "    std::cout<<\"Magnitude of a is \"<<a.magnitude()<<'\\n';\n",
    "    std::cout<<\"Conjugate of a is \"<<a.conjugate()<<'\\n';\n",
    "    std::cout<<\"Inverse of a is \"<<a.inverse()<<'\\n';\n",
    "    std::cout<<\"Normalize \\n\";\n",
    "    a.normalise();\n",
    "    std::cout<<a<<'\\n';\n",
    "}"
   ]
  },
  {
   "cell_type": "markdown",
   "metadata": {},
   "source": [
    "## Spherical Interpolation\n",
    "\n",
    "Quaternions are useful for Spherical Interpolation [slerp](https://en.wikipedia.org/wiki/Slerp) This allows use to interpolate from one rotation value to another with a value of  $ 0\\leq t \\leq 1 $ . Typicall we would set a quaternion for a start rotation and one for the end and use the slerp function to interpolate between them. Usually converting to and from a Mat4 representation for ease, as show in the following example."
   ]
  },
  {
   "cell_type": "code",
   "execution_count": 30,
   "metadata": {},
   "outputs": [
    {
     "name": "stdout",
     "output_type": "stream",
     "text": [
      "0.976296 [-0.21644i,0j,0k]\n",
      "as Matrix \n",
      "[1,-0,0,0]\n",
      "[0,0.906308,0.422618,0]\n",
      "[-0,-0.422618,0.906308,0]\n",
      "[0,0,0,1]\n",
      "\n",
      "0.992027 [-0.126026i,0j,0k]\n",
      "as Matrix \n",
      "[1,-0,0,0]\n",
      "[0,0.968235,0.250042,0]\n",
      "[-0,-0.250042,0.968235,0]\n",
      "[0,0,0,1]\n",
      "\n",
      "0.999403 [-0.0345507i,0j,0k]\n",
      "as Matrix \n",
      "[1,-0,0,0]\n",
      "[0,0.997612,0.06906,0]\n",
      "[-0,-0.06906,0.997612,0]\n",
      "[0,0,0,1]\n",
      "\n",
      "0.998362 [0.0572156i,0j,0k]\n",
      "as Matrix \n",
      "[1,0,0,0]\n",
      "[0,0.993453,-0.114244,0]\n",
      "[0,0.114244,0.993453,0]\n",
      "[0,0,0,1]\n",
      "\n",
      "0.988912 [0.1485i,0j,0k]\n",
      "as Matrix \n",
      "[1,0,0,0]\n",
      "[0,0.955896,-0.293707,0]\n",
      "[0,0.293707,0.955896,0]\n",
      "[0,0,0,1]\n",
      "\n",
      "0.971134 [0.238533i,0j,0k]\n",
      "as Matrix \n",
      "[1,0,0,0]\n",
      "[0,0.886204,-0.463296,0]\n",
      "[0,0.463296,0.886204,0]\n",
      "[0,0,0,1]\n",
      "\n",
      "0.945177 [0.326558i,0j,0k]\n",
      "as Matrix \n",
      "[1,0,0,0]\n",
      "[0,0.78672,-0.617311,0]\n",
      "[0,0.617311,0.78672,0]\n",
      "[0,0,0,1]\n",
      "\n",
      "0.91126 [0.411833i,0j,0k]\n",
      "as Matrix \n",
      "[1,0,0,0]\n",
      "[0,0.660788,-0.750573,0]\n",
      "[0,0.750573,0.660788,0]\n",
      "[0,0,0,1]\n",
      "\n",
      "0.869667 [0.493638i,0j,0k]\n",
      "as Matrix \n",
      "[1,0,0,0]\n",
      "[0,0.512642,-0.858602,0]\n",
      "[0,0.858602,0.512642,0]\n",
      "[0,0,0,1]\n",
      "\n",
      "0.82075 [0.571287i,0j,0k]\n",
      "as Matrix \n",
      "[1,0,0,0]\n",
      "[0,0.347263,-0.937768,0]\n",
      "[0,0.937768,0.347263,0]\n",
      "[0,0,0,1]\n",
      "\n"
     ]
    }
   ],
   "source": [
    "{\n",
    "    ngl::Mat4 start,end;\n",
    "    start.rotateX(-25.0f);\n",
    "    end.rotateX(80.2f);\n",
    "    ngl::Quaternion qstart(start);\n",
    "    ngl::Quaternion qend(end);\n",
    "    for(ngl::Real t=0; t<=1.0f; t+=0.1f)\n",
    "    {\n",
    "        std::cout<<ngl::Quaternion::slerp(qstart,qend,t)<<'\\n';\n",
    "        std::cout<<\"as Matrix \\n\"<<ngl::Quaternion::slerp(qstart,qend,t).toMat4()<<'\\n';\n",
    "        \n",
    "    }\n",
    "}"
   ]
  },
  {
   "cell_type": "code",
   "execution_count": null,
   "metadata": {},
   "outputs": [],
   "source": []
  }
 ],
 "metadata": {
  "kernelspec": {
   "display_name": "C++17",
   "language": "C++17",
   "name": "xeus-cling-cpp17"
  },
  "language_info": {
   "codemirror_mode": "text/x-c++src",
   "file_extension": ".cpp",
   "mimetype": "text/x-c++src",
   "name": "c++",
   "version": "-std=c++17"
  }
 },
 "nbformat": 4,
 "nbformat_minor": 2
}
