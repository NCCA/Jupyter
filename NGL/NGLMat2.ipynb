{
 "cells": [
  {
   "cell_type": "markdown",
   "metadata": {},
   "source": [
    "## ngl::Mat2\n",
    "\n",
    "The ```ngl::Mat2``` class is a simple 2x2 matrix of floating point values.\n",
    "\n",
    "Internally the data is stored in a [union](https://en.cppreference.com/w/cpp/language/union) like this\n",
    "\n",
    "```c++\n",
    "union\n",
    "{\n",
    "  Real m_m[2][2];\n",
    "  std::array<Real,4> m_openGL={{\n",
    "              1.0f,0.0f,\n",
    "              0.0f,1.0f\n",
    "              }};\n",
    "  struct\n",
    "  {\n",
    "    Real m_00;\n",
    "    Real m_01;\n",
    "    Real m_10;\n",
    "    Real m_11;\n",
    "  };\n",
    "};\n",
    "\n",
    "```"
   ]
  },
  {
   "cell_type": "code",
   "execution_count": 1,
   "metadata": {},
   "outputs": [],
   "source": [
    "// You may need to modify these paths to suit\n",
    "#pragma cling add_library_path(\"$HOME/NGL/lib\")\n",
    "#ifdef __APPLE__\n",
    "    #pragma cling load(\"$HOME/NGL/lib/libNGL.dylib\")\n",
    "#else\n",
    "    #pragma cling load(\"$HOME/NGL/lib/libNGL.so\")\n",
    "#endif\n",
    "#pragma cling add_include_path(\"$HOME/NGL/include\")\n",
    "#pragma cling add_include_path(\"$HOME/NGL/gl3w\")"
   ]
  },
  {
   "cell_type": "code",
   "execution_count": 2,
   "metadata": {},
   "outputs": [],
   "source": [
    "#include <ngl/Vec2.h>\n",
    "#include <ngl/Mat2.h>\n",
    "#include <ngl/NGLStream.h> // for printing\n",
    "#include <iostream>\n"
   ]
  },
  {
   "cell_type": "markdown",
   "metadata": {},
   "source": [
    "To construct an ```ngl::Mat2``` we can do the following"
   ]
  },
  {
   "cell_type": "code",
   "execution_count": 3,
   "metadata": {},
   "outputs": [
    {
     "name": "stdout",
     "output_type": "stream",
     "text": [
      "default \n",
      "[1,0]\n",
      "[0,1]\n",
      "\n",
      "user \n",
      "[2.2,0]\n",
      "[0,3.1]\n",
      "\n",
      "scaleBy10 \n",
      "[10,0]\n",
      "[0,10]\n",
      "\n"
     ]
    }
   ],
   "source": [
    "{\n",
    "    ngl::Mat2 defaultCtor;\n",
    "    ngl::Mat2 user(2.2f,0.0f,0.0f,3.1f);\n",
    "    ngl::Mat2 scaleBy10(10.0f);\n",
    "    std::cout<<\"default \\n\"<<defaultCtor<<'\\n';\n",
    "    std::cout<<\"user \\n\"<<user<<'\\n';\n",
    "    std::cout<<\"scaleBy10 \\n\"<<scaleBy10<<'\\n';\n",
    "}"
   ]
  },
  {
   "cell_type": "markdown",
   "metadata": {},
   "source": [
    "All of the attributes in a Mat2 are public and can be accessed in the following ways"
   ]
  },
  {
   "cell_type": "code",
   "execution_count": 4,
   "metadata": {},
   "outputs": [
    {
     "name": "stdout",
     "output_type": "stream",
     "text": [
      "[99,8]\n",
      "[-2,100]\n",
      "\n"
     ]
    }
   ],
   "source": [
    "{\n",
    "    ngl::Mat2 m;\n",
    "    m.m_00=99.0f;\n",
    "    m.m_m[0][1]=8.0f;\n",
    "    m.m_10=-2.0f;\n",
    "    m.m_openGL[3]=100.0f;\n",
    "    std::cout<<m<<'\\n';\n",
    "    \n",
    "}"
   ]
  },
  {
   "cell_type": "markdown",
   "metadata": {},
   "source": [
    "We can zero the matrix using the null() method."
   ]
  },
  {
   "cell_type": "code",
   "execution_count": 5,
   "metadata": {},
   "outputs": [
    {
     "name": "stdout",
     "output_type": "stream",
     "text": [
      "[1,0]\n",
      "[0,1]\n",
      "\n",
      "\n",
      "after null\n",
      "[0,0]\n",
      "[0,0]\n",
      "\n"
     ]
    }
   ],
   "source": [
    "{\n",
    "    ngl::Mat2 a;\n",
    "    std::cout<<a<<'\\n';\n",
    "    a.null();\n",
    "    std::cout<<\"\\nafter null\\n\"<<a<<'\\n';\n",
    "}"
   ]
  },
  {
   "cell_type": "markdown",
   "metadata": {},
   "source": [
    "We can reset a matrix to the [identity matrix](https://en.wikipedia.org/wiki/Identity_matrix) using the .identity() method. "
   ]
  },
  {
   "cell_type": "code",
   "execution_count": 6,
   "metadata": {},
   "outputs": [
    {
     "name": "stdout",
     "output_type": "stream",
     "text": [
      "[2,3]\n",
      "[4,5]\n",
      "\n",
      "\n",
      "after identity\n",
      "[1,0]\n",
      "[0,1]\n",
      "\n"
     ]
    }
   ],
   "source": [
    "{\n",
    "    auto m=ngl::Mat2{2.0f,3.0f,4.0f,5.0f};\n",
    "    std::cout<<m<<'\\n';\n",
    "    m.identity();\n",
    "    std::cout<<\"\\nafter identity\\n\"<<m<<'\\n';\n",
    "}"
   ]
  },
  {
   "cell_type": "markdown",
   "metadata": {},
   "source": [
    "## Transformations\n",
    "\n",
    "```ngl::Mat2``` has a number of transformation functions"
   ]
  },
  {
   "cell_type": "code",
   "execution_count": 7,
   "metadata": {},
   "outputs": [
    {
     "name": "stdout",
     "output_type": "stream",
     "text": [
      "[1,2]\n",
      "[3,4]\n",
      "\n",
      "transpose \n",
      "[1,3]\n",
      "[2,4]\n",
      "\n"
     ]
    }
   ],
   "source": [
    "{\n",
    "   ngl::Mat2 m{1.0f,2.0f,3.0f,4.0f};\n",
    "   std::cout<<m<<'\\n';\n",
    "   m.transpose();\n",
    "   std::cout<<\"transpose \\n\" <<m<<'\\n';\n",
    "    \n",
    "    \n",
    "}"
   ]
  },
  {
   "cell_type": "markdown",
   "metadata": {},
   "source": [
    "We can set the matrix to be a scale matrix using the scale method;"
   ]
  },
  {
   "cell_type": "code",
   "execution_count": 8,
   "metadata": {},
   "outputs": [
    {
     "name": "stdout",
     "output_type": "stream",
     "text": [
      "[0.5,0]\n",
      "[0,0.3]\n",
      "\n"
     ]
    }
   ],
   "source": [
    "{\n",
    "    ngl::Mat2 scale;\n",
    "    scale.scale(0.5,0.3);\n",
    "    std::cout<<scale<<'\\n';\n",
    "}"
   ]
  },
  {
   "cell_type": "markdown",
   "metadata": {},
   "source": [
    "And create a simple rotation matrix by calling the rotate method passing in the rotation in degrees."
   ]
  },
  {
   "cell_type": "code",
   "execution_count": 9,
   "metadata": {},
   "outputs": [
    {
     "name": "stdout",
     "output_type": "stream",
     "text": [
      "[0.819152,-0.573577]\n",
      "[0.573577,0.819152]\n",
      "\n"
     ]
    }
   ],
   "source": [
    "{\n",
    "    auto tx=ngl::Mat2();\n",
    "    tx.rotate(35.0f);\n",
    "    std::cout<<tx<<'\\n';\n",
    "}"
   ]
  },
  {
   "cell_type": "raw",
   "metadata": {},
   "source": []
  },
  {
   "cell_type": "markdown",
   "metadata": {},
   "source": [
    "## Matrix math operations\n",
    "\n",
    "Standard matrix math operations are available via operator overloading."
   ]
  },
  {
   "cell_type": "code",
   "execution_count": 10,
   "metadata": {},
   "outputs": [
    {
     "name": "stdout",
     "output_type": "stream",
     "text": [
      "[19,22]\n",
      "[43,50]\n",
      "\n"
     ]
    }
   ],
   "source": [
    "{\n",
    "    ngl::Mat2 a(1.0f,2.0f,3.0f,4.0f);\n",
    "    ngl::Mat2 b(5.0f,6.0f,7.0f,8.0f);\n",
    "    auto result=a*b;\n",
    "    std::cout<<result<<'\\n';  \n",
    "}"
   ]
  },
  {
   "cell_type": "code",
   "execution_count": 11,
   "metadata": {},
   "outputs": [
    {
     "name": "stdout",
     "output_type": "stream",
     "text": [
      "[19,22]\n",
      "[43,50]\n",
      "\n"
     ]
    }
   ],
   "source": [
    "{\n",
    "    ngl::Mat2 a(1.0f,2.0f,3.0f,4.0f);\n",
    "    ngl::Mat2 b(5.0f,6.0f,7.0f,8.0f);\n",
    "    a*=b;\n",
    "    std::cout<<a<<'\\n';\n",
    "}"
   ]
  },
  {
   "cell_type": "code",
   "execution_count": 12,
   "metadata": {},
   "outputs": [
    {
     "name": "stdout",
     "output_type": "stream",
     "text": [
      "[6,8]\n",
      "[10,12]\n",
      "\n"
     ]
    }
   ],
   "source": [
    "{\n",
    "    ngl::Mat2 a(1.0f,2.0f,3.0f,4.0f);\n",
    "    ngl::Mat2 b(5.0f,6.0f,7.0f,8.0f);\n",
    "    auto result=a+b;\n",
    "    std::cout<<result<<'\\n';\n",
    "}"
   ]
  },
  {
   "cell_type": "code",
   "execution_count": 13,
   "metadata": {},
   "outputs": [
    {
     "name": "stdout",
     "output_type": "stream",
     "text": [
      "[6,8]\n",
      "[10,12]\n",
      "\n"
     ]
    }
   ],
   "source": [
    "{\n",
    "    ngl::Mat2 a(1.0f,2.0f,3.0f,4.0f);\n",
    "    ngl::Mat2 b(5.0f,6.0f,7.0f,8.0f);\n",
    "    a+=b;\n",
    "    std::cout<<a<<'\\n';\n",
    "}"
   ]
  },
  {
   "cell_type": "markdown",
   "metadata": {},
   "source": [
    "We can multiply each matrix element by a scalar"
   ]
  },
  {
   "cell_type": "code",
   "execution_count": 14,
   "metadata": {},
   "outputs": [
    {
     "name": "stdout",
     "output_type": "stream",
     "text": [
      "[0.5,1]\n",
      "[1.5,2]\n",
      "\n",
      "[0.2,0.4]\n",
      "[0.6,0.8]\n",
      "\n"
     ]
    }
   ],
   "source": [
    "{\n",
    "    auto a=ngl::Mat2(1.0f,2.0f,3.0f,4.0f);\n",
    "    auto b=a*0.5f;\n",
    "    std::cout<<b<<'\\n';\n",
    "    a*=0.2f;\n",
    "    std::cout<<a<<'\\n';\n",
    "}"
   ]
  },
  {
   "cell_type": "markdown",
   "metadata": {},
   "source": [
    "We can also multiply and ```ngl::Vec2``` by a ```ngl::Mat2```"
   ]
  },
  {
   "cell_type": "code",
   "execution_count": 15,
   "metadata": {},
   "outputs": [
    {
     "name": "stdout",
     "output_type": "stream",
     "text": [
      "[-0.126786,0.271892]\n"
     ]
    }
   ],
   "source": [
    "{\n",
    "    ngl::Vec2 p1{0.0f,1.0f};\n",
    "    ngl::Mat2 scale;\n",
    "    scale.scale(0.5,0.3);\n",
    "    ngl::Mat2 rotate;\n",
    "    rotate.rotate(25.0f);\n",
    "    auto tx=rotate*scale;\n",
    "    std::cout<<tx*p1<<'\\n';\n",
    "}"
   ]
  },
  {
   "cell_type": "code",
   "execution_count": null,
   "metadata": {},
   "outputs": [],
   "source": []
  }
 ],
 "metadata": {
  "kernelspec": {
   "display_name": "C++17",
   "language": "C++17",
   "name": "xeus-cling-cpp17"
  },
  "language_info": {
   "codemirror_mode": "text/x-c++src",
   "file_extension": ".cpp",
   "mimetype": "text/x-c++src",
   "name": "c++",
   "version": "-std=c++17"
  }
 },
 "nbformat": 4,
 "nbformat_minor": 2
}
