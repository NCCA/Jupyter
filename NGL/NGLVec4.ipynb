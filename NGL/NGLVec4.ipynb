{
 "cells": [
  {
   "cell_type": "markdown",
   "metadata": {},
   "source": [
    "# ngl::Vec4\n",
    "\n",
    "The ```ngl::Vec4``` class is a simple vector of floats class we can use it for basic linear algebra and is usually used to represent [homogeneous 3D co-ordinates](https://en.wikipedia.org/wiki/Homogeneous_coordinates). As these are conventionally used when multiplying values by a 4x4 transformation matrix in 3D systems some liberties have been taken with how the m_w component is used. In most mathematical operations the design decision was made to leave the Left hand side (LHS) value for m_w rather than (for example) adding both components together. This makes it easier for Vec3 and Vec4 types to be interchanged."
   ]
  },
  {
   "cell_type": "code",
   "execution_count": 1,
   "metadata": {},
   "outputs": [],
   "source": [
    "// You may need to modify these paths to suit\n",
    "#pragma cling add_library_path(\"$HOME/NGL/lib\")\n",
    "#ifdef __APPLE__\n",
    "    #pragma cling load(\"$HOME/NGL/lib/libNGL.dylib\")\n",
    "#else\n",
    "    #pragma cling load(\"$HOME/NGL/lib/libNGL.so\")\n",
    "#endif\n",
    "#pragma cling add_include_path(\"$HOME/NGL/include\")\n",
    "#pragma cling add_include_path(\"$HOME/NGL/gl3w\")"
   ]
  },
  {
   "cell_type": "code",
   "execution_count": 2,
   "metadata": {},
   "outputs": [],
   "source": [
    "#include <ngl/Vec3.h>\n",
    "#include <ngl/Vec4.h>\n",
    "#include <ngl/NGLStream.h> // for printing\n",
    "#include <iostream>\n",
    "#include <vector>\n"
   ]
  },
  {
   "cell_type": "markdown",
   "metadata": {},
   "source": [
    "To construct an ```ngl::Vec4``` we can do the following"
   ]
  },
  {
   "cell_type": "code",
   "execution_count": 3,
   "metadata": {},
   "outputs": [
    {
     "name": "stdout",
     "output_type": "stream",
     "text": [
      "default [0,0,0,1]\n",
      "user [1,2,3,1]\n",
      "one [0.5,0.5,0.5,1]\n"
     ]
    }
   ],
   "source": [
    "{\n",
    "    ngl::Vec4 defaultCtor;\n",
    "    ngl::Vec4 user(1.0f,2.0f,3.0f);\n",
    "    ngl::Vec4 one(0.5f);\n",
    "    std::cout<<\"default \"<<defaultCtor<<'\\n';\n",
    "    std::cout<<\"user \"<<user<<'\\n';\n",
    "    std::cout<<\"one \"<<one<<'\\n';\n",
    "}"
   ]
  },
  {
   "cell_type": "markdown",
   "metadata": {},
   "source": [
    "All of the attributes in a Vec4 are public and can be accessed in the following ways"
   ]
  },
  {
   "cell_type": "code",
   "execution_count": 15,
   "metadata": {},
   "outputs": [
    {
     "name": "stdout",
     "output_type": "stream",
     "text": [
      "1 2 3 4\n",
      "1 2 3 4\n",
      "1 2 3 3\n",
      "Modified v [102,2,-7,4]\n"
     ]
    }
   ],
   "source": [
    "{\n",
    "    auto v=ngl::Vec4(1.0f,2.0f,3.0f,4.0f); // Note call to copy ctor\n",
    "    // as x,y,z,w\n",
    "    std::cout<<v.m_x<<' '<<v.m_y<<' '<<v.m_z<<' '<<v.m_w<<'\\n';\n",
    "    // as r,g,b,a (for colours)\n",
    "    std::cout<<v.m_r<<' '<<v.m_g<<' '<<v.m_b<<' '<<v.m_a<<'\\n';\n",
    "    // or as an array\n",
    "    std::cout<<v.m_openGL[0]<<' '<<v.m_openGL[1]<<' '<<v.m_openGL[2]<<' '<<v.m_openGL[2]<<'\\n';\n",
    "   // We can modify elements as well\n",
    "    v.m_x=99.0f;\n",
    "    v.m_r+=3.0f;\n",
    "    v.m_openGL[2]-=10.0f;\n",
    "    std::cout<<\"Modified v \"<<v<<'\\n';\n",
    "}"
   ]
  },
  {
   "cell_type": "markdown",
   "metadata": {},
   "source": [
    "There are also a variety of set methods to set all the elements"
   ]
  },
  {
   "cell_type": "code",
   "execution_count": 16,
   "metadata": {},
   "outputs": [
    {
     "name": "stdout",
     "output_type": "stream",
     "text": [
      "[0,0,0,1]\n",
      "[1,1,1,1]\n",
      "[2,2,2,1]\n",
      "[3,3,3,1]\n",
      "[4,4,4,1]\n"
     ]
    }
   ],
   "source": [
    "{\n",
    "    std::vector<ngl::Vec4> points(5);\n",
    "    for(size_t i=0; i<points.size(); ++i)\n",
    "    {\n",
    "        points[i].set(i,i,i);\n",
    "    }\n",
    "    for(auto a : points)\n",
    "    {\n",
    "        std::cout<<a<<'\\n';\n",
    "    }\n",
    "}"
   ]
  },
  {
   "cell_type": "markdown",
   "metadata": {},
   "source": [
    "We can also convert a ```ngl::Vec4``` to a ```ngl::Vec3``` this is useful when we want to store data for OpenGL"
   ]
  },
  {
   "cell_type": "code",
   "execution_count": 6,
   "metadata": {},
   "outputs": [
    {
     "name": "stdout",
     "output_type": "stream",
     "text": [
      "V4 [1,2,3,4] v3 [1,2,3] v32 [1,2,3]\n"
     ]
    }
   ],
   "source": [
    "{\n",
    "    auto v4=ngl::Vec4(1.0f,2.0f,3.0f,4.0f);\n",
    "    ngl::Vec3 v3;\n",
    "    v3=v4;\n",
    "    ngl::Vec3 v32;\n",
    "    v32.set(v4);\n",
    "    std::cout<<\"V4 \"<<v4<<\" v3 \"<<v3<<\" v32 \"<<v32<<'\\n';\n",
    "}"
   ]
  },
  {
   "cell_type": "markdown",
   "metadata": {},
   "source": [
    "## Mathematical operations\n",
    "\n",
    "```ngl::Vec4``` has a number of math operations built in using Operator overloading"
   ]
  },
  {
   "cell_type": "code",
   "execution_count": 17,
   "metadata": {},
   "outputs": [
    {
     "name": "stdout",
     "output_type": "stream",
     "text": [
      "a+b = [0.3,0.5,0.7,1]\n",
      "a-b = [-0.1,-0.1,-0.1,1]\n",
      "a*b = [0.02,0.06,0.12,1]\n",
      "a/b = [0.5,0.666667,0.75,1]\n",
      "a*0.5f = [0.05,0.1,0.15,1]\n",
      "a/0.5f = [0.2,0.4,0.6,1]\n"
     ]
    }
   ],
   "source": [
    "{\n",
    "    ngl::Vec4 a(0.1f,0.2f,0.3f,1.0f);\n",
    "    ngl::Vec4 b(0.2f,0.3f,0.4f,0.0f);\n",
    "    std::cout<<\"a+b = \"<<a+b<<'\\n';\n",
    "    std::cout<<\"a-b = \"<<a-b<<'\\n';\n",
    "    std::cout<<\"a*b = \"<<a*b<<'\\n';\n",
    "    std::cout<<\"a/b = \"<<a/b<<'\\n';\n",
    "    std::cout<<\"a*0.5f = \"<< a*0.5f<<'\\n';\n",
    "    std::cout<<\"a/0.5f = \"<< a/0.5f<<'\\n';\n",
    "}"
   ]
  },
  {
   "cell_type": "markdown",
   "metadata": {},
   "source": [
    "We also have modifying operators which will change the vector"
   ]
  },
  {
   "cell_type": "code",
   "execution_count": 18,
   "metadata": {},
   "outputs": [
    {
     "name": "stdout",
     "output_type": "stream",
     "text": [
      "a = [0.3,0.5,0.7,1]\n",
      "b = [-0.1,-0.2,-0.3,1]\n",
      "a = [0.06,0.1,0.14,1]\n",
      "a = [0.15,0.25,0.35,1]\n"
     ]
    }
   ],
   "source": [
    "{\n",
    "    ngl::Vec4 a(0.1f,0.2f,0.3f);\n",
    "    ngl::Vec4 b(0.2f,0.3f,0.4f);\n",
    "    a+=b;\n",
    "    std::cout<<\"a = \"<<a<<'\\n';\n",
    "    b-=a;\n",
    "    std::cout<<\"b = \"<<b<<'\\n';\n",
    "    a*=0.2f;\n",
    "    std::cout<<\"a = \"<<a<<'\\n';\n",
    "    a/=0.4f;;\n",
    "    std::cout<<\"a = \"<<a<<'\\n';\n",
    "\n",
    "}"
   ]
  },
  {
   "cell_type": "markdown",
   "metadata": {},
   "source": [
    "## Vector math operations\n",
    "\n",
    "The ```ngl::Vec4``` class has a number of standard linear algebra functions built in.\n",
    "\n",
    "$$ a  = b \\cdot c $$"
   ]
  },
  {
   "cell_type": "code",
   "execution_count": 19,
   "metadata": {},
   "outputs": [
    {
     "name": "stdout",
     "output_type": "stream",
     "text": [
      "b . c = 2.36\n",
      "inner product 2.36\n"
     ]
    }
   ],
   "source": [
    "{\n",
    "    ngl::Vec4 b(0.5f,0.2f,0.8f);\n",
    "    ngl::Vec4 c(0.2f,0.1f,2.8f);\n",
    "    ngl::Real a=b.dot(c);\n",
    "    std::cout<<\"b . c = \"<<a<<'\\n';\n",
    "    std::cout<<\"inner product \"<<b.inner(c)<<'\\n';\n",
    "}"
   ]
  },
  {
   "cell_type": "markdown",
   "metadata": {},
   "source": [
    "We can normalize a vector using the formula\n",
    "  $$x=x/\\sqrt{x^2+y^2+z^2} $$\n",
    "  $$y=y/\\sqrt{x^2+y^2+z^2} $$\n",
    "  $$z=z/\\sqrt{x^2+y^2+z^2} $$\n"
   ]
  },
  {
   "cell_type": "code",
   "execution_count": 20,
   "metadata": {},
   "outputs": [
    {
     "name": "stdout",
     "output_type": "stream",
     "text": [
      "Test is [22.3,0.5,10,1]\n",
      "After normalization [0.912266,0.0204544,0.409088,1]\n"
     ]
    }
   ],
   "source": [
    "{\n",
    "    ngl::Vec4 test(22.3f,0.5f,10.0f);\n",
    "    std::cout<<\"Test is \"<<test<<'\\n';\n",
    "    test.normalize();\n",
    "    std::cout<<\"After normalization \"<<test<<'\\n';\n",
    "\n",
    "}"
   ]
  },
  {
   "cell_type": "markdown",
   "metadata": {},
   "source": [
    "The cross product of two vectors can be calculated in two way with ngl."
   ]
  },
  {
   "cell_type": "code",
   "execution_count": 21,
   "metadata": {},
   "outputs": [
    {
     "name": "stdout",
     "output_type": "stream",
     "text": [
      "a x b =[0,-0,1,1]\n"
     ]
    }
   ],
   "source": [
    "{\n",
    "  ngl::Vec4 a=ngl::Vec4::up();\n",
    "  ngl::Vec4 b=ngl::Vec4::left();\n",
    "  ngl::Vec4 c;\n",
    "  c.cross(a,b);\n",
    "  std::cout<<\"a x b =\"<<c<<'\\n';\n",
    "}"
   ]
  },
  {
   "cell_type": "code",
   "execution_count": 22,
   "metadata": {},
   "outputs": [
    {
     "name": "stdout",
     "output_type": "stream",
     "text": [
      "a x b =[0,-0,1,0]\n"
     ]
    }
   ],
   "source": [
    "{\n",
    "  ngl::Vec4 a=ngl::Vec3::up();\n",
    "  ngl::Vec4 b=ngl::Vec3::left();\n",
    "  ngl::Vec4 c=a.cross(b);\n",
    "  std::cout<<\"a x b =\"<<c<<'\\n';\n",
    "}"
   ]
  },
  {
   "cell_type": "markdown",
   "metadata": {},
   "source": [
    "We can calculate the length of a vector using the length method. For example given two points how far apart are they?"
   ]
  },
  {
   "cell_type": "code",
   "execution_count": 23,
   "metadata": {},
   "outputs": [
    {
     "name": "stdout",
     "output_type": "stream",
     "text": [
      "Distance is 4.17612\n"
     ]
    }
   ],
   "source": [
    "{\n",
    "    auto p1=ngl::Vec4(-2.0f,0.2f,0.0f);\n",
    "    auto p2=ngl::Vec4(2.0f,-1.0f,0.0f);\n",
    "    ngl::Real distance= (p2-p1).length();\n",
    "    std::cout<<\"Distance is \"<< distance<<'\\n';\n",
    "}"
   ]
  },
  {
   "cell_type": "markdown",
   "metadata": {},
   "source": [
    "Sometimes we use the [squared distance](https://en.wikipedia.org/wiki/Euclidean_distance#Squared_Euclidean_distance) when comparing distances in collisions."
   ]
  },
  {
   "cell_type": "code",
   "execution_count": 24,
   "metadata": {},
   "outputs": [
    {
     "name": "stdout",
     "output_type": "stream",
     "text": [
      "Crash 0.4925\n"
     ]
    }
   ],
   "source": [
    "{\n",
    "    auto p1=ngl::Vec4(-0.2f,0.2f,0.0f);\n",
    "    auto p2=ngl::Vec4(0.5f,0.25f,0.0f);\n",
    "    ngl::Real distance= (p2-p1).lengthSquared();\n",
    "    if(distance < 0.5f)\n",
    "    {\n",
    "        std::cout<<\"Crash \"<<distance<<'\\n';\n",
    "    }\n",
    "}"
   ]
  },
  {
   "cell_type": "code",
   "execution_count": null,
   "metadata": {},
   "outputs": [],
   "source": []
  }
 ],
 "metadata": {
  "kernelspec": {
   "display_name": "C++17",
   "language": "C++17",
   "name": "xeus-cling-cpp17"
  },
  "language_info": {
   "codemirror_mode": "text/x-c++src",
   "file_extension": ".cpp",
   "mimetype": "text/x-c++src",
   "name": "c++",
   "version": "-std=c++17"
  }
 },
 "nbformat": 4,
 "nbformat_minor": 2
}
