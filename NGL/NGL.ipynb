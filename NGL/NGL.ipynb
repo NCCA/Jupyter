{
 "cells": [
  {
   "cell_type": "markdown",
   "metadata": {},
   "source": [
    "# The NCCA Graphics Library\n",
    "\n",
    "NGL is a C++ library developed for teaching in the NCCA. It's main use is for creating C++ OpenGL programs for student projects.\n",
    "\n",
    "NGL also has python bindings allowing it to be use for simple python projects as well.\n",
    "\n",
    "The main idea behind the library is to aid teaching both modern C++ (11 and above) and computer graphics techniques (using OpenGL).\n",
    "\n",
    "The library can be split into two main sections\n",
    "    - a simple linear algebra library\n",
    "    - an Object oriented wrapper around OpenGL\n",
    "    \n",
    "## Maths Components\n",
    "\n",
    "The mathematical components can be used without an OpenGL context so can be used for basic mathematical operations with Vectors and Matrices. It is limited to Vec2/3/4 and Mat2/3/4 components with only the basic operations. If a more complex Linear algebra library is required I would recommend using [eigen](http://eigen.tuxfamily.org/index.php?title=Main_Page) if you only need to use glsl style you can use  [glm](\n",
    "https://glm.g-truc.net/0.9.9/index.html) which uses the same layout as ngl.\n",
    "\n",
    "The following pages have more details of the components\n",
    "\n",
    "- [```ngl::Vec2```](NGLVec2.ipynb)  [.h](https://github.com/NCCA/NGL/blob/master/include/ngl/Vec2.h) [.cpp](https://github.com/NCCA/NGL/blob/master/src/Vec2.cpp)\n",
    "\n",
    "- [```ngl::Vec3```](NGLVec3.ipynb)  [.h](https://github.com/NCCA/NGL/blob/master/include/ngl/Vec3.h) [.cpp](https://github.com/NCCA/NGL/blob/master/src/Vec3.cpp)\n",
    "\n",
    "- [```ngl::Vec4```](NGLVec4.ipynb)  [.h](https://github.com/NCCA/NGL/blob/master/include/ngl/Vec4.h) [.cpp](https://github.com/NCCA/NGL/blob/master/src/Vec4.cpp)\n",
    "\n",
    "- [```ngl::Mat2```](NGLMat2.ipynb)  [.h](https://github.com/NCCA/NGL/blob/master/include/ngl/Mat2.h) [.cpp](https://github.com/NCCA/NGL/blob/master/src/Mat2.cpp)\n",
    "\n",
    "- [```ngl::Mat3```](NGLMat3.ipynb)  [.h](https://github.com/NCCA/NGL/blob/master/include/ngl/Mat3.h) [.cpp](https://github.com/NCCA/NGL/blob/master/src/Mat3.cpp)\n",
    "\n",
    "- [```ngl::Mat4```](NGLMat4.ipynb)  [.h](https://github.com/NCCA/NGL/blob/master/include/ngl/Mat4.h) [.cpp](https://github.com/NCCA/NGL/blob/master/src/Mat4.cpp)\n",
    "\n",
    "- [```ngl::Transformation```](NGLTransformation.ipynb)  [.h](https://github.com/NCCA/NGL/blob/master/include/ngl/Transformation.h) [.cpp](https://github.com/NCCA/NGL/blob/master/src/Transformation.cpp)\n",
    "\n",
    "- [```ngl::Random```](NGLRandom.ipynb)  [.h](https://github.com/NCCA/NGL/blob/master/include/ngl/Random.h) [.cpp](https://github.com/NCCA/NGL/blob/master/src/Random.cpp)\n",
    "\n",
    "\n",
    "\n"
   ]
  },
  {
   "cell_type": "code",
   "execution_count": null,
   "metadata": {},
   "outputs": [],
   "source": []
  }
 ],
 "metadata": {
  "kernelspec": {
   "display_name": "C++17",
   "language": "C++17",
   "name": "xeus-cling-cpp17"
  },
  "language_info": {
   "codemirror_mode": "text/x-c++src",
   "file_extension": ".cpp",
   "mimetype": "text/x-c++src",
   "name": "c++",
   "version": "-std=c++17"
  }
 },
 "nbformat": 4,
 "nbformat_minor": 2
}
