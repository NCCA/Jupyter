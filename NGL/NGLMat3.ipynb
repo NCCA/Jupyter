{
 "cells": [
  {
   "cell_type": "markdown",
   "metadata": {},
   "source": [
    "## ngl::Mat3\n",
    "\n",
    "The ```ngl::Mat3``` class is a simple 3x3 matrix of floating point values.\n",
    "\n",
    "Internally the data is stored in a [union](https://en.cppreference.com/w/cpp/language/union) like this\n",
    "\n",
    "```c++\n",
    "union\n",
    "{\n",
    "    Real m_m[3][3];\n",
    "    std::array<Real,9> m_openGL=\n",
    "    {{\n",
    "     1.0f,0.0f,0.0f,\n",
    "     0.0f,1.0f,0.0f,\n",
    "     0.0f,0.0f,1.0f\n",
    "     }};\n",
    "      struct\n",
    "      {\n",
    "        Real m_00;\n",
    "        Real m_01;\n",
    "        Real m_02;\n",
    "        Real m_10;\n",
    "        Real m_11;\n",
    "        Real m_11;\n",
    "        Real m_20;\n",
    "        Real m_21;\n",
    "        Real m_22;\n",
    "      };\n",
    "};\n",
    "\n",
    "```"
   ]
  },
  {
   "cell_type": "code",
   "execution_count": 1,
   "metadata": {},
   "outputs": [],
   "source": [
    "// You may need to modify these paths to suit\n",
    "#pragma cling add_library_path(\"$HOME/NGL/lib\")\n",
    "#ifdef __APPLE__\n",
    "    #pragma cling load(\"$HOME/NGL/lib/libNGL.dylib\")\n",
    "#else\n",
    "    #pragma cling load(\"$HOME/NGL/lib/libNGL.so\")\n",
    "#endif\n",
    "#pragma cling add_include_path(\"$HOME/NGL/include\")\n",
    "#pragma cling add_include_path(\"$HOME/NGL/gl3w\")"
   ]
  },
  {
   "cell_type": "code",
   "execution_count": 2,
   "metadata": {},
   "outputs": [],
   "source": [
    "#include <ngl/Vec3.h>\n",
    "#include <ngl/Mat3.h>\n",
    "#include <ngl/NGLStream.h> // for printing\n",
    "#include <iostream>\n"
   ]
  },
  {
   "cell_type": "markdown",
   "metadata": {},
   "source": [
    "To construct an ```ngl::Mat3``` we can do the following"
   ]
  },
  {
   "cell_type": "code",
   "execution_count": 3,
   "metadata": {},
   "outputs": [
    {
     "name": "stdout",
     "output_type": "stream",
     "text": [
      "default \n",
      "[1,0,0]\n",
      "[0,1,0]\n",
      "[0,0,1]\n",
      "\n",
      "user \n",
      "[1,2,3]\n",
      "[4,5,6]\n",
      "[7,8,9]\n",
      "\n",
      "scaleBy10 \n",
      "[10,0,0]\n",
      "[0,10,0]\n",
      "[0,0,10]\n",
      "\n"
     ]
    }
   ],
   "source": [
    "{\n",
    "    ngl::Mat3 defaultCtor;\n",
    "    ngl::Mat3 user(1,2,3,4,5,6,7,8,9);\n",
    "    ngl::Mat3 scaleBy10(10.0f);\n",
    "    std::cout<<\"default \\n\"<<defaultCtor<<'\\n';\n",
    "    std::cout<<\"user \\n\"<<user<<'\\n';\n",
    "    std::cout<<\"scaleBy10 \\n\"<<scaleBy10<<'\\n';\n",
    "}"
   ]
  },
  {
   "cell_type": "markdown",
   "metadata": {},
   "source": [
    "All of the attributes in a Mat3 are public and can be accessed in the following ways"
   ]
  },
  {
   "cell_type": "code",
   "execution_count": 4,
   "metadata": {},
   "outputs": [
    {
     "name": "stdout",
     "output_type": "stream",
     "text": [
      "[99,8,0]\n",
      "[100,1,0]\n",
      "[0,0,8.27]\n",
      "\n"
     ]
    }
   ],
   "source": [
    "{\n",
    "    ngl::Mat3 m;\n",
    "    m.m_00=99.0f;\n",
    "    m.m_m[0][1]=8.0f;\n",
    "    m.m_10=-2.0f;\n",
    "    m.m_openGL[3]=100.0f;\n",
    "    m.m_22=8.27f;\n",
    "    std::cout<<m<<'\\n';\n",
    "    \n",
    "}"
   ]
  },
  {
   "cell_type": "markdown",
   "metadata": {},
   "source": [
    "We can zero the matrix using the null() method."
   ]
  },
  {
   "cell_type": "code",
   "execution_count": 5,
   "metadata": {},
   "outputs": [
    {
     "name": "stdout",
     "output_type": "stream",
     "text": [
      "[1,0,0]\n",
      "[0,1,0]\n",
      "[0,0,1]\n",
      "\n",
      "\n",
      "after null\n",
      "[0,0,0]\n",
      "[0,0,0]\n",
      "[0,0,0]\n",
      "\n"
     ]
    }
   ],
   "source": [
    "{\n",
    "    ngl::Mat3 a;\n",
    "    std::cout<<a<<'\\n';\n",
    "    a.null();\n",
    "    std::cout<<\"\\nafter null\\n\"<<a<<'\\n';\n",
    "}"
   ]
  },
  {
   "cell_type": "markdown",
   "metadata": {},
   "source": [
    "We can reset a matrix to the [identity matrix](https://en.wikipedia.org/wiki/Identity_matrix) using the .identity() method. "
   ]
  },
  {
   "cell_type": "code",
   "execution_count": 6,
   "metadata": {},
   "outputs": [
    {
     "name": "stdout",
     "output_type": "stream",
     "text": [
      "[1,2,3]\n",
      "[4,5,6]\n",
      "[7,8,9]\n",
      "\n",
      "\n",
      "after identity\n",
      "[1,0,0]\n",
      "[0,1,0]\n",
      "[0,0,1]\n",
      "\n"
     ]
    }
   ],
   "source": [
    "{\n",
    "    auto m=ngl::Mat3{1.0f,2.0f,3.0f,4.0f,5.0f,6.0f,7.0f,8.0f,9.0f};\n",
    "    std::cout<<m<<'\\n';\n",
    "    m.identity();\n",
    "    std::cout<<\"\\nafter identity\\n\"<<m<<'\\n';\n",
    "}"
   ]
  },
  {
   "cell_type": "markdown",
   "metadata": {},
   "source": [
    "### Transformations\n",
    "\n",
    "```ngl::Mat3``` has a number of transformation functions"
   ]
  },
  {
   "cell_type": "code",
   "execution_count": 7,
   "metadata": {},
   "outputs": [
    {
     "name": "stdout",
     "output_type": "stream",
     "text": [
      "[1,2,3]\n",
      "[4,5,6]\n",
      "[7,8,9]\n",
      "\n",
      "transpose \n",
      "[1,4,7]\n",
      "[2,5,8]\n",
      "[3,6,9]\n",
      "\n"
     ]
    }
   ],
   "source": [
    "{\n",
    "   ngl::Mat3 m{1.0f,2.0f,3.0f,4.0f,5.0f,6.0f,7.0f,8.0f,9.0f};\n",
    "   std::cout<<m<<'\\n';\n",
    "   m.transpose();\n",
    "   std::cout<<\"transpose \\n\" <<m<<'\\n';\n",
    "    \n",
    "    \n",
    "}"
   ]
  },
  {
   "cell_type": "markdown",
   "metadata": {},
   "source": [
    "We can set the matrix to be a scale matrix using the scale method;"
   ]
  },
  {
   "cell_type": "code",
   "execution_count": 8,
   "metadata": {},
   "outputs": [
    {
     "name": "stdout",
     "output_type": "stream",
     "text": [
      "[0.5,0,0]\n",
      "[0,0.3,0]\n",
      "[0,0,0.2]\n",
      "\n"
     ]
    }
   ],
   "source": [
    "{\n",
    "    ngl::Mat3 scale;\n",
    "    scale.scale(0.5f,0.3f,0.2f);\n",
    "    std::cout<<scale<<'\\n';\n",
    "}"
   ]
  },
  {
   "cell_type": "markdown",
   "metadata": {},
   "source": [
    "And create a simple rotation matrix by calling the rotate method passing in the rotation in degrees."
   ]
  },
  {
   "cell_type": "code",
   "execution_count": 9,
   "metadata": {},
   "outputs": [
    {
     "name": "stdout",
     "output_type": "stream",
     "text": [
      "[1,0,0]\n",
      "[0,0.819152,0.573577]\n",
      "[0,-0.573577,0.819152]\n",
      "\n",
      "[0.906308,0,-0.422618]\n",
      "[0,0.819152,0.573577]\n",
      "[0.422618,-0.573577,0.906308]\n",
      "\n",
      "[0.0871558,0.996195,-0.422618]\n",
      "[-0.996195,0.0871558,0.573577]\n",
      "[0.422618,-0.573577,0.906308]\n",
      "\n"
     ]
    }
   ],
   "source": [
    "{\n",
    "    auto tx=ngl::Mat3();\n",
    "    tx.rotateX(35.0f);\n",
    "    std::cout<<tx<<'\\n';\n",
    "    tx.rotateY(25.0f);\n",
    "    std::cout<<tx<<'\\n';\n",
    "    tx.rotateZ(85.0f);\n",
    "    std::cout<<tx<<'\\n';\n",
    "    \n",
    "}"
   ]
  },
  {
   "cell_type": "markdown",
   "metadata": {},
   "source": [
    "Typically we will combine a series of rolls and scales."
   ]
  },
  {
   "cell_type": "code",
   "execution_count": 10,
   "metadata": {},
   "outputs": [
    {
     "name": "stdout",
     "output_type": "stream",
     "text": [
      "[0.194885,0.0333046,-0.0301763]\n",
      "[-0.0170502,0.17904,0.0874866]\n",
      "[0.0415823,-0.0826766,0.177301]\n",
      "\n"
     ]
    }
   ],
   "source": [
    "{\n",
    "    ngl::Mat3 rx,ry,rz,scale;\n",
    "    rx.rotateX(25.0f);\n",
    "    ry.rotateY(12.0f);\n",
    "    rz.rotateZ(5.0f);\n",
    "    scale.scale(0.2f,0.2f,0.2f);\n",
    "    auto tx=scale*rz*ry*rx;\n",
    "    std::cout<<tx<<'\\n';\n",
    "}"
   ]
  },
  {
   "cell_type": "markdown",
   "metadata": {},
   "source": [
    "## Matrix math operations\n",
    "\n",
    "Standard matrix math operations are available via operator overloading."
   ]
  },
  {
   "cell_type": "code",
   "execution_count": 11,
   "metadata": {},
   "outputs": [
    {
     "name": "stdout",
     "output_type": "stream",
     "text": [
      "[0.2,0.4,0.6]\n",
      "[0.8,1,1.2]\n",
      "[1.4,1.6,1.8]\n",
      "\n"
     ]
    }
   ],
   "source": [
    "{\n",
    "    ngl::Mat3 a(1.0f,2.0f,3.0f,4.0f,5.0f,6.0f,7.0f,8.0f,9.0f);\n",
    "    ngl::Mat3 b(0.2f);\n",
    "    auto result=a*b;\n",
    "    std::cout<<result<<'\\n';  \n",
    "}"
   ]
  },
  {
   "cell_type": "code",
   "execution_count": 12,
   "metadata": {},
   "outputs": [
    {
     "name": "stdout",
     "output_type": "stream",
     "text": [
      "[0.2,0.4,0.6]\n",
      "[0.8,1,1.2]\n",
      "[1.4,1.6,1.8]\n",
      "\n"
     ]
    }
   ],
   "source": [
    "{\n",
    "    ngl::Mat3 a{1.0f,2.0f,3.0f,4.0f,5.0f,6.0f,7.0f,8.0f,9.0f};\n",
    "    ngl::Mat3 b(0.2f);\n",
    "    a*=b;\n",
    "    std::cout<<a<<'\\n';\n",
    "}"
   ]
  },
  {
   "cell_type": "code",
   "execution_count": 13,
   "metadata": {},
   "outputs": [
    {
     "name": "stdout",
     "output_type": "stream",
     "text": [
      "[11,13,15]\n",
      "[17,19,21]\n",
      "[23,25,27]\n",
      "\n"
     ]
    }
   ],
   "source": [
    "{\n",
    "    ngl::Mat3 a{1.0f,2.0f,3.0f,4.0f,5.0f,6.0f,7.0f,8.0f,9.0f};\n",
    "    ngl::Mat3 b(10.0f,11.0f,12.0f,13.0f,14.0f,15.0f,16.0f,17.0f,18.0f);\n",
    "    auto result=a+b;\n",
    "    std::cout<<result<<'\\n';\n",
    "}"
   ]
  },
  {
   "cell_type": "code",
   "execution_count": 14,
   "metadata": {},
   "outputs": [
    {
     "name": "stdout",
     "output_type": "stream",
     "text": [
      "[11,13,15]\n",
      "[17,19,21]\n",
      "[23,25,27]\n",
      "\n"
     ]
    }
   ],
   "source": [
    "{\n",
    "    ngl::Mat3 a{1.0f,2.0f,3.0f,4.0f,5.0f,6.0f,7.0f,8.0f,9.0f};\n",
    "    ngl::Mat3 b(10.0f,11.0f,12.0f,13.0f,14.0f,15.0f,16.0f,17.0f,18.0f);\n",
    "    a+=b;\n",
    "    std::cout<<a<<'\\n';\n",
    "}"
   ]
  },
  {
   "cell_type": "markdown",
   "metadata": {},
   "source": [
    "We can multiply each matrix element by a scalar"
   ]
  },
  {
   "cell_type": "code",
   "execution_count": 15,
   "metadata": {},
   "outputs": [
    {
     "name": "stdout",
     "output_type": "stream",
     "text": [
      "[0.5,1,1.5]\n",
      "[2,2.5,3]\n",
      "[3.5,4,4.5]\n",
      "\n",
      "[0.2,0.4,0.6]\n",
      "[0.8,1,1.2]\n",
      "[1.4,1.6,1.8]\n",
      "\n"
     ]
    }
   ],
   "source": [
    "{\n",
    "    ngl::Mat3 a{1.0f,2.0f,3.0f,4.0f,5.0f,6.0f,7.0f,8.0f,9.0f};\n",
    "    \n",
    "    auto b=a*0.5f;\n",
    "    std::cout<<b<<'\\n';\n",
    "    a*=0.2f;\n",
    "    std::cout<<a<<'\\n';\n",
    "}"
   ]
  },
  {
   "cell_type": "markdown",
   "metadata": {},
   "source": [
    "We can also multiply and ```ngl::Vec3``` by a ```ngl::Mat3```"
   ]
  },
  {
   "cell_type": "code",
   "execution_count": 16,
   "metadata": {},
   "outputs": [
    {
     "name": "stdout",
     "output_type": "stream",
     "text": [
      "[0.194885,0.0333046,-0.0301763]\n",
      "[-0.0170502,0.17904,0.0874866]\n",
      "[0.0415823,-0.0826766,0.177301]\n",
      "\n",
      "p1 * tx = [-0.027048,0.354013,0.271924]\n",
      "p1 * tx =[0.0661144,0.0136869,0.442088]\n"
     ]
    }
   ],
   "source": [
    "{\n",
    "    ngl::Vec3 p1{0.0f,1.0f,2.0f};\n",
    "    ngl::Mat3 rx,ry,rz,scale;\n",
    "    rx.rotateX(25.0f);\n",
    "    ry.rotateY(12.0f);\n",
    "    rz.rotateZ(5.0f);\n",
    "    scale.scale(0.2f,0.2f,0.2f);\n",
    "    auto tx=scale*rz*ry*rx;\n",
    "    std::cout<<tx<<'\\n';\n",
    "\n",
    "    std::cout<<\"p1 * tx = \"<<tx*p1<<'\\n';\n",
    "    std::cout<<\"p1 * tx =\"<<p1*tx<<'\\n';\n",
    "}"
   ]
  },
  {
   "cell_type": "markdown",
   "metadata": {},
   "source": [
    "The [determinant](https://en.wikipedia.org/wiki/Determinant) of the matrix can be calculated with the determinant() method"
   ]
  },
  {
   "cell_type": "code",
   "execution_count": 17,
   "metadata": {},
   "outputs": [
    {
     "name": "stdout",
     "output_type": "stream",
     "text": [
      "[1,0,0]\n",
      "[0,2,2]\n",
      "[0,-0.5,2]\n",
      "\n",
      "5\n"
     ]
    }
   ],
   "source": [
    "{\n",
    "    ngl::Mat3 test(1,0,0,0,2,2,0,-0.5,2);\n",
    "    float det=test.determinant(); \n",
    "    std::cout<<test<<'\\n'<<det<<'\\n';\n",
    "}"
   ]
  }
 ],
 "metadata": {
  "kernelspec": {
   "display_name": "C++17",
   "language": "C++17",
   "name": "xeus-cling-cpp17"
  },
  "language_info": {
   "codemirror_mode": "text/x-c++src",
   "file_extension": ".cpp",
   "mimetype": "text/x-c++src",
   "name": "c++",
   "version": "-std=c++17"
  }
 },
 "nbformat": 4,
 "nbformat_minor": 2
}
