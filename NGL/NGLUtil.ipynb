{
 "cells": [
  {
   "cell_type": "markdown",
   "metadata": {},
   "source": [
    "# ngl::Util\n",
    "\n",
    "This header file includes a number of free functions for doing useful 3D graphics operations. The following demos explain what the functions do and how to use them."
   ]
  },
  {
   "cell_type": "code",
   "execution_count": 1,
   "metadata": {},
   "outputs": [],
   "source": [
    "// You will need to modify these paths to suit\n",
    "#pragma cling add_library_path(\"/Users/jmacey/NGL/lib\")\n",
    "#pragma cling load(\"/Users/jmacey/NGL/lib/libNGL.dylib\")\n",
    "#pragma cling add_include_path(\"/Users/jmacey/NGL/include\")\n"
   ]
  },
  {
   "cell_type": "code",
   "execution_count": 2,
   "metadata": {},
   "outputs": [],
   "source": [
    "#include <ngl/Util.h>\n",
    "#include <ngl/Mat4.h>\n",
    "#include <ngl/NGLStream.h> // for printing\n",
    "#include <iostream>\n"
   ]
  },
  {
   "cell_type": "markdown",
   "metadata": {},
   "source": [
    "## Degrees to Radians conversion\n",
    "\n",
    "It's important to remember that most cmath functions take radians as the default arguments to things like ```sin``` and ```cos``` ngl implements functions similar to python to do the conversions."
   ]
  },
  {
   "cell_type": "code",
   "execution_count": 3,
   "metadata": {},
   "outputs": [
    {
     "name": "stdout",
     "output_type": "stream",
     "text": [
      "rad is 0.785398 deg 45\n"
     ]
    }
   ],
   "source": [
    "{\n",
    "    ngl::Real rad=ngl::radians(45.0f);\n",
    "    ngl::Real deg=ngl::degrees(rad);\n",
    "    std::cout<<\"rad is \"<<rad<<\" deg \"<<deg<<'\\n';\n",
    "    \n",
    "}"
   ]
  },
  {
   "cell_type": "markdown",
   "metadata": {},
   "source": [
    "We can also use the following [user defined literals](https://en.cppreference.com/w/cpp/language/user_literal)"
   ]
  },
  {
   "cell_type": "code",
   "execution_count": 4,
   "metadata": {},
   "outputs": [
    {
     "name": "stdout",
     "output_type": "stream",
     "text": [
      "rad is 0.785398 deg 45\n"
     ]
    }
   ],
   "source": [
    "{\n",
    "    ngl::Real rad=45.0_rad;\n",
    "    ngl::Real deg=0.7853981633974483_deg;\n",
    "    std::cout<<\"rad is \"<<rad<<\" deg \"<<deg<<'\\n';\n",
    "    \n",
    "}"
   ]
  },
  {
   "cell_type": "markdown",
   "metadata": {},
   "source": [
    "## ngl::lookAt\n",
    "\n",
    "```ngl::lookAt``` takes three ```ngl::Vec3``` as parameters to specify the  ```eye```, ```look``` and ```up``` positions. It will then return an ```ngl::Mat4``` with the transformations required to generate the scale, rotate and translations required for the objects vertices to be transformed by.\n",
    "\n",
    "To do this we calculate the following vectors :-\n",
    "$$\n",
    "\\mathbf{n} = \\mathbf{eye} - \\mathbf{look} \\\\\\\n",
    "\\mathbf{u} = \\mathbf{up} \\times \\mathbf{n} \\\\\\\n",
    "\\mathbf{v} = \\mathbf{n} \\times \\mathbf{u}\n",
    "$$\n",
    "\n",
    "Then normalize to unit length.\n",
    "\n",
    "The job of the View matrix is to then convert world co-ordinates to camera co-ordinates it must transform the camera's coordinate system into the generic position for the camera. \n",
    "\n",
    "$$\n",
    "V=\\begin{pmatrix}\n",
    "v_y & v_y & v_z & d_x \\\\\\\n",
    "u_y & u_y & u_z & d_y \\\\\\\n",
    "n_y & n_y & n_z & d_z \\\\\\\n",
    "0 & 0 & 0 & 1 \n",
    "\\end{pmatrix}\n",
    "$$\n",
    "\n",
    "$$\n",
    "(d_x,d_y,d_z)= ( -\\mathbf{eye} \\bullet \\mathbf{u} , -\\mathbf{eye} \\bullet \\mathbf{v} , -\\mathbf{eye} \\bullet \\mathbf{n})\n",
    "$$\n"
   ]
  },
  {
   "cell_type": "code",
   "execution_count": 5,
   "metadata": {},
   "outputs": [
    {
     "name": "stdout",
     "output_type": "stream",
     "text": [
      "[0.707107,0,-0.707107,-0]\n",
      "[-0.408248,0.816497,-0.408248,-0]\n",
      "[0.57735,0.57735,0.57735,-3.4641]\n",
      "[0,0,0,1]\n",
      "\n"
     ]
    }
   ],
   "source": [
    "{\n",
    "    ngl:: Vec3 eye{2.0f,2.0f,2.0f};\n",
    "    ngl::Vec3 look{0.0f,0.0f,0.0f};\n",
    "    ngl::Vec3 up{0.0f,1.0f,0.0f};\n",
    "    auto lookNGL=ngl::lookAt(eye,look,up);\n",
    "    std::cout<<lookNGL<<'\\n';\n",
    "}"
   ]
  },
  {
   "cell_type": "markdown",
   "metadata": {},
   "source": [
    "## [Orthographic Projection](https://en.wikipedia.org/wiki/Orthographic_projection)\n",
    "An orthographic projection is specified by setting “clip” planes. We do this by calculating the following planes ```near - far``` ```left - right``` and  ```top - bottom```  from this we can then create a matrix to scale and translate our vertices to make them fit into the canonical view volume ( a unit cube with a center at $[0,0,0]$ )\n",
    "\n",
    "$$\n",
    "V=\\begin{pmatrix}\n",
    "\\frac{2.0}{r-l} & 0 & 0 & - \\frac{r+l}{r-l} \\\\\\\n",
    "0 & \\frac{2.0}{t-b} & 0 & -\\frac{t+b}{t-b} \\\\\\\n",
    "0 & 0 & \\frac{2.0}{f-n} & -\\frac{f+n}{f-n} \\\\\\\n",
    "0 & 0 & 0 & 1 \n",
    "\\end{pmatrix}\n",
    "$$\n"
   ]
  },
  {
   "cell_type": "code",
   "execution_count": 6,
   "metadata": {},
   "outputs": [
    {
     "name": "stdout",
     "output_type": "stream",
     "text": [
      "Orthographic matrix \n",
      "[0.00555556,0,0,-0]\n",
      "[0,0.00666667,0,-0]\n",
      "[0,0,1,0]\n",
      "[0,0,0,1]\n",
      "\n"
     ]
    }
   ],
   "source": [
    "{\n",
    "    ngl::Mat4 orth=ngl::ortho(-180.0f, 180.0f, -150.0f,150.0f,1.0f,-1.0f);\n",
    "    std::cout<<\"Orthographic matrix \\n\"<<orth<<'\\n';\n",
    "}"
   ]
  },
  {
   "cell_type": "markdown",
   "metadata": {},
   "source": [
    "There is also a 2d variant that clips the z component to -1 1"
   ]
  },
  {
   "cell_type": "code",
   "execution_count": 7,
   "metadata": {},
   "outputs": [
    {
     "name": "stdout",
     "output_type": "stream",
     "text": [
      "2d ortho \n",
      "[0.1,0,0,-0]\n",
      "[0,0.2,0,-0]\n",
      "[0,0,-1,0]\n",
      "[0,0,0,1]\n",
      "\n"
     ]
    }
   ],
   "source": [
    "{\n",
    "    auto orth= ngl::ortho(-10.0f, 10.0f, -5.0f,5.0f) ;\n",
    "    std::cout<<\"2d ortho \\n\"<<orth<<'\\n';\n",
    "}"
   ]
  },
  {
   "cell_type": "markdown",
   "metadata": {},
   "source": [
    "## [Perspective Projection](https://en.wikipedia.org/wiki/3D_projection)\n",
    "\n",
    "<img src=\"images/camera3.png\" width=\"30%\">\n",
    "\n",
    "To generate a perspective view volume matrix we pass in the field of view (fov) parameter that specifies the angle between the top and bottom walls of the pyramid in the image above. ```ngl::``` specifies this in degrees.\n",
    "\n",
    "The parameters w and h sets the aspect ratio of any window parallel to the xy-plane\n",
    "\n",
    "The value N is the distance from the eye to the near plane, and F is the distance from the eye to the far plane. N and F should be positive.\n",
    "\n",
    "$$\n",
    "\\begin{pmatrix}\n",
    "\\frac{f}{aspect} & 0 & 0 & 0 \\\\\\\n",
    "0 & f & 0 & 0 \\\\\\\n",
    "0 & 0 & \\frac{f+n}{f-n} & \\frac{2fn}{f-n} \\\\\\\n",
    "0 & 0 & -1 & 0 \n",
    "\\end{pmatrix} \n",
    "$$\n",
    "\n",
    "$$\n",
    "f = \\cot( \\frac{fovy}{2})\n",
    "$$"
   ]
  },
  {
   "cell_type": "code",
   "execution_count": 8,
   "metadata": {},
   "outputs": [
    {
     "name": "stdout",
     "output_type": "stream",
     "text": [
      "Perspective matrix \n",
      "[1.69749,0,0,0]\n",
      "[0,2.41421,0,0]\n",
      "[0,0,-1.00401,-0.0400802]\n",
      "[0,0,-1,0]\n",
      "\n"
     ]
    }
   ],
   "source": [
    "{\n",
    "    float fov=45.0f;\n",
    "    float near=0.02f;\n",
    "    float far=10.0f;\n",
    "    float aspect= 1024.0f / 720.0f;\n",
    "    auto persp=ngl::perspective(fov,aspect,near,far);\n",
    "    std::cout<<\"Perspective matrix \\n\"<<persp<<'\\n';\n",
    "}"
   ]
  },
  {
   "cell_type": "markdown",
   "metadata": {},
   "source": [
    "There are also a number of variants to the perspective function."
   ]
  },
  {
   "cell_type": "code",
   "execution_count": 9,
   "metadata": {},
   "outputs": [
    {
     "name": "stdout",
     "output_type": "stream",
     "text": [
      "perspectiveFOV \n",
      "[1.69749,0,0,0]\n",
      "[0,2.41421,0,0]\n",
      "[0,0,-1.00401,-0.0400802]\n",
      "[0,0,-1,0]\n",
      "\n",
      "infinitePerspective \n",
      "[1.69749,0,0,0]\n",
      "[0,2.41421,0,0]\n",
      "[0,0,-1,-0.04]\n",
      "[0,0,-1,0]\n",
      "\n"
     ]
    }
   ],
   "source": [
    "{\n",
    "    float fov=45.0f;\n",
    "    float near=0.02f;\n",
    "    float far=10.0f;\n",
    "    float width=1024;\n",
    "    float height=720;\n",
    "    float aspect= 1024.0f / 720.0f;\n",
    "\n",
    "    auto perspFOV=ngl::perspectiveFov(fov,width,height,near,far);\n",
    "    std::cout<<\"perspectiveFOV \\n\"<<perspFOV<<'\\n';\n",
    "    auto perspInf=ngl::infinitePerspective(fov,aspect,near);\n",
    "    std::cout<<\"infinitePerspective \\n\"<<perspInf<<'\\n';\n",
    "\n",
    "}"
   ]
  },
  {
   "cell_type": "markdown",
   "metadata": {},
   "source": [
    "## Normal calculation\n",
    "\n",
    "We can calculate the [normal vector](https://tinyurl.com/pcnesy2) by using the cross product. ```ngl::``` has a function called calcNormal that can take either an ```ngl::Vec3/4```\n"
   ]
  },
  {
   "cell_type": "code",
   "execution_count": 10,
   "metadata": {},
   "outputs": [
    {
     "name": "stdout",
     "output_type": "stream",
     "text": [
      "[-0,-0,1]\n",
      "[-0,-0,1]\n"
     ]
    }
   ],
   "source": [
    "{\n",
    "    auto normalV3= ngl::calcNormal( ngl::Vec3(-1.0f,-1.0f,0.0f),ngl::Vec3(0.0f,0.0f,0.0f) ,ngl::Vec3(1.0f,-1.0f,0.0f));\n",
    "    std::cout<<normalV3<<'\\n';\n",
    "    auto normalV4= ngl::calcNormal( ngl::Vec4(-1.0f,-1.0f,0.0f,0.0f),ngl::Vec4(0.0f,0.0f,0.0f,0.0f) ,ngl::Vec4(1.0f,-1.0f,0.0f,0.0f));\n",
    "    std::cout<<normalV4<<'\\n';\n",
    "\n",
    "}"
   ]
  },
  {
   "cell_type": "code",
   "execution_count": null,
   "metadata": {},
   "outputs": [],
   "source": []
  }
 ],
 "metadata": {
  "kernelspec": {
   "display_name": "C++17",
   "language": "C++17",
   "name": "xeus-cling-cpp17"
  },
  "language_info": {
   "codemirror_mode": "text/x-c++src",
   "file_extension": ".cpp",
   "mimetype": "text/x-c++src",
   "name": "c++",
   "version": "-std=c++17"
  }
 },
 "nbformat": 4,
 "nbformat_minor": 2
}
