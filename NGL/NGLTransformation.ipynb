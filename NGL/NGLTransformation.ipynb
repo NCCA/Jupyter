{
 "cells": [
  {
   "cell_type": "markdown",
   "metadata": {},
   "source": [
    "# ngl::Transformation\n",
    "\n",
    "The ```ngl::Transformation``` class combines scale, translate and rotations around the [Cartesian axis](https://en.wikipedia.org/wiki/Cartesian_coordinate_system) in a set way to get predictable results.  The core method to calculate the matrices are\n",
    "\n",
    "``` c++\n",
    "void Transformation::computeMatrices() noexcept\n",
    "{\n",
    "  if (!m_isMatrixComputed)       // need to recalculate\n",
    "  {\n",
    "    Mat4 scale;\n",
    "    Mat4 rX;\n",
    "    Mat4 rY;\n",
    "    Mat4 rZ;\n",
    "    Mat4 trans;\n",
    "\n",
    "    // rotation/scale matrix\n",
    "    Mat4 rotationScale;\n",
    "    scale.scale(m_scale.m_x, m_scale.m_y, m_scale.m_z);\n",
    "\n",
    "    rX.rotateX(m_rotation.m_x);\n",
    "    rY.rotateY(m_rotation.m_y);\n",
    "    rZ.rotateZ(m_rotation.m_z);\n",
    "    rotationScale = scale * rX * rY * rZ;\n",
    "\n",
    "    // transform matrix\n",
    "    m_matrix = rotationScale;\n",
    "    m_matrix.m_m[3][0] = m_position.m_x;\n",
    "    m_matrix.m_m[3][1] = m_position.m_y;\n",
    "    m_matrix.m_m[3][2] = m_position.m_z;\n",
    "    m_matrix.m_m[3][3] = 1;\n",
    "\n",
    "    // tranpose matrix\n",
    "    m_transposeMatrix = rotationScale;\n",
    "    m_transposeMatrix.transpose();\n",
    "    m_transposeMatrix.m_m[0][3] = m_position.m_x;\n",
    "    m_transposeMatrix.m_m[1][3] = m_position.m_y;\n",
    "    m_transposeMatrix.m_m[2][3] = m_position.m_z;\n",
    "    m_transposeMatrix.m_m[3][3] = 1;\n",
    "\n",
    "    // inverse matrix\n",
    "    trans.translate(-m_position.m_x, -m_position.m_y, -m_position.m_z);\n",
    "    scale.scale(1.0f / m_scale.m_x, 1.0f / m_scale.m_y, 1.0f / m_scale.m_z);\n",
    "    rX.rotateX(-m_rotation.m_x);\n",
    "    rY.rotateY(-m_rotation.m_y);\n",
    "    rZ.rotateZ(-m_rotation.m_z);\n",
    "    m_inverseMatrix = trans * rZ * rY * rX * scale  ;\n",
    "\n",
    "    m_isMatrixComputed = true;\n",
    "  }\n",
    "}\n",
    "\n",
    "```"
   ]
  },
  {
   "cell_type": "code",
   "execution_count": 1,
   "metadata": {},
   "outputs": [],
   "source": [
    "// You may need to modify these paths to suit\n",
    "#pragma cling add_library_path(\"$HOME/NGL/lib\")\n",
    "#ifdef __APPLE__\n",
    "    #pragma cling load(\"$HOME/NGL/lib/libNGL.dylib\")\n",
    "#else\n",
    "    #pragma cling load(\"$HOME/NGL/lib/libNGL.so\")\n",
    "#endif\n",
    "#pragma cling add_include_path(\"$HOME/NGL/include\")\n",
    "#pragma cling add_include_path(\"$HOME/NGL/gl3w\")"
   ]
  },
  {
   "cell_type": "code",
   "execution_count": 2,
   "metadata": {},
   "outputs": [],
   "source": [
    "#include <ngl/Vec3.h>\n",
    "#include <ngl/Vec4.h>\n",
    "#include <ngl/Transformation.h>\n",
    "#include <ngl/NGLStream.h> // for printing\n",
    "#include <iostream>\n"
   ]
  },
  {
   "cell_type": "code",
   "execution_count": 3,
   "metadata": {},
   "outputs": [
    {
     "name": "stdout",
     "output_type": "stream",
     "text": [
      "Default tx \n",
      "[1,0,0,0]\n",
      "[0,1,0,0]\n",
      "[0,0,1,0]\n",
      "[0,0,0,1]\n",
      "tx \n",
      "[0.453461,0.112083,0,-1]\n",
      "[0.0963862,0.746728,0,2]\n",
      "[-0.187303,0.655618,0,1]\n",
      "[0,0,0,1]\n"
     ]
    }
   ],
   "source": [
    "{\n",
    "    ngl::Transformation tx;\n",
    "    std::cout<<\"Default tx \\n\"<<tx.getMatrix();\n",
    "    tx.setScale(0.5f,1.0f,0.0f);\n",
    "    tx.setPosition(-1.0f,2.0f,1.0f);\n",
    "    tx.setRotation(45.0f,22.0f,12.0f);\n",
    "    std::cout<<\"tx \\n\"<<tx.getMatrix();\n",
    "    \n",
    "}"
   ]
  },
  {
   "cell_type": "markdown",
   "metadata": {},
   "source": [
    "We can reset the transform to the identity matrix using the reset method"
   ]
  },
  {
   "cell_type": "code",
   "execution_count": 4,
   "metadata": {},
   "outputs": [
    {
     "name": "stdout",
     "output_type": "stream",
     "text": [
      "scale  tx \n",
      "[0.5,0,0,0]\n",
      "[0,1,0,0]\n",
      "[0,0,0,0]\n",
      "[0,0,0,1]\n",
      "reset tx \n",
      "[1,0,0,0]\n",
      "[0,1,0,0]\n",
      "[0,0,1,0]\n",
      "[0,0,0,1]\n"
     ]
    }
   ],
   "source": [
    "{\n",
    "    ngl::Transformation tx;\n",
    "    tx.setScale(0.5f,1.0f,0.0f);\n",
    "    std::cout<<\"scale  tx \\n\"<<tx.getMatrix();\n",
    "    tx.reset();\n",
    "    std::cout<<\"reset tx \\n\"<<tx.getMatrix();\n",
    "    \n",
    "}"
   ]
  },
  {
   "cell_type": "markdown",
   "metadata": {},
   "source": [
    "Transformations can be added as well as set, not the use of an ```ngl::Vec3``` to set which will also take and ```ngl::Vec4``` as will the other set / add methods. "
   ]
  },
  {
   "cell_type": "code",
   "execution_count": 5,
   "metadata": {},
   "outputs": [
    {
     "name": "stdout",
     "output_type": "stream",
     "text": [
      "0\n",
      "[1,0,0,0]\n",
      "[0,1,0,0]\n",
      "[0,0,1,0]\n",
      "[0,0,0,1]\n",
      "\n",
      "0.5\n",
      "[1,0,0,0.5]\n",
      "[0,1,0,0]\n",
      "[0,0,1,0]\n",
      "[0,0,0,1]\n",
      "\n",
      "1\n",
      "[1,0,0,1.5]\n",
      "[0,1,0,0]\n",
      "[0,0,1,0]\n",
      "[0,0,0,1]\n",
      "\n",
      "1.5\n",
      "[1,0,0,3]\n",
      "[0,1,0,0]\n",
      "[0,0,1,0]\n",
      "[0,0,0,1]\n",
      "\n",
      "2\n",
      "[1,0,0,5]\n",
      "[0,1,0,0]\n",
      "[0,0,1,0]\n",
      "[0,0,0,1]\n",
      "\n",
      "2.5\n",
      "[1,0,0,7.5]\n",
      "[0,1,0,0]\n",
      "[0,0,1,0]\n",
      "[0,0,0,1]\n",
      "\n"
     ]
    }
   ],
   "source": [
    "{\n",
    "    ngl::Transformation tx;\n",
    "    for(ngl::Real px=0.0f; px<3.0f; px+=0.5f)\n",
    "    {\n",
    "        tx.addPosition(ngl::Vec3(px,0,0));\n",
    "        std::cout<<px<<'\\n'<<tx.getMatrix()<<'\\n';\n",
    "    }\n",
    "}"
   ]
  },
  {
   "cell_type": "markdown",
   "metadata": {},
   "source": [
    "It is also possible to set the default matrix in the Transformation, this is useful when passing a Transformation to a generic loadMatrixToShader style function so we don't need to have multiple load methods."
   ]
  },
  {
   "cell_type": "code",
   "execution_count": 8,
   "metadata": {},
   "outputs": [
    {
     "name": "stdout",
     "output_type": "stream",
     "text": [
      "[1,0,0,0]\n",
      "[0,1,0,0]\n",
      "[0,0,1,0]\n",
      "[0,0,0,1]\n",
      "\n",
      "[1,0,0,0]\n",
      "[0,0.906308,-0.422618,0]\n",
      "[0,0.422618,0.906308,0]\n",
      "[0,0,0,1]\n",
      "\n"
     ]
    }
   ],
   "source": [
    "{\n",
    "    ngl::Mat4 rot;\n",
    "    rot.rotateX(45.0f);\n",
    "    ngl::Transformation tx;\n",
    "    std::cout<<tx.getMatrix()<<'\\n';\n",
    "    tx.setMatrix(rot);\n",
    "    std::cout<<tx.getMatrix()<<'\\n';\n",
    "}"
   ]
  },
  {
   "cell_type": "markdown",
   "metadata": {},
   "source": [
    "Usually we want the standard matrix, however it is possible to get the transpose and inverse."
   ]
  },
  {
   "cell_type": "code",
   "execution_count": 7,
   "metadata": {},
   "outputs": [
    {
     "name": "stdout",
     "output_type": "stream",
     "text": [
      "[0.999848,-0.0123407,0.0123407,1]\n",
      "[0.0174524,0.706999,-0.706999,2]\n",
      "[0,0.707107,0.707107,3]\n",
      "[0,0,0,1]\n",
      "\n",
      "[0.999848,0.0174524,0,0]\n",
      "[-0.0123407,0.706999,0.707107,0]\n",
      "[0.0123407,-0.706999,0.707107,0]\n",
      "[1,2,3,1]\n",
      "\n",
      "[0.999848,0.0123407,0.0123407,-1]\n",
      "[-0.0174524,0.706999,0.706999,-2]\n",
      "[0,-0.707107,0.707107,-3]\n",
      "[0,0,0,1]\n",
      "\n"
     ]
    }
   ],
   "source": [
    "{\n",
    "    ngl::Transformation tx;\n",
    "    tx.setPosition(1.0f,2.0f,3.0f);\n",
    "    tx.setRotation(45.0f,0.0f,1.0f);\n",
    "    std::cout<<tx.getMatrix()<<'\\n';\n",
    "    std::cout<<tx.getTransposeMatrix()<<'\\n';\n",
    "    std::cout<<tx.getInverseMatrix()<<'\\n';\n",
    "    \n",
    "\n",
    "}"
   ]
  },
  {
   "cell_type": "code",
   "execution_count": null,
   "metadata": {},
   "outputs": [],
   "source": []
  }
 ],
 "metadata": {
  "kernelspec": {
   "display_name": "C++17",
   "language": "C++17",
   "name": "xeus-cling-cpp17"
  },
  "language_info": {
   "codemirror_mode": "text/x-c++src",
   "file_extension": ".cpp",
   "mimetype": "text/x-c++src",
   "name": "c++",
   "version": "-std=c++17"
  }
 },
 "nbformat": 4,
 "nbformat_minor": 2
}
