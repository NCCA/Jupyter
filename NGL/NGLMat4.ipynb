{
 "cells": [
  {
   "cell_type": "markdown",
   "metadata": {},
   "source": [
    "## ngl::Mat4\n",
    "\n",
    "The ```ngl::Mat4``` class is a simple 4x4 matrix of floating point values.\n",
    "\n",
    "Internally the data is stored in a [union](https://en.cppreference.com/w/cpp/language/union) like this\n",
    "\n",
    "```c++\n",
    "union\n",
    "{\n",
    "    Real m_m[4][4];\n",
    "    std::array<Real,16> m_openGL=\n",
    "    {{\n",
    "        1.0f,0.0f,0.0f,0.0f,\n",
    "        0.0f,1.0f,0.0f,0.0f,\n",
    "        0.0f,0.0f,1.0f,0.0f,\n",
    "        0.0f,0.0f,0.0f,1.0f\n",
    "    }};\n",
    "      struct\n",
    "      {\n",
    "          Real m_00; \n",
    "          Real m_01; \n",
    "          Real m_02; \n",
    "          Real m_03; \n",
    "          Real m_10; \n",
    "          Real m_11; \n",
    "          Real m_12; \n",
    "          Real m_13; \n",
    "          Real m_20; \n",
    "          Real m_21; \n",
    "          Real m_22; \n",
    "          Real m_23; \n",
    "          Real m_30; \n",
    "          Real m_31; \n",
    "          Real m_32; \n",
    "          Real m_33;  \n",
    "      };\n",
    "};\n",
    "\n",
    "```"
   ]
  },
  {
   "cell_type": "code",
   "execution_count": 1,
   "metadata": {},
   "outputs": [],
   "source": [
    "// You may need to modify these paths to suit\n",
    "#pragma cling add_library_path(\"$HOME/NGL/lib\")\n",
    "#ifdef __APPLE__\n",
    "    #pragma cling load(\"$HOME/NGL/lib/libNGL.dylib\")\n",
    "#else\n",
    "    #pragma cling load(\"$HOME/NGL/lib/libNGL.so\")\n",
    "#endif\n",
    "#pragma cling add_include_path(\"$HOME/NGL/include\")\n",
    "#pragma cling add_include_path(\"$HOME/NGL/gl3w\")"
   ]
  },
  {
   "cell_type": "code",
   "execution_count": 2,
   "metadata": {},
   "outputs": [],
   "source": [
    "#include <ngl/Vec4.h>\n",
    "#include <ngl/Mat4.h>\n",
    "#include <ngl/NGLStream.h> // for printing\n",
    "#include <iostream>\n"
   ]
  },
  {
   "cell_type": "markdown",
   "metadata": {},
   "source": [
    "To construct an ```ngl::Mat4``` we can do the following"
   ]
  },
  {
   "cell_type": "code",
   "execution_count": 3,
   "metadata": {},
   "outputs": [
    {
     "name": "stdout",
     "output_type": "stream",
     "text": [
      "default \n",
      "[1,0,0,0]\n",
      "[0,1,0,0]\n",
      "[0,0,1,0]\n",
      "[0,0,0,1]\n",
      "\n",
      "user \n",
      "[1,5,9,13]\n",
      "[2,6,10,14]\n",
      "[3,7,11,15]\n",
      "[4,8,12,16]\n",
      "\n",
      "scaleBy10 \n",
      "[10,0,0,0]\n",
      "[0,10,0,0]\n",
      "[0,0,10,0]\n",
      "[0,0,0,1]\n",
      "\n"
     ]
    }
   ],
   "source": [
    "{\n",
    "    ngl::Mat4 defaultCtor;\n",
    "    ngl::Mat4 user(1,2,3,4,5,6,7,8,9,10,11,12,13,14,15,16);\n",
    "    ngl::Mat4 scaleBy10(10.0f);\n",
    "    std::cout<<\"default \\n\"<<defaultCtor<<'\\n';\n",
    "    std::cout<<\"user \\n\"<<user<<'\\n';\n",
    "    std::cout<<\"scaleBy10 \\n\"<<scaleBy10<<'\\n';\n",
    "}"
   ]
  },
  {
   "cell_type": "markdown",
   "metadata": {},
   "source": [
    "All of the attributes in a Mat4 are public and can be accessed in the following ways"
   ]
  },
  {
   "cell_type": "code",
   "execution_count": 4,
   "metadata": {},
   "outputs": [
    {
     "name": "stdout",
     "output_type": "stream",
     "text": [
      "[99,-2,0,0]\n",
      "[8,1,0,0]\n",
      "[0,0,8.27,0]\n",
      "[100,0,0,99.27]\n",
      "\n"
     ]
    }
   ],
   "source": [
    "{\n",
    "    ngl::Mat4 m;\n",
    "    m.m_00=99.0f;\n",
    "    m.m_m[0][1]=8.0f;\n",
    "    m.m_10=-2.0f;\n",
    "    m.m_openGL[3]=100.0f;\n",
    "    m.m_22=8.27f;\n",
    "    m.m_33=99.27f;\n",
    "    \n",
    "    std::cout<<m<<'\\n';\n",
    "    \n",
    "}"
   ]
  },
  {
   "cell_type": "markdown",
   "metadata": {},
   "source": [
    "We can zero the matrix using the null() method."
   ]
  },
  {
   "cell_type": "code",
   "execution_count": 5,
   "metadata": {},
   "outputs": [
    {
     "name": "stdout",
     "output_type": "stream",
     "text": [
      "[1,0,0,0]\n",
      "[0,1,0,0]\n",
      "[0,0,1,0]\n",
      "[0,0,0,1]\n",
      "\n",
      "\n",
      "after null\n",
      "[0,0,0,0]\n",
      "[0,0,0,0]\n",
      "[0,0,0,0]\n",
      "[0,0,0,0]\n",
      "\n"
     ]
    }
   ],
   "source": [
    "{\n",
    "    ngl::Mat4 a;\n",
    "    std::cout<<a<<'\\n';\n",
    "    a.null();\n",
    "    std::cout<<\"\\nafter null\\n\"<<a<<'\\n';\n",
    "}"
   ]
  },
  {
   "cell_type": "markdown",
   "metadata": {},
   "source": [
    "We can reset a matrix to the [identity matrix](https://en.wikipedia.org/wiki/Identity_matrix) using the .identity() method. "
   ]
  },
  {
   "cell_type": "code",
   "execution_count": 6,
   "metadata": {},
   "outputs": [
    {
     "name": "stdout",
     "output_type": "stream",
     "text": [
      "[1,5,9,13]\n",
      "[2,6,10,14]\n",
      "[3,7,11,15]\n",
      "[4,8,12,16]\n",
      "\n",
      "\n",
      "after identity\n",
      "[1,0,0,0]\n",
      "[0,1,0,0]\n",
      "[0,0,1,0]\n",
      "[0,0,0,1]\n",
      "\n"
     ]
    }
   ],
   "source": [
    "{\n",
    "    auto m=ngl::Mat4{1.0f,2.0f,3.0f,4.0f,5.0f,6.0f,7.0f,8.0f,\n",
    "                     9.0f,10.0f,11.0f,12.0f,13.0f,14.0f,15.0f,16.0f};\n",
    "    std::cout<<m<<'\\n';\n",
    "    m.identity();\n",
    "    std::cout<<\"\\nafter identity\\n\"<<m<<'\\n';\n",
    "}"
   ]
  },
  {
   "cell_type": "markdown",
   "metadata": {},
   "source": [
    "### Transformations\n",
    "\n",
    "```ngl::Mat4``` has a number of transformation functions"
   ]
  },
  {
   "cell_type": "code",
   "execution_count": 7,
   "metadata": {},
   "outputs": [
    {
     "name": "stdout",
     "output_type": "stream",
     "text": [
      "[1,5,9,13]\n",
      "[2,6,10,14]\n",
      "[3,7,11,15]\n",
      "[4,8,12,16]\n",
      "\n",
      "transpose \n",
      "[1,2,3,4]\n",
      "[5,6,7,8]\n",
      "[9,10,11,12]\n",
      "[13,14,15,16]\n",
      "\n"
     ]
    }
   ],
   "source": [
    "{\n",
    "   ngl::Mat4 m{1.0f,2.0f,3.0f,4.0f,5.0f,6.0f,7.0f,8.0f,\n",
    "               9.0f,10.0f,11.0f,12.0f,13.0f,14.0f,15.0f,16.0f};\n",
    "   std::cout<<m<<'\\n';\n",
    "   m.transpose();\n",
    "   std::cout<<\"transpose \\n\" <<m<<'\\n';\n",
    "}"
   ]
  },
  {
   "cell_type": "markdown",
   "metadata": {},
   "source": [
    "We can set the matrix to be a scale matrix using the scale method;"
   ]
  },
  {
   "cell_type": "code",
   "execution_count": 8,
   "metadata": {},
   "outputs": [
    {
     "name": "stdout",
     "output_type": "stream",
     "text": [
      "[0.5,0,0,0]\n",
      "[0,0.3,0,0]\n",
      "[0,0,0.2,0]\n",
      "[0,0,0,1]\n",
      "\n"
     ]
    }
   ],
   "source": [
    "{\n",
    "    ngl::Mat4 scale;\n",
    "    scale.scale(0.5f,0.3f,0.2f);\n",
    "    std::cout<<scale<<'\\n';\n",
    "}"
   ]
  },
  {
   "cell_type": "markdown",
   "metadata": {},
   "source": [
    "And create a simple rotation matrix by calling the rotate method passing in the rotation in degrees.\n",
    "\n",
    "$$\n",
    "R_x(\\beta)=\\begin{pmatrix}\n",
    "1 & 0 & 0 & 0 \\\\\\\n",
    "0 & \\cos(\\beta) & -\\sin(\\beta) & 0 \\\\\\\n",
    "0 & \\sin(\\beta) & \\cos(\\beta) & 0 \\\\\\\n",
    "0 & 0 & 0 & 1 \n",
    "\\end{pmatrix}\n",
    "$$ \n",
    "\n",
    "```c++\n",
    "void Mat4::rotateX( const Real _deg) noexcept\n",
    "{\n",
    "  Real beta=radians(_deg);\n",
    "  Real sr = sinf( beta );\n",
    "  Real cr = cosf( beta );\n",
    "  m_11 =  cr;\n",
    "  m_21 = -sr;\n",
    "  m_12 =  sr;\n",
    "  m_22 =  cr;\n",
    "}\n",
    "```\n",
    "\n",
    "$$\n",
    "R_y(\\beta)=\\begin{pmatrix}\n",
    "\\cos(\\beta) & 0 & \\sin(\\beta) & 0 \\\\\\\n",
    "0 & 1 & 0 & 0  \\\\\\\n",
    "-\\sin(\\beta) & 0 & \\cos(\\beta) & 0 \\\\\\\n",
    "0 & 0 & 0 & 1 \n",
    "\\end{pmatrix}\n",
    "$$ \n",
    "\n",
    "```c++\n",
    "void Mat4::rotateY( const Real _deg ) noexcept\n",
    "{\n",
    "  Real beta=radians(_deg);\n",
    "  Real sr = sinf( beta );\n",
    "  Real cr = cosf( beta );\n",
    "  m_00 =  cr;\n",
    "  m_20 =  sr;\n",
    "  m_02 = -sr;\n",
    "  m_22 =  cr;\n",
    "}\n",
    "```\n",
    "\n",
    "$$\n",
    "R_z(\\beta)=\\begin{pmatrix}\n",
    "\\cos(\\beta) & -\\sin(\\beta) & 0 & 0 \\\\\\\n",
    "\\sin(\\beta) &  \\cos(\\beta) & 0 & 0 \\\\\\\n",
    "0 & 0 & 1 & 0 \\\\\\\n",
    "0 & 0 & 0 & 1 \n",
    "\\end{pmatrix}\n",
    "$$ \n",
    "\n",
    "```c++\n",
    "void Mat4::rotateZ(const Real _deg ) noexcept\n",
    "{\n",
    "  Real beta=radians(_deg);\n",
    "  Real sr = sinf( beta );\n",
    "  Real cr = cosf( beta );\n",
    "  m_00 =  cr;\n",
    "  m_10 = -sr;\n",
    "  m_01 =  sr;\n",
    "  m_11 =  cr;\n",
    "}\n",
    "```"
   ]
  },
  {
   "cell_type": "code",
   "execution_count": 9,
   "metadata": {},
   "outputs": [
    {
     "name": "stdout",
     "output_type": "stream",
     "text": [
      "[1,0,0,0]\n",
      "[0,0.819152,-0.573577,0]\n",
      "[0,0.573577,0.819152,0]\n",
      "[0,0,0,1]\n",
      "\n",
      "[0.906308,0,0.422618,0]\n",
      "[0,0.819152,-0.573577,0]\n",
      "[-0.422618,0.573577,0.906308,0]\n",
      "[0,0,0,1]\n",
      "\n",
      "[0.0871558,-0.996195,0.422618,0]\n",
      "[0.996195,0.0871558,-0.573577,0]\n",
      "[-0.422618,0.573577,0.906308,0]\n",
      "[0,0,0,1]\n",
      "\n"
     ]
    }
   ],
   "source": [
    "{\n",
    "    auto tx=ngl::Mat4();\n",
    "    tx.rotateX(35.0f);\n",
    "    std::cout<<tx<<'\\n';\n",
    "    tx.rotateY(25.0f);\n",
    "    std::cout<<tx<<'\\n';\n",
    "    tx.rotateZ(85.0f);\n",
    "    std::cout<<tx<<'\\n';\n",
    "    \n",
    "}"
   ]
  },
  {
   "cell_type": "markdown",
   "metadata": {},
   "source": [
    "Typically we will combine a series of rolls and scales."
   ]
  },
  {
   "cell_type": "code",
   "execution_count": 24,
   "metadata": {},
   "outputs": [
    {
     "name": "stdout",
     "output_type": "stream",
     "text": [
      "[0.194885,0.0017086,0.0449097,0.2]\n",
      "[0.0170502,0.182103,-0.0809174,1]\n",
      "[-0.0415823,0.0826766,0.177301,2]\n",
      "[0,0,0,1]\n",
      "\n"
     ]
    }
   ],
   "source": [
    "{\n",
    "    ngl::Mat4 rx,ry,rz,scale,translate;\n",
    "    rx.rotateX(25.0f);\n",
    "    ry.rotateY(12.0f);\n",
    "    rz.rotateZ(5.0f);\n",
    "    scale.scale(0.2f,0.2f,0.2f);\n",
    "    translate.translate(0.2,1.0f,2.0f);\n",
    "    auto tx=scale*rz*ry*rx;\n",
    "    tx.m_m[3][0]=translate.m_30;\n",
    "    tx.m_m[3][1]=translate.m_31;\n",
    "    tx.m_m[3][2]=translate.m_32; // easier to set tx manually\n",
    "    std::cout<<tx<<'\\n';\n",
    "}"
   ]
  },
  {
   "cell_type": "markdown",
   "metadata": {},
   "source": [
    "We can also do [Euler rotations](https://en.wikipedia.org/wiki/Euler_angles) around an axis. "
   ]
  },
  {
   "cell_type": "code",
   "execution_count": 11,
   "metadata": {},
   "outputs": [
    {
     "name": "stdout",
     "output_type": "stream",
     "text": [
      "[1,0,0,0]\n",
      "[0,0.707107,-0.707107,0]\n",
      "[0,0.707107,0.707107,0]\n",
      "[0,0,0,1]\n",
      "\n",
      "[-4.37114e-08,0,1,0]\n",
      "[0,1,0,0]\n",
      "[-1,0,-4.37114e-08,0]\n",
      "[0,0,0,1]\n",
      "\n",
      "[0.939693,-0.34202,0,0]\n",
      "[0.34202,0.939693,0,0]\n",
      "[0,0,1,0]\n",
      "[0,0,0,1]\n",
      "\n"
     ]
    }
   ],
   "source": [
    "{\n",
    "    ngl::Mat4 rotX;\n",
    "    rotX.euler(45.0f,1,0,0);\n",
    "    std::cout<<rotX<<'\\n';\n",
    "    ngl::Mat4 rotY;\n",
    "    rotY.euler(90.0f,0,1,0);\n",
    "    std::cout<<rotY<<'\\n';\n",
    "    ngl::Mat4 rotZ;\n",
    "    rotZ.euler(20.0f,0,0,1);\n",
    "    std::cout<<rotZ<<'\\n';\n",
    "\n",
    "}"
   ]
  },
  {
   "cell_type": "markdown",
   "metadata": {},
   "source": [
    "## Matrix math operations\n",
    "\n",
    "Standard matrix math operations are available via operator overloading."
   ]
  },
  {
   "cell_type": "code",
   "execution_count": 12,
   "metadata": {},
   "outputs": [
    {
     "name": "stdout",
     "output_type": "stream",
     "text": [
      "[0.2,1,1.8,13]\n",
      "[0.4,1.2,2,14]\n",
      "[0.6,1.4,2.2,15]\n",
      "[0.8,1.6,2.4,16]\n",
      "\n"
     ]
    }
   ],
   "source": [
    "{\n",
    "    ngl::Mat4 a(1.0f,2.0f,3.0f,4.0f,5.0f,6.0f,7.0f,8.0f,9.0f,\n",
    "                10.0f,11.0f,12.0f,13.0f,14.0f,15.0f,16.0f);\n",
    "    ngl::Mat4 b(0.2f);\n",
    "    auto result=a*b;\n",
    "    std::cout<<result<<'\\n';  \n",
    "}"
   ]
  },
  {
   "cell_type": "code",
   "execution_count": 13,
   "metadata": {},
   "outputs": [
    {
     "name": "stdout",
     "output_type": "stream",
     "text": [
      "[0.2,1,1.8,13]\n",
      "[0.4,1.2,2,14]\n",
      "[0.6,1.4,2.2,15]\n",
      "[0.8,1.6,2.4,16]\n",
      "\n"
     ]
    }
   ],
   "source": [
    "{\n",
    "    ngl::Mat4 a{1.0f,2.0f,3.0f,4.0f,5.0f,6.0f,7.0f,8.0f,9.0f,\n",
    "                10.0f,11.0f,12.0f,13.0f,14.0f,15.0f,16.0f};\n",
    "    ngl::Mat4 b(0.2f);\n",
    "    a*=b;\n",
    "    std::cout<<a<<'\\n';\n",
    "}"
   ]
  },
  {
   "cell_type": "code",
   "execution_count": 14,
   "metadata": {},
   "outputs": [
    {
     "name": "stdout",
     "output_type": "stream",
     "text": [
      "[18,26,34,42]\n",
      "[20,28,36,44]\n",
      "[22,30,38,46]\n",
      "[24,32,40,48]\n",
      "\n"
     ]
    }
   ],
   "source": [
    "{\n",
    "    ngl::Mat4 a{1.0f,2.0f,3.0f,4.0f,5.0f,6.0f,7.0f,8.0f,9.0f,\n",
    "                10.0f,11.0f,12.0f,13.0f,14.0f,15.0f,16.0f};\n",
    "    ngl::Mat4 b{17.0f,18.0f,19.0f,20.0f,21.0f,22.0f,23.0f,24.0f,\n",
    "                25.0f,26.0f,27.0f,28.0f,29.0f,30.0f,31.0f,32.0f};\n",
    "    auto result=a+b;\n",
    "    std::cout<<result<<'\\n';\n",
    "}"
   ]
  },
  {
   "cell_type": "code",
   "execution_count": 15,
   "metadata": {},
   "outputs": [
    {
     "name": "stdout",
     "output_type": "stream",
     "text": [
      "[18,26,34,42]\n",
      "[20,28,36,44]\n",
      "[22,30,38,46]\n",
      "[24,32,40,48]\n",
      "\n"
     ]
    }
   ],
   "source": [
    "{\n",
    "    ngl::Mat4 a{1.0f,2.0f,3.0f,4.0f,5.0f,6.0f,7.0f,8.0f,9.0f,\n",
    "                10.0f,11.0f,12.0f,13.0f,14.0f,15.0f,16.0f};\n",
    "    ngl::Mat4 b{17.0f,18.0f,19.0f,20.0f,21.0f,22.0f,23.0f,24.0f,\n",
    "                25.0f,26.0f,27.0f,28.0f,29.0f,30.0f,31.0f,32.0f};\n",
    "    a+=b;\n",
    "    std::cout<<a<<'\\n';\n",
    "}"
   ]
  },
  {
   "cell_type": "markdown",
   "metadata": {},
   "source": [
    "We can multiply each matrix element by a scalar"
   ]
  },
  {
   "cell_type": "code",
   "execution_count": 16,
   "metadata": {},
   "outputs": [
    {
     "name": "stdout",
     "output_type": "stream",
     "text": [
      "[0.5,2.5,4.5,6.5]\n",
      "[1,3,5,7]\n",
      "[1.5,3.5,5.5,7.5]\n",
      "[2,4,6,8]\n",
      "\n",
      "[0.2,1,1.8,2.6]\n",
      "[0.4,1.2,2,2.8]\n",
      "[0.6,1.4,2.2,3]\n",
      "[0.8,1.6,2.4,3.2]\n",
      "\n"
     ]
    }
   ],
   "source": [
    "{\n",
    "    ngl::Mat4 a{1.0f,2.0f,3.0f,4.0f,5.0f,6.0f,7.0f,8.0f,9.0f,\n",
    "                10.0f,11.0f,12.0f,13.0f,14.0f,15.0f,16.0f};\n",
    "    \n",
    "    auto b=a*0.5f;\n",
    "    std::cout<<b<<'\\n';\n",
    "    a*=0.2f;\n",
    "    std::cout<<a<<'\\n';\n",
    "}"
   ]
  },
  {
   "cell_type": "markdown",
   "metadata": {},
   "source": [
    "We can also multiply and ```ngl::Vec4``` by a ```ngl::Mat4```"
   ]
  },
  {
   "cell_type": "code",
   "execution_count": 17,
   "metadata": {},
   "outputs": [
    {
     "name": "stdout",
     "output_type": "stream",
     "text": [
      "[0.194885,0.0017086,0.0449097,0]\n",
      "[0.0170502,0.182103,-0.0809174,0]\n",
      "[-0.0415823,0.0826766,0.177301,0]\n",
      "[0,0,0,1]\n",
      "\n",
      "p1 * tx = [0.091528,0.0202686,0.437278,1]\n",
      "p1 * tx =[-0.0661144,0.347457,0.273684,1]\n"
     ]
    }
   ],
   "source": [
    "{\n",
    "    ngl::Vec4 p1{0.0f,1.0f,2.0f};\n",
    "    ngl::Mat4 rx,ry,rz,scale;\n",
    "    rx.rotateX(25.0f);\n",
    "    ry.rotateY(12.0f);\n",
    "    rz.rotateZ(5.0f);\n",
    "    scale.scale(0.2f,0.2f,0.2f);\n",
    "    auto tx=scale*rz*ry*rx;\n",
    "    std::cout<<tx<<'\\n';\n",
    "\n",
    "    std::cout<<\"p1 * tx = \"<<tx*p1<<'\\n';\n",
    "    std::cout<<\"p1 * tx =\"<<p1*tx<<'\\n';\n",
    "}"
   ]
  },
  {
   "cell_type": "markdown",
   "metadata": {},
   "source": [
    "The [determinant](https://en.wikipedia.org/wiki/Determinant) of the matrix can be calculated with the determinant() method"
   ]
  },
  {
   "cell_type": "code",
   "execution_count": 18,
   "metadata": {},
   "outputs": [
    {
     "name": "stdout",
     "output_type": "stream",
     "text": [
      "[1,0,0,0]\n",
      "[0,2,-0.5,0]\n",
      "[0,2,2,0]\n",
      "[0,0,0,1]\n",
      "\n",
      "5\n"
     ]
    }
   ],
   "source": [
    "{\n",
    "    ngl::Mat4 test(1,0,0,0,0,2,2,0,0,-0.5,2,0,0,0,0,1);\n",
    "    float det=test.determinant(); \n",
    "    std::cout<<test<<'\\n'<<det<<'\\n';\n",
    "}"
   ]
  },
  {
   "cell_type": "markdown",
   "metadata": {},
   "source": [
    "The [inverse](http://mathworld.wolfram.com/MatrixInverse.html) of the matrix"
   ]
  },
  {
   "cell_type": "code",
   "execution_count": 19,
   "metadata": {},
   "outputs": [
    {
     "name": "stdout",
     "output_type": "stream",
     "text": [
      "[1,0,0,0]\n",
      "[0,0.4,0.1,0]\n",
      "[0,-0.4,0.4,0]\n",
      "[0,0,0,1]\n",
      "\n"
     ]
    }
   ],
   "source": [
    "{\n",
    "    ngl::Mat4 test(1,0,0,0,0,2,2,0,0,-0.5,2,0,0,0,0,1);\n",
    "    test=test.inverse();\n",
    "    std::cout<<test<<'\\n';\n",
    "}"
   ]
  },
  {
   "cell_type": "markdown",
   "metadata": {},
   "source": [
    "The [adjacent](https://en.wikipedia.org/wiki/Adjugate_matrix) of the matrix"
   ]
  },
  {
   "cell_type": "code",
   "execution_count": 20,
   "metadata": {},
   "outputs": [
    {
     "name": "stdout",
     "output_type": "stream",
     "text": [
      "[5,0,0,0]\n",
      "[0,2,-2,0]\n",
      "[0,0.5,2,0]\n",
      "[0,0,0,5]\n",
      "\n"
     ]
    }
   ],
   "source": [
    "{\n",
    "  ngl::Mat4 test(1,0,0,0,0,2,2,0,0,-0.5,2,0,0,0,0,1);\n",
    "  test=test.adjacent();\n",
    "  std::cout<<test<<'\\n';\n",
    "}"
   ]
  },
  {
   "cell_type": "code",
   "execution_count": 21,
   "metadata": {},
   "outputs": [
    {
     "name": "stdout",
     "output_type": "stream",
     "text": [
      "[0.819152,0,0.573577,0]\n",
      "[0,1,0,0]\n",
      "[-0.573577,0,0.819152,0]\n",
      "[0,0,0,1]\n",
      "\n"
     ]
    }
   ],
   "source": [
    "{\n",
    "    ngl::Mat4 t1;\n",
    "    ngl::Mat4 t2;\n",
    "    t1.rotateX(45.0f);\n",
    "    t2.rotateY(35.0f);\n",
    "    ngl::Mat4 test=t1.adjacent(t2);\n",
    "    std::cout<<test<<'\\n';\n",
    "}"
   ]
  },
  {
   "cell_type": "code",
   "execution_count": null,
   "metadata": {},
   "outputs": [],
   "source": []
  }
 ],
 "metadata": {
  "kernelspec": {
   "display_name": "C++17",
   "language": "C++17",
   "name": "xeus-cling-cpp17"
  },
  "language_info": {
   "codemirror_mode": "text/x-c++src",
   "file_extension": ".cpp",
   "mimetype": "text/x-c++src",
   "name": "c++",
   "version": "-std=c++17"
  }
 },
 "nbformat": 4,
 "nbformat_minor": 2
}
