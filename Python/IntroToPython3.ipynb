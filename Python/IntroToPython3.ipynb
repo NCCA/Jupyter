{
 "cells": [
  {
   "cell_type": "markdown",
   "id": "4ea25453",
   "metadata": {},
   "source": [
    "# Introduction to Python 3\n",
    "\n",
    "- Python is a dynamically typed language, this means that variable values are checked at run-time (sometimes known as “lazy binding”).\n",
    "- All variables in Python hold references to objects, and these references are passed to functions by value.\n",
    "- Python has 5 standard data types\n",
    "  - numbers, string, list, tuple, dictionary\n",
    "\n",
    "## Numbers\n",
    "\n",
    "- Python supports four different numerical types:\n",
    "  - int (signed integers)\n",
    "  - long (long integers [can also be represented in octal and hexadecimal]) \n",
    "    - note long is removed in python 3 and int should be used\n",
    "  - float (floating point real values)\n",
    "  - complex (complex numbers)\n"
   ]
  },
  {
   "cell_type": "code",
   "execution_count": 1,
   "id": "c6735a50",
   "metadata": {},
   "outputs": [
    {
     "name": "stdout",
     "output_type": "stream",
     "text": [
      "<class 'int'>\n",
      "<class 'float'>\n",
      "<class 'complex'>\n"
     ]
    }
   ],
   "source": [
    "a=1\n",
    "b=1.2\n",
    "c=4+5j\n",
    "\n",
    "print(type(a))\n",
    "print(type(b))\n",
    "print(type(c))\n"
   ]
  },
  {
   "cell_type": "markdown",
   "id": "d2c7ba4a",
   "metadata": {},
   "source": [
    "- The [type()](https://docs.python.org/3/library/functions.html#type) function returns the type of the specified object"
   ]
  },
  {
   "cell_type": "markdown",
   "id": "ad521f61",
   "metadata": {},
   "source": [
    "## [operations on numbers](https://docs.python.org/3/library/stdtypes.html#typesnumeric)\n",
    "\n",
    "| operation | Result |\n",
    "|--------|-------|\n",
    "| ``` x+y``` | sum of x and y |\n",
    "| ``` x-y``` | difference of x and y |\n",
    "| ``` x*y``` | product of x and y |\n",
    "| ``` x/y``` | quotient of x and y |\n",
    "| ``` x//y``` | floored quotient of x and y |\n",
    "| ``` -x``` | x negated |\n",
    "| ``` +x``` | x unchanged |\n",
    "| ``` x**y``` | x to the power y |\n"
   ]
  },
  {
   "cell_type": "code",
   "execution_count": 2,
   "id": "d1d94ae1",
   "metadata": {},
   "outputs": [
    {
     "name": "stdout",
     "output_type": "stream",
     "text": [
      "x+y=7\n",
      "x-y=-3\n",
      "x*y=10\n",
      "x/y=0.4\n",
      "x//y=0\n",
      "-x=-2\n",
      "+x=2\n",
      "x**y=32\n"
     ]
    }
   ],
   "source": [
    "# modify x and y for different numeric types\n",
    "x=2\n",
    "y=5\n",
    "print(f'x+y={x+y}')\n",
    "print(f'x-y={x-y}')\n",
    "print(f'x*y={x*y}')\n",
    "print(f'x/y={x/y}')\n",
    "print(f'x//y={x//y}')\n",
    "print(f'-x={-x}')\n",
    "print(f'+x={+x}')\n",
    "print(f'x**y={x**y}')\n"
   ]
  },
  {
   "cell_type": "markdown",
   "id": "1bec2224",
   "metadata": {},
   "source": [
    "# [.format](https://docs.python.org/3/tutorial/inputoutput.html)\n",
    "\n",
    "- The string format function replaces the ```{}``` placeholders with variables\n",
    "\n",
    "```\n",
    "print('{} {} {}'.format(1,a,b))\n",
    "```\n",
    "\n",
    "\n",
    "- Python 3.8 gives us a new syntax (which we will by using by default as shown above\n",
    "\n",
    "\n",
    "```\n",
    "print(f'{1} {a} {b}')\n",
    "```\n",
    "\n",
    "## [int](https://docs.python.org/3/library/stdtypes.html#typesnumeric)\n",
    "\n",
    "- In Python, integers are zero, positive or negative whole numbers without a fractional part and having unlimited precision\n",
    "- Python 3 has unlimited size for integers\n",
    "- Python 2 used two types normal and long there may still be legacy code around for this in some cases\n",
    "\n",
    "```\n",
    "# python 2\n",
    ">>> 2/3\n",
    "0\n",
    "\n",
    "# python 3\n",
    ">>> 2/3\n",
    "0.6666666666666666\n",
    "```\n",
    "\n",
    "## Floating Point (Real) numbers\n",
    "\n",
    "- To represent fractions we use floating point numbers\n",
    "- we need to be explicit"
   ]
  },
  {
   "cell_type": "code",
   "execution_count": 3,
   "id": "da422a49",
   "metadata": {},
   "outputs": [
    {
     "name": "stdout",
     "output_type": "stream",
     "text": [
      "<class 'int'>\n",
      "<class 'float'>\n",
      "<class 'float'>\n"
     ]
    }
   ],
   "source": [
    "a=1\n",
    "b=1.0\n",
    "c=float(1)\n",
    "\n",
    "print(type(a))\n",
    "print(type(b))\n",
    "print(type(c))"
   ]
  },
  {
   "cell_type": "markdown",
   "id": "6f3fdd40",
   "metadata": {},
   "source": [
    "## Floats can be problematic\n"
   ]
  }
 ],
 "metadata": {
  "kernelspec": {
   "display_name": "Python 3 (ipykernel)",
   "language": "python",
   "name": "python3"
  },
  "language_info": {
   "codemirror_mode": {
    "name": "ipython",
    "version": 3
   },
   "file_extension": ".py",
   "mimetype": "text/x-python",
   "name": "python",
   "nbconvert_exporter": "python",
   "pygments_lexer": "ipython3",
   "version": "3.9.12"
  }
 },
 "nbformat": 4,
 "nbformat_minor": 5
}
